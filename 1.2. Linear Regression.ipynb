{
 "cells": [
  {
   "cell_type": "code",
   "execution_count": 1,
   "id": "e0016fe0-5402-44cc-bbc2-216942caa6ed",
   "metadata": {},
   "outputs": [],
   "source": [
    "import pandas as pd\n",
    "import numpy as np\n",
    "import matplotlib.pyplot as plt"
   ]
  },
  {
   "cell_type": "code",
   "execution_count": 2,
   "id": "6e2d4f0f-00af-4d6f-8ea5-d7a02ddf90e4",
   "metadata": {},
   "outputs": [
    {
     "data": {
      "text/html": [
       "<div>\n",
       "<style scoped>\n",
       "    .dataframe tbody tr th:only-of-type {\n",
       "        vertical-align: middle;\n",
       "    }\n",
       "\n",
       "    .dataframe tbody tr th {\n",
       "        vertical-align: top;\n",
       "    }\n",
       "\n",
       "    .dataframe thead th {\n",
       "        text-align: right;\n",
       "    }\n",
       "</style>\n",
       "<table border=\"1\" class=\"dataframe\">\n",
       "  <thead>\n",
       "    <tr style=\"text-align: right;\">\n",
       "      <th></th>\n",
       "      <th>YearsExperience</th>\n",
       "      <th>Salary</th>\n",
       "    </tr>\n",
       "  </thead>\n",
       "  <tbody>\n",
       "    <tr>\n",
       "      <th>0</th>\n",
       "      <td>1.1</td>\n",
       "      <td>39343.0</td>\n",
       "    </tr>\n",
       "    <tr>\n",
       "      <th>1</th>\n",
       "      <td>1.3</td>\n",
       "      <td>46205.0</td>\n",
       "    </tr>\n",
       "    <tr>\n",
       "      <th>2</th>\n",
       "      <td>1.5</td>\n",
       "      <td>37731.0</td>\n",
       "    </tr>\n",
       "    <tr>\n",
       "      <th>3</th>\n",
       "      <td>2.0</td>\n",
       "      <td>43525.0</td>\n",
       "    </tr>\n",
       "    <tr>\n",
       "      <th>4</th>\n",
       "      <td>2.2</td>\n",
       "      <td>39891.0</td>\n",
       "    </tr>\n",
       "  </tbody>\n",
       "</table>\n",
       "</div>"
      ],
      "text/plain": [
       "   YearsExperience   Salary\n",
       "0              1.1  39343.0\n",
       "1              1.3  46205.0\n",
       "2              1.5  37731.0\n",
       "3              2.0  43525.0\n",
       "4              2.2  39891.0"
      ]
     },
     "execution_count": 2,
     "metadata": {},
     "output_type": "execute_result"
    }
   ],
   "source": [
    "df = pd.read_csv(\"Salary_Data.csv\")\n",
    "df.head()"
   ]
  },
  {
   "cell_type": "code",
   "execution_count": 3,
   "id": "a629dd32-fc47-42a8-8885-b0f22b72204f",
   "metadata": {},
   "outputs": [],
   "source": [
    "X = df['YearsExperience'].values.reshape(-1,1) # input\n",
    "Y =  df['Salary'].values"
   ]
  },
  {
   "cell_type": "code",
   "execution_count": 4,
   "id": "de302cef-0e6f-4213-af74-f0b28848eb2b",
   "metadata": {},
   "outputs": [
    {
     "data": {
      "text/plain": [
       "(30, 1)"
      ]
     },
     "execution_count": 4,
     "metadata": {},
     "output_type": "execute_result"
    }
   ],
   "source": [
    "X.shape"
   ]
  },
  {
   "cell_type": "code",
   "execution_count": 5,
   "id": "411c22d5-157e-438e-9b3f-58119af49677",
   "metadata": {},
   "outputs": [
    {
     "data": {
      "text/plain": [
       "(30,)"
      ]
     },
     "execution_count": 5,
     "metadata": {},
     "output_type": "execute_result"
    }
   ],
   "source": [
    "Y.shape"
   ]
  },
  {
   "cell_type": "code",
   "execution_count": 6,
   "id": "a9ff535a-60b6-4566-a833-6fa33417db71",
   "metadata": {},
   "outputs": [],
   "source": [
    "from sklearn.model_selection import train_test_split\n",
    "x_train,x_test,y_train,y_test =  train_test_split(X,Y,test_size=0.3,random_state=1)"
   ]
  },
  {
   "cell_type": "code",
   "execution_count": 7,
   "id": "03f0c0b2-3e43-4499-a6a1-a185e2d62f9e",
   "metadata": {},
   "outputs": [
    {
     "data": {
      "text/plain": [
       "(21, 1)"
      ]
     },
     "execution_count": 7,
     "metadata": {},
     "output_type": "execute_result"
    }
   ],
   "source": [
    "x_train.shape"
   ]
  },
  {
   "cell_type": "code",
   "execution_count": 8,
   "id": "e0609e52-cb23-4311-915f-6fd7171cc4bb",
   "metadata": {},
   "outputs": [
    {
     "data": {
      "text/plain": [
       "(9, 1)"
      ]
     },
     "execution_count": 8,
     "metadata": {},
     "output_type": "execute_result"
    }
   ],
   "source": [
    "x_test.shape"
   ]
  },
  {
   "cell_type": "code",
   "execution_count": 9,
   "id": "ce7ecf33-faec-4f56-8f4a-d8d6666dc36e",
   "metadata": {},
   "outputs": [
    {
     "data": {
      "image/png": "[encoded data removed]",
      "text/plain": [
       "<Figure size 640x480 with 1 Axes>"
      ]
     },
     "metadata": {},
     "output_type": "display_data"
    }
   ],
   "source": [
    "plt.scatter(x_train,y_train)\n",
    "plt.xlabel(\"Experience\")\n",
    "plt.ylabel(\"Salary\")\n",
    "plt.title(\"predict salary from experience\")\n",
    "plt.show()"
   ]
  },
  {
   "cell_type": "code",
   "execution_count": 10,
   "id": "e64f1c28-69ae-4b33-9423-3eb4669e3daa",
   "metadata": {},
   "outputs": [
    {
     "data": {
      "text/plain": [
       "YearsExperience    0\n",
       "Salary             0\n",
       "dtype: int64"
      ]
     },
     "execution_count": 10,
     "metadata": {},
     "output_type": "execute_result"
    }
   ],
   "source": [
    "df.isna().sum()"
   ]
  },
  {
   "cell_type": "code",
   "execution_count": 11,
   "id": "79b7fd14-cfba-43fe-ba4c-f9d38f12e852",
   "metadata": {},
   "outputs": [
    {
     "data": {
      "text/plain": [
       "YearsExperience    0\n",
       "Salary             0\n",
       "dtype: int64"
      ]
     },
     "execution_count": 11,
     "metadata": {},
     "output_type": "execute_result"
    }
   ],
   "source": [
    "df.isnull().sum()"
   ]
  },
  {
   "cell_type": "code",
   "execution_count": 12,
   "id": "6ed146ae-c25a-4bd3-aa12-4fa095ebb6ac",
   "metadata": {},
   "outputs": [],
   "source": [
    "data = np.array([1,2,3,np.nan,4]).reshape(-1,1)"
   ]
  },
  {
   "cell_type": "code",
   "execution_count": 13,
   "id": "0e0fc5c3-285e-4a81-8b93-e40be72af650",
   "metadata": {},
   "outputs": [
    {
     "data": {
      "text/plain": [
       "array([[ 1.],\n",
       "       [ 2.],\n",
       "       [ 3.],\n",
       "       [nan],\n",
       "       [ 4.]])"
      ]
     },
     "execution_count": 13,
     "metadata": {},
     "output_type": "execute_result"
    }
   ],
   "source": [
    "data"
   ]
  },
  {
   "cell_type": "code",
   "execution_count": 14,
   "id": "e16265dc-dc32-4c1e-abc2-346135e370c9",
   "metadata": {},
   "outputs": [
    {
     "data": {
      "text/html": [
       "<div>\n",
       "<style scoped>\n",
       "    .dataframe tbody tr th:only-of-type {\n",
       "        vertical-align: middle;\n",
       "    }\n",
       "\n",
       "    .dataframe tbody tr th {\n",
       "        vertical-align: top;\n",
       "    }\n",
       "\n",
       "    .dataframe thead th {\n",
       "        text-align: right;\n",
       "    }\n",
       "</style>\n",
       "<table border=\"1\" class=\"dataframe\">\n",
       "  <thead>\n",
       "    <tr style=\"text-align: right;\">\n",
       "      <th></th>\n",
       "      <th>0</th>\n",
       "    </tr>\n",
       "  </thead>\n",
       "  <tbody>\n",
       "    <tr>\n",
       "      <th>0</th>\n",
       "      <td>1.0</td>\n",
       "    </tr>\n",
       "    <tr>\n",
       "      <th>1</th>\n",
       "      <td>2.0</td>\n",
       "    </tr>\n",
       "    <tr>\n",
       "      <th>2</th>\n",
       "      <td>3.0</td>\n",
       "    </tr>\n",
       "    <tr>\n",
       "      <th>3</th>\n",
       "      <td>NaN</td>\n",
       "    </tr>\n",
       "    <tr>\n",
       "      <th>4</th>\n",
       "      <td>4.0</td>\n",
       "    </tr>\n",
       "  </tbody>\n",
       "</table>\n",
       "</div>"
      ],
      "text/plain": [
       "     0\n",
       "0  1.0\n",
       "1  2.0\n",
       "2  3.0\n",
       "3  NaN\n",
       "4  4.0"
      ]
     },
     "execution_count": 14,
     "metadata": {},
     "output_type": "execute_result"
    }
   ],
   "source": [
    "d1 = pd.DataFrame(data)\n",
    "d1"
   ]
  },
  {
   "cell_type": "code",
   "execution_count": 15,
   "id": "3966c817-2d6e-4303-85ce-cce39ad9cee5",
   "metadata": {},
   "outputs": [
    {
     "data": {
      "text/plain": [
       "0    2.5\n",
       "dtype: float64"
      ]
     },
     "execution_count": 15,
     "metadata": {},
     "output_type": "execute_result"
    }
   ],
   "source": [
    "pd.DataFrame(data).mean()"
   ]
  },
  {
   "cell_type": "code",
   "execution_count": 16,
   "id": "33169976-7918-4efb-a177-28af0edbd28d",
   "metadata": {},
   "outputs": [],
   "source": [
    "d1.fillna(pd.DataFrame(data).mean(),inplace=True)"
   ]
  },
  {
   "cell_type": "code",
   "execution_count": 17,
   "id": "0b49a539-9d97-48d6-a661-f6a521ccdd46",
   "metadata": {},
   "outputs": [
    {
     "data": {
      "text/html": [
       "<div>\n",
       "<style scoped>\n",
       "    .dataframe tbody tr th:only-of-type {\n",
       "        vertical-align: middle;\n",
       "    }\n",
       "\n",
       "    .dataframe tbody tr th {\n",
       "        vertical-align: top;\n",
       "    }\n",
       "\n",
       "    .dataframe thead th {\n",
       "        text-align: right;\n",
       "    }\n",
       "</style>\n",
       "<table border=\"1\" class=\"dataframe\">\n",
       "  <thead>\n",
       "    <tr style=\"text-align: right;\">\n",
       "      <th></th>\n",
       "      <th>0</th>\n",
       "    </tr>\n",
       "  </thead>\n",
       "  <tbody>\n",
       "    <tr>\n",
       "      <th>0</th>\n",
       "      <td>1.0</td>\n",
       "    </tr>\n",
       "    <tr>\n",
       "      <th>1</th>\n",
       "      <td>2.0</td>\n",
       "    </tr>\n",
       "    <tr>\n",
       "      <th>2</th>\n",
       "      <td>3.0</td>\n",
       "    </tr>\n",
       "    <tr>\n",
       "      <th>3</th>\n",
       "      <td>2.5</td>\n",
       "    </tr>\n",
       "    <tr>\n",
       "      <th>4</th>\n",
       "      <td>4.0</td>\n",
       "    </tr>\n",
       "  </tbody>\n",
       "</table>\n",
       "</div>"
      ],
      "text/plain": [
       "     0\n",
       "0  1.0\n",
       "1  2.0\n",
       "2  3.0\n",
       "3  2.5\n",
       "4  4.0"
      ]
     },
     "execution_count": 17,
     "metadata": {},
     "output_type": "execute_result"
    }
   ],
   "source": [
    "d1"
   ]
  },
  {
   "cell_type": "code",
   "execution_count": 24,
   "id": "3b947bb5-35c4-4311-8372-8a20f152c96a",
   "metadata": {},
   "outputs": [
    {
     "data": {
      "text/plain": [
       "array([101302., 113812.,  39891.,  37731., 105582.,  60150.,  81363.,\n",
       "        57081.,  54445., 112635.,  46205.,  66029.,  39343.,  67938.,\n",
       "        57189.,  64445.,  56957.,  55794.,  56642.])"
      ]
     },
     "execution_count": 24,
     "metadata": {},
     "output_type": "execute_result"
    }
   ],
   "source": [
    "# remove outliers\n",
    "\n",
    "from sklearn.preprocessing import StandardScaler\n",
    "ss = StandardScaler()\n",
    "x_train[np.abs(ss.fit_transform(x_train))<1.7]\n",
    "y_train.reshape(-1,1)[np.abs(ss.fit_transform(x_train))<1.7]"
   ]
  },
  {
   "cell_type": "code",
   "execution_count": null,
   "id": "6629f4cb-9055-49d8-b590-4383b1390a7e",
   "metadata": {},
   "outputs": [],
   "source": [
    "# m = cov(x1,y)/var(x1)\n",
    "# c = mean(y) - m*mean(x1)"
   ]
  },
  {
   "cell_type": "code",
   "execution_count": 54,
   "id": "db78c50c-5989-4d08-a4c7-4cefefae3c5c",
   "metadata": {},
   "outputs": [
    {
     "data": {
      "text/plain": [
       "9202.233598254634"
      ]
     },
     "execution_count": 54,
     "metadata": {},
     "output_type": "execute_result"
    }
   ],
   "source": [
    "m = np.cov(x_train.reshape(1,-1), y_train.reshape(1,-1),  ddof = 0)[0,1]/np.cov(x_train.reshape(1,-1), y_train.reshape(1,-1),  ddof = 0)[0,0]\n",
    "m"
   ]
  },
  {
   "cell_type": "code",
   "execution_count": 55,
   "id": "1b376ea3-0353-47a5-b43b-d09ccb1b7f26",
   "metadata": {},
   "outputs": [
    {
     "data": {
      "text/plain": [
       "26049.57771544336"
      ]
     },
     "execution_count": 55,
     "metadata": {},
     "output_type": "execute_result"
    }
   ],
   "source": [
    "c = y_train.mean() - m * x_train.mean()\n",
    "c"
   ]
  },
  {
   "cell_type": "code",
   "execution_count": 57,
   "id": "b3e261ab-587e-4639-9c74-85161ec4f253",
   "metadata": {},
   "outputs": [
    {
     "data": {
      "image/png": "[encoded data removed]",
      "text/plain": [
       "<Figure size 640x480 with 1 Axes>"
      ]
     },
     "metadata": {},
     "output_type": "display_data"
    }
   ],
   "source": [
    "plt.plot(x_train,m*x_train+c)\n",
    "plt.xlabel(\"Experience\")\n",
    "plt.ylabel(\"Salary\")\n",
    "plt.title(\"predict salary from experience\")\n",
    "plt.show()"
   ]
  },
  {
   "cell_type": "code",
   "execution_count": 59,
   "id": "7d0d4063-613b-43e8-9ad3-b010c72937e7",
   "metadata": {},
   "outputs": [
    {
     "data": {
      "image/png": "[encoded data removed]",
      "text/plain": [
       "<Figure size 640x480 with 1 Axes>"
      ]
     },
     "metadata": {},
     "output_type": "display_data"
    }
   ],
   "source": [
    "plt.plot(x_train,m*x_train+c,\"red\")\n",
    "plt.scatter(x_test,y_test)\n",
    "plt.xlabel(\"Experience\")\n",
    "plt.ylabel(\"Salary\")\n",
    "plt.title(\"predict salary from experience\")\n",
    "plt.show()"
   ]
  },
  {
   "cell_type": "markdown",
   "id": "9f6e696c-c5df-4172-959b-f4cec8b04c0d",
   "metadata": {},
   "source": [
    "# Linear model"
   ]
  },
  {
   "cell_type": "code",
   "execution_count": 25,
   "id": "7a520602-d4cf-4718-81e4-d880ccb119bb",
   "metadata": {},
   "outputs": [
    {
     "data": {
      "text/html": [
       "<style>#sk-container-id-1 {color: black;background-color: white;}#sk-container-id-1 pre{padding: 0;}#sk-container-id-1 div.sk-toggleable {background-color: white;}#sk-container-id-1 label.sk-toggleable__label {cursor: pointer;display: block;width: 100%;margin-bottom: 0;padding: 0.3em;box-sizing: border-box;text-align: center;}#sk-container-id-1 label.sk-toggleable__label-arrow:before {content: \"▸\";float: left;margin-right: 0.25em;color: #696969;}#sk-container-id-1 label.sk-toggleable__label-arrow:hover:before {color: black;}#sk-container-id-1 div.sk-estimator:hover label.sk-toggleable__label-arrow:before {color: black;}#sk-container-id-1 div.sk-toggleable__content {max-height: 0;max-width: 0;overflow: hidden;text-align: left;background-color: #f0f8ff;}#sk-container-id-1 div.sk-toggleable__content pre {margin: 0.2em;color: black;border-radius: 0.25em;background-color: #f0f8ff;}#sk-container-id-1 input.sk-toggleable__control:checked~div.sk-toggleable__content {max-height: 200px;max-width: 100%;overflow: auto;}#sk-container-id-1 input.sk-toggleable__control:checked~label.sk-toggleable__label-arrow:before {content: \"▾\";}#sk-container-id-1 div.sk-estimator input.sk-toggleable__control:checked~label.sk-toggleable__label {background-color: #d4ebff;}#sk-container-id-1 div.sk-label input.sk-toggleable__control:checked~label.sk-toggleable__label {background-color: #d4ebff;}#sk-container-id-1 input.sk-hidden--visually {border: 0;clip: rect(1px 1px 1px 1px);clip: rect(1px, 1px, 1px, 1px);height: 1px;margin: -1px;overflow: hidden;padding: 0;position: absolute;width: 1px;}#sk-container-id-1 div.sk-estimator {font-family: monospace;background-color: #f0f8ff;border: 1px dotted black;border-radius: 0.25em;box-sizing: border-box;margin-bottom: 0.5em;}#sk-container-id-1 div.sk-estimator:hover {background-color: #d4ebff;}#sk-container-id-1 div.sk-parallel-item::after {content: \"\";width: 100%;border-bottom: 1px solid gray;flex-grow: 1;}#sk-container-id-1 div.sk-label:hover label.sk-toggleable__label {background-color: #d4ebff;}#sk-container-id-1 div.sk-serial::before {content: \"\";position: absolute;border-left: 1px solid gray;box-sizing: border-box;top: 0;bottom: 0;left: 50%;z-index: 0;}#sk-container-id-1 div.sk-serial {display: flex;flex-direction: column;align-items: center;background-color: white;padding-right: 0.2em;padding-left: 0.2em;position: relative;}#sk-container-id-1 div.sk-item {position: relative;z-index: 1;}#sk-container-id-1 div.sk-parallel {display: flex;align-items: stretch;justify-content: center;background-color: white;position: relative;}#sk-container-id-1 div.sk-item::before, #sk-container-id-1 div.sk-parallel-item::before {content: \"\";position: absolute;border-left: 1px solid gray;box-sizing: border-box;top: 0;bottom: 0;left: 50%;z-index: -1;}#sk-container-id-1 div.sk-parallel-item {display: flex;flex-direction: column;z-index: 1;position: relative;background-color: white;}#sk-container-id-1 div.sk-parallel-item:first-child::after {align-self: flex-end;width: 50%;}#sk-container-id-1 div.sk-parallel-item:last-child::after {align-self: flex-start;width: 50%;}#sk-container-id-1 div.sk-parallel-item:only-child::after {width: 0;}#sk-container-id-1 div.sk-dashed-wrapped {border: 1px dashed gray;margin: 0 0.4em 0.5em 0.4em;box-sizing: border-box;padding-bottom: 0.4em;background-color: white;}#sk-container-id-1 div.sk-label label {font-family: monospace;font-weight: bold;display: inline-block;line-height: 1.2em;}#sk-container-id-1 div.sk-label-container {text-align: center;}#sk-container-id-1 div.sk-container {/* jupyter's `normalize.less` sets `[hidden] { display: none; }` but bootstrap.min.css set `[hidden] { display: none !important; }` so we also need the `!important` here to be able to override the default hidden behavior on the sphinx rendered scikit-learn.org. See: https://github.com/scikit-learn/scikit-learn/issues/21755 */display: inline-block !important;position: relative;}#sk-container-id-1 div.sk-text-repr-fallback {display: none;}</style><div id=\"sk-container-id-1\" class=\"sk-top-container\"><div class=\"sk-text-repr-fallback\"><pre>LinearRegression()</pre><b>In a Jupyter environment, please rerun this cell to show the HTML representation or trust the notebook. <br />On GitHub, the HTML representation is unable to render, please try loading this page with nbviewer.org.</b></div><div class=\"sk-container\" hidden><div class=\"sk-item\"><div class=\"sk-estimator sk-toggleable\"><input class=\"sk-toggleable__control sk-hidden--visually\" id=\"sk-estimator-id-1\" type=\"checkbox\" checked><label for=\"sk-estimator-id-1\" class=\"sk-toggleable__label sk-toggleable__label-arrow\">LinearRegression</label><div class=\"sk-toggleable__content\"><pre>LinearRegression()</pre></div></div></div></div></div>"
      ],
      "text/plain": [
       "LinearRegression()"
      ]
     },
     "execution_count": 25,
     "metadata": {},
     "output_type": "execute_result"
    }
   ],
   "source": [
    "from sklearn.linear_model import LinearRegression\n",
    "lr = LinearRegression()\n",
    "lr.fit(x_train,y_train)"
   ]
  },
  {
   "cell_type": "code",
   "execution_count": 26,
   "id": "09ecb2ca-811e-4a09-85ef-a7558e1b0f15",
   "metadata": {},
   "outputs": [
    {
     "data": {
      "text/plain": [
       "26049.57771544336"
      ]
     },
     "execution_count": 26,
     "metadata": {},
     "output_type": "execute_result"
    }
   ],
   "source": [
    "lr.intercept_"
   ]
  },
  {
   "cell_type": "code",
   "execution_count": 62,
   "id": "1a7c0be0-935f-4741-8125-dd92eac01507",
   "metadata": {},
   "outputs": [
    {
     "data": {
      "text/plain": [
       "array([9202.23359825])"
      ]
     },
     "execution_count": 62,
     "metadata": {},
     "output_type": "execute_result"
    }
   ],
   "source": [
    "lr.coef_"
   ]
  },
  {
   "cell_type": "code",
   "execution_count": 27,
   "id": "ee2e9426-45f4-494e-a5d3-db6902923101",
   "metadata": {},
   "outputs": [
    {
     "data": {
      "text/plain": [
       "array([62858.51210846])"
      ]
     },
     "execution_count": 27,
     "metadata": {},
     "output_type": "execute_result"
    }
   ],
   "source": [
    "lr.predict([[4]])"
   ]
  },
  {
   "cell_type": "code",
   "execution_count": 70,
   "id": "e5d220c3-7e94-4722-8152-acfe24ba6123",
   "metadata": {},
   "outputs": [],
   "source": [
    "y_preds_train = lr.predict(x_train)\n",
    "y_preds_test = lr.predict(x_test.reshape(-1,1))"
   ]
  },
  {
   "cell_type": "code",
   "execution_count": 71,
   "id": "506ee698-3fab-403f-be71-c69aee2797ba",
   "metadata": {},
   "outputs": [
    {
     "data": {
      "text/plain": [
       "30183144.97846198"
      ]
     },
     "execution_count": 71,
     "metadata": {},
     "output_type": "execute_result"
    }
   ],
   "source": [
    "from sklearn.metrics import mean_squared_error\n",
    "mean_squared_error(y_train,y_preds_train)"
   ]
  },
  {
   "cell_type": "code",
   "execution_count": 72,
   "id": "61b828a9-0d51-4cfa-b6b1-5b6adf880ac5",
   "metadata": {},
   "outputs": [
    {
     "data": {
      "text/plain": [
       "39139215.99958858"
      ]
     },
     "execution_count": 72,
     "metadata": {},
     "output_type": "execute_result"
    }
   ],
   "source": [
    "from sklearn.metrics import mean_squared_error\n",
    "mean_squared_error(y_test,y_preds_test)"
   ]
  },
  {
   "cell_type": "code",
   "execution_count": 75,
   "id": "33d22b9e-218f-4091-be87-44cacd535613",
   "metadata": {},
   "outputs": [
    {
     "data": {
      "image/png": "[encoded data removed]",
      "text/plain": [
       "<Figure size 640x480 with 1 Axes>"
      ]
     },
     "metadata": {},
     "output_type": "display_data"
    }
   ],
   "source": [
    "plt.scatter(x_train,y_train)\n",
    "plt.plot(x_train,m*x_train+c,\"red\")\n",
    "plt.scatter(x_test,y_test)\n",
    "plt.xlabel(\"Experience\")\n",
    "plt.ylabel(\"Salary\")\n",
    "plt.title(\"predict salary from experience\")\n",
    "plt.show()"
   ]
  },
  {
   "cell_type": "code",
   "execution_count": 76,
   "id": "c4921ea3-e32c-46c7-8a81-98ab8fd6a081",
   "metadata": {},
   "outputs": [
    {
     "data": {
      "text/plain": [
       "39895968.92097672"
      ]
     },
     "execution_count": 76,
     "metadata": {},
     "output_type": "execute_result"
    }
   ],
   "source": [
    "from sklearn.linear_model import Ridge\n",
    "l2_model = Ridge(alpha=1)\n",
    "l2_model.fit(x_train,y_train)\n",
    "\n",
    "mean_squared_error(y_test,l2_model.predict(x_test))"
   ]
  },
  {
   "cell_type": "code",
   "execution_count": null,
   "id": "1d24430c-d689-402f-aea3-6342654faf02",
   "metadata": {},
   "outputs": [],
   "source": [
    "# 30183144.97846198 train\n",
    "# 39139215.99958858 test"
   ]
  },
  {
   "cell_type": "code",
   "execution_count": null,
   "id": "ad365e80-8076-433a-a108-aeaf6681b0e8",
   "metadata": {},
   "outputs": [],
   "source": []
  },
  {
   "cell_type": "code",
   "execution_count": 94,
   "id": "d49fad14-3047-49b8-ad30-bafd92d0db95",
   "metadata": {},
   "outputs": [
    {
     "name": "stdout",
     "output_type": "stream",
     "text": [
      "No regularization , train error:  30183144.97846198\n",
      "No regularization , train error:  39139215.99958858\n",
      "Regularization , train error:  32160911.14492348\n",
      "Regularization , train error:  47540579.774175525\n"
     ]
    },
    {
     "data": {
      "image/png": "[encoded data removed]",
      "text/plain": [
       "<Figure size 640x480 with 1 Axes>"
      ]
     },
     "metadata": {},
     "output_type": "display_data"
    }
   ],
   "source": [
    "print(\"No regularization , train error: \",mean_squared_error(y_train,y_preds_train))\n",
    "print(\"No regularization , train error: \",mean_squared_error(y_test,y_preds_test))\n",
    "from sklearn.linear_model import Ridge\n",
    "l2_model = Ridge(alpha=10)\n",
    "l2_model.fit(x_train,y_train)\n",
    "\n",
    "print(\"Regularization , train error: \",mean_squared_error(y_train,l2_model.predict(x_train)))\n",
    "print(\"Regularization , train error: \",mean_squared_error(y_test,l2_model.predict(x_test)))\n",
    "plt.scatter(x_train,y_train)\n",
    "plt.plot(x_train,m*x_train+c,\"blue\") # optimal line\n",
    "c_l2 = l2_model.intercept_\n",
    "m_l2 = l2_model.coef_[0]\n",
    "plt.plot(x_train,m_l2*x_train+c_l2,\"red\") # near optimal line\n",
    "plt.scatter(x_test,y_test)\n",
    "plt.xlabel(\"Experience\")\n",
    "plt.ylabel(\"Salary\")\n",
    "plt.title(\"predict salary from experience L2 MODEL\")\n",
    "plt.show()"
   ]
  },
  {
   "cell_type": "code",
   "execution_count": 97,
   "id": "a86d4758-1c31-43d2-8433-f6b2c4ea9262",
   "metadata": {},
   "outputs": [
    {
     "name": "stdout",
     "output_type": "stream",
     "text": [
      "No regularization , train error:  30183144.97846198\n",
      "No regularization , train error:  39139215.99958858\n",
      "Regularization , train error:  30183145.093001463\n",
      "Regularization , train error:  39140919.00198838\n"
     ]
    },
    {
     "data": {
      "image/png": "[encoded data removed]",
      "text/plain": [
       "<Figure size 640x480 with 1 Axes>"
      ]
     },
     "metadata": {},
     "output_type": "display_data"
    }
   ],
   "source": [
    "print(\"No regularization , train error: \",mean_squared_error(y_train,y_preds_train))\n",
    "print(\"No regularization , train error: \",mean_squared_error(y_test,y_preds_test))\n",
    "from sklearn.linear_model import Lasso\n",
    "l1_model = Lasso(alpha=1)\n",
    "l1_model.fit(x_train,y_train)\n",
    "\n",
    "print(\"Regularization , train error: \",mean_squared_error(y_train,l1_model.predict(x_train)))\n",
    "print(\"Regularization , train error: \",mean_squared_error(y_test,l1_model.predict(x_test)))\n",
    "plt.scatter(x_train,y_train)\n",
    "plt.plot(x_train,m*x_train+c,\"blue\") # optimal line\n",
    "c_l2 = l2_model.intercept_\n",
    "m_l2 = l2_model.coef_[0]\n",
    "plt.plot(x_train,m_l2*x_train+c_l2,\"red\") # near optimal line\n",
    "plt.scatter(x_test,y_test)\n",
    "plt.xlabel(\"Experience\")\n",
    "plt.ylabel(\"Salary\")\n",
    "plt.title(\"predict salary from experience L1 MODEL\")\n",
    "plt.show()"
   ]
  },
  {
   "cell_type": "code",
   "execution_count": 41,
   "id": "197f356c",
   "metadata": {},
   "outputs": [],
   "source": [
    "from sklearn.linear_model import Ridge,Lasso,ElasticNet\n",
    "from sklearn.metrics import mean_squared_error"
   ]
  },
  {
   "cell_type": "code",
   "execution_count": 35,
   "id": "ee80f2eb-6b83-4d4f-b5a9-fada53e5bcdb",
   "metadata": {},
   "outputs": [],
   "source": [
    "mses_diff_alphas = []\n",
    "alphas = np.linspace(0,0.0001,5000)\n",
    "for i in alphas:\n",
    "    model = Ridge(alpha=i)\n",
    "    model.fit(x_train,y_train)\n",
    "    preds_test = model.predict(x_test)\n",
    "    mses_diff_alphas.append(mean_squared_error(y_test,preds_test))"
   ]
  },
  {
   "cell_type": "code",
   "execution_count": 36,
   "id": "19cda2e0-e5aa-4cfd-a424-637dbe3f16ad",
   "metadata": {},
   "outputs": [
    {
     "data": {
      "text/plain": [
       "[39139215.99958858,\n",
       " 39139216.01451608,\n",
       " 39139216.02944359,\n",
       " 39139216.04437114,\n",
       " 39139216.05929849,\n",
       " 39139216.07422601,\n",
       " 39139216.08915356,\n",
       " 39139216.10408099,\n",
       " 39139216.11900845,\n",
       " 39139216.13393593,\n",
       " 39139216.14886343,\n",
       " 39139216.16379089,\n",
       " 39139216.17871833,\n",
       " 39139216.19364589,\n",
       " 39139216.208573356,\n",
       " 39139216.22350087,\n",
       " 39139216.2384283,\n",
       " 39139216.25335582,\n",
       " 39139216.26828321,\n",
       " 39139216.28321074,\n",
       " 39139216.29813818,\n",
       " 39139216.31306568,\n",
       " 39139216.327993296,\n",
       " 39139216.34292069,\n",
       " 39139216.35784811,\n",
       " 39139216.37277569,\n",
       " 39139216.38770308,\n",
       " 39139216.40263062,\n",
       " 39139216.417558044,\n",
       " 39139216.43248559,\n",
       " 39139216.447412975,\n",
       " 39139216.46234057,\n",
       " 39139216.477267995,\n",
       " 39139216.49219545,\n",
       " 39139216.507122904,\n",
       " 39139216.522050425,\n",
       " 39139216.53697792,\n",
       " 39139216.55190538,\n",
       " 39139216.56683291,\n",
       " 39139216.5817604,\n",
       " 39139216.59668788,\n",
       " 39139216.61161539,\n",
       " 39139216.62654278,\n",
       " 39139216.6414703,\n",
       " 39139216.65639775,\n",
       " 39139216.67132527,\n",
       " 39139216.68625274,\n",
       " 39139216.70118019,\n",
       " 39139216.7161077,\n",
       " 39139216.7310352,\n",
       " 39139216.74596261,\n",
       " 39139216.76089019,\n",
       " 39139216.77581759,\n",
       " 39139216.790745124,\n",
       " 39139216.80567256,\n",
       " 39139216.82059996,\n",
       " 39139216.83552751,\n",
       " 39139216.850455016,\n",
       " 39139216.865382485,\n",
       " 39139216.88030995,\n",
       " 39139216.89523746,\n",
       " 39139216.91016498,\n",
       " 39139216.9250924,\n",
       " 39139216.94001995,\n",
       " 39139216.954947375,\n",
       " 39139216.96987486,\n",
       " 39139216.98480239,\n",
       " 39139216.999729864,\n",
       " 39139217.01465733,\n",
       " 39139217.029584765,\n",
       " 39139217.044512205,\n",
       " 39139217.05943977,\n",
       " 39139217.07436718,\n",
       " 39139217.089294724,\n",
       " 39139217.104222216,\n",
       " 39139217.11914969,\n",
       " 39139217.13407714,\n",
       " 39139217.149004675,\n",
       " 39139217.163932115,\n",
       " 39139217.1788596,\n",
       " 39139217.1937871,\n",
       " 39139217.20871457,\n",
       " 39139217.22364202,\n",
       " 39139217.23856953,\n",
       " 39139217.253497005,\n",
       " 39139217.26842449,\n",
       " 39139217.2833519,\n",
       " 39139217.29827951,\n",
       " 39139217.31320689,\n",
       " 39139217.32813444,\n",
       " 39139217.34306195,\n",
       " 39139217.3579894,\n",
       " 39139217.372916795,\n",
       " 39139217.387844376,\n",
       " 39139217.40277175,\n",
       " 39139217.41769931,\n",
       " 39139217.43262676,\n",
       " 39139217.4475543,\n",
       " 39139217.462481685,\n",
       " 39139217.47740922,\n",
       " 39139217.492336735,\n",
       " 39139217.50726423,\n",
       " 39139217.52219167,\n",
       " 39139217.537119225,\n",
       " 39139217.552046604,\n",
       " 39139217.566974126,\n",
       " 39139217.58190164,\n",
       " 39139217.596829064,\n",
       " 39139217.61175655,\n",
       " 39139217.626684025,\n",
       " 39139217.641611524,\n",
       " 39139217.65653898,\n",
       " 39139217.671466455,\n",
       " 39139217.686393954,\n",
       " 39139217.70132148,\n",
       " 39139217.71624898,\n",
       " 39139217.73117645,\n",
       " 39139217.74610389,\n",
       " 39139217.76103134,\n",
       " 39139217.77595887,\n",
       " 39139217.79088638,\n",
       " 39139217.80581383,\n",
       " 39139217.82074128,\n",
       " 39139217.83566881,\n",
       " 39139217.85059632,\n",
       " 39139217.86552377,\n",
       " 39139217.88045114,\n",
       " 39139217.89537874,\n",
       " 39139217.910306126,\n",
       " 39139217.925233714,\n",
       " 39139217.94016111,\n",
       " 39139217.955088615,\n",
       " 39139217.970016144,\n",
       " 39139217.98494365,\n",
       " 39139217.999871105,\n",
       " 39139218.01479857,\n",
       " 39139218.02972598,\n",
       " 39139218.04465346,\n",
       " 39139218.05958097,\n",
       " 39139218.07450849,\n",
       " 39139218.08943597,\n",
       " 39139218.10436344,\n",
       " 39139218.11929093,\n",
       " 39139218.134218425,\n",
       " 39139218.14914587,\n",
       " 39139218.16407338,\n",
       " 39139218.179000825,\n",
       " 39139218.19392831,\n",
       " 39139218.20885585,\n",
       " 39139218.22378333,\n",
       " 39139218.23871075,\n",
       " 39139218.25363824,\n",
       " 39139218.26856581,\n",
       " 39139218.28349324,\n",
       " 39139218.29842064,\n",
       " 39139218.31334821,\n",
       " 39139218.32827565,\n",
       " 39139218.34320319,\n",
       " 39139218.358130716,\n",
       " 39139218.37305812,\n",
       " 39139218.38798554,\n",
       " 39139218.40291311,\n",
       " 39139218.417840526,\n",
       " 39139218.43276804,\n",
       " 39139218.447695464,\n",
       " 39139218.46262301,\n",
       " 39139218.47755047,\n",
       " 39139218.49247798,\n",
       " 39139218.507405475,\n",
       " 39139218.52233295,\n",
       " 39139218.53726041,\n",
       " 39139218.55218795,\n",
       " 39139218.56711546,\n",
       " 39139218.58204288,\n",
       " 39139218.59697026,\n",
       " 39139218.611897856,\n",
       " 39139218.62682534,\n",
       " 39139218.64175285,\n",
       " 39139218.65668023,\n",
       " 39139218.67160778,\n",
       " 39139218.68653521,\n",
       " 39139218.70146279,\n",
       " 39139218.71639019,\n",
       " 39139218.73131769,\n",
       " 39139218.74624521,\n",
       " 39139218.7611727,\n",
       " 39139218.77610008,\n",
       " 39139218.79102758,\n",
       " 39139218.80595511,\n",
       " 39139218.820882566,\n",
       " 39139218.83581007,\n",
       " 39139218.85073757,\n",
       " 39139218.86566506,\n",
       " 39139218.880592495,\n",
       " 39139218.89551994,\n",
       " 39139218.910447516,\n",
       " 39139218.92537491,\n",
       " 39139218.9403024,\n",
       " 39139218.95522988,\n",
       " 39139218.97015743,\n",
       " 39139218.98508486,\n",
       " 39139219.00001243,\n",
       " 39139219.0149398,\n",
       " 39139219.029867336,\n",
       " 39139219.04479482,\n",
       " 39139219.05972228,\n",
       " 39139219.07464969,\n",
       " 39139219.089577265,\n",
       " 39139219.10450478,\n",
       " 39139219.119432226,\n",
       " 39139219.13435971,\n",
       " 39139219.14928724,\n",
       " 39139219.16421464,\n",
       " 39139219.17914215,\n",
       " 39139219.19406967,\n",
       " 39139219.20899718,\n",
       " 39139219.22392461,\n",
       " 39139219.23885206,\n",
       " 39139219.25377957,\n",
       " 39139219.26870705,\n",
       " 39139219.28363452,\n",
       " 39139219.29856201,\n",
       " 39139219.31348942,\n",
       " 39139219.32841703,\n",
       " 39139219.34334442,\n",
       " 39139219.358271964,\n",
       " 39139219.37319936,\n",
       " 39139219.38812696,\n",
       " 39139219.403054334,\n",
       " 39139219.41798179,\n",
       " 39139219.43290932,\n",
       " 39139219.44783688,\n",
       " 39139219.46276429,\n",
       " 39139219.47769182,\n",
       " 39139219.49261924,\n",
       " 39139219.50754683,\n",
       " 39139219.522474185,\n",
       " 39139219.537401766,\n",
       " 39139219.55232921,\n",
       " 39139219.56725671,\n",
       " 39139219.58218414,\n",
       " 39139219.59711167,\n",
       " 39139219.61203913,\n",
       " 39139219.62696666,\n",
       " 39139219.64189411,\n",
       " 39139219.65682158,\n",
       " 39139219.67174908,\n",
       " 39139219.68667659,\n",
       " 39139219.701604016,\n",
       " 39139219.71653152,\n",
       " 39139219.731459044,\n",
       " 39139219.74638655,\n",
       " 39139219.76131398,\n",
       " 39139219.77624145,\n",
       " 39139219.79116893,\n",
       " 39139219.806096435,\n",
       " 39139219.82102381,\n",
       " 39139219.83595138,\n",
       " 39139219.85087886,\n",
       " 39139219.86580637,\n",
       " 39139219.88073389,\n",
       " 39139219.89566136,\n",
       " 39139219.91058871,\n",
       " 39139219.92551631,\n",
       " 39139219.940443724,\n",
       " 39139219.95537127,\n",
       " 39139219.97029869,\n",
       " 39139219.985226214,\n",
       " 39139220.00015366,\n",
       " 39139220.0150812,\n",
       " 39139220.030008666,\n",
       " 39139220.044936165,\n",
       " 39139220.05986355,\n",
       " 39139220.074791156,\n",
       " 39139220.08971855,\n",
       " 39139220.10464612,\n",
       " 39139220.119573586,\n",
       " 39139220.13450105,\n",
       " 39139220.14942854,\n",
       " 39139220.16435602,\n",
       " 39139220.17928346,\n",
       " 39139220.194210924,\n",
       " 39139220.20913843,\n",
       " 39139220.22406592,\n",
       " 39139220.23899347,\n",
       " 39139220.253920905,\n",
       " 39139220.268848374,\n",
       " 39139220.283775896,\n",
       " 39139220.298703365,\n",
       " 39139220.31363087,\n",
       " 39139220.328558356,\n",
       " 39139220.34348578,\n",
       " 39139220.35841328,\n",
       " 39139220.37334079,\n",
       " 39139220.3882682,\n",
       " 39139220.4031957,\n",
       " 39139220.418123215,\n",
       " 39139220.43305072,\n",
       " 39139220.4479781,\n",
       " 39139220.462905675,\n",
       " 39139220.47783312,\n",
       " 39139220.49276059,\n",
       " 39139220.50768805,\n",
       " 39139220.52261566,\n",
       " 39139220.53754307,\n",
       " 39139220.55247053,\n",
       " 39139220.567398034,\n",
       " 39139220.58232559,\n",
       " 39139220.597252965,\n",
       " 39139220.612180546,\n",
       " 39139220.627107926,\n",
       " 39139220.64203552,\n",
       " 39139220.65696293,\n",
       " 39139220.67189048,\n",
       " 39139220.686817884,\n",
       " 39139220.70174542,\n",
       " 39139220.716672875,\n",
       " 39139220.731600374,\n",
       " 39139220.74652777,\n",
       " 39139220.76145533,\n",
       " 39139220.77638283,\n",
       " 39139220.79131033,\n",
       " 39139220.80623773,\n",
       " 39139220.82116527,\n",
       " 39139220.836092725,\n",
       " 39139220.8510202,\n",
       " 39139220.86594775,\n",
       " 39139220.88087522,\n",
       " 39139220.89580263,\n",
       " 39139220.91073012,\n",
       " 39139220.92565765,\n",
       " 39139220.94058521,\n",
       " 39139220.95551262,\n",
       " 39139220.9704401,\n",
       " 39139220.98536755,\n",
       " 39139221.00029502,\n",
       " 39139221.01522251,\n",
       " 39139221.030150026,\n",
       " 39139221.045077465,\n",
       " 39139221.06000504,\n",
       " 39139221.07493252,\n",
       " 39139221.08985993,\n",
       " 39139221.10478741,\n",
       " 39139221.119714975,\n",
       " 39139221.13464238,\n",
       " 39139221.14956989,\n",
       " 39139221.164497346,\n",
       " 39139221.17942491,\n",
       " 39139221.19435229,\n",
       " 39139221.209279865,\n",
       " 39139221.224207275,\n",
       " 39139221.239134826,\n",
       " 39139221.25406221,\n",
       " 39139221.26898977,\n",
       " 39139221.283917315,\n",
       " 39139221.29884474,\n",
       " 39139221.313772246,\n",
       " 39139221.32869972,\n",
       " 39139221.34362713,\n",
       " 39139221.35855474,\n",
       " 39139221.37348216,\n",
       " 39139221.38840963,\n",
       " 39139221.403337084,\n",
       " 39139221.41826465,\n",
       " 39139221.4331921,\n",
       " 39139221.44811959,\n",
       " 39139221.46304703,\n",
       " 39139221.477974564,\n",
       " 39139221.49290198,\n",
       " 39139221.50782949,\n",
       " 39139221.522756964,\n",
       " 39139221.537684515,\n",
       " 39139221.55261193,\n",
       " 39139221.56753942,\n",
       " 39139221.582466915,\n",
       " 39139221.59739439,\n",
       " 39139221.61232188,\n",
       " 39139221.62724934,\n",
       " 39139221.64217689,\n",
       " 39139221.65710433,\n",
       " 39139221.67203184,\n",
       " 39139221.68695931,\n",
       " 39139221.7018868,\n",
       " 39139221.71681425,\n",
       " 39139221.73174173,\n",
       " 39139221.74666922,\n",
       " 39139221.76159671,\n",
       " 39139221.77652427,\n",
       " 39139221.791451655,\n",
       " 39139221.80637919,\n",
       " 39139221.821306646,\n",
       " 39139221.83623414,\n",
       " 39139221.851161584,\n",
       " 39139221.866089165,\n",
       " 39139221.88101658,\n",
       " 39139221.89594411,\n",
       " 39139221.91087155,\n",
       " 39139221.925799,\n",
       " 39139221.940726474,\n",
       " 39139221.955654055,\n",
       " 39139221.97058149,\n",
       " 39139221.98550891,\n",
       " 39139222.00043643,\n",
       " 39139222.015363954,\n",
       " 39139222.03029141,\n",
       " 39139222.04521889,\n",
       " 39139222.06014641,\n",
       " 39139222.07507382,\n",
       " 39139222.09000134,\n",
       " 39139222.10492881,\n",
       " 39139222.11985633,\n",
       " 39139222.13478379,\n",
       " 39139222.14971132,\n",
       " 39139222.16463883,\n",
       " 39139222.179566234,\n",
       " 39139222.1944938,\n",
       " 39139222.20942127,\n",
       " 39139222.2243487,\n",
       " 39139222.239276186,\n",
       " 39139222.25420369,\n",
       " 39139222.26913122,\n",
       " 39139222.28405864,\n",
       " 39139222.298986085,\n",
       " 39139222.31391366,\n",
       " 39139222.32884109,\n",
       " 39139222.34376864,\n",
       " 39139222.358696036,\n",
       " 39139222.373623535,\n",
       " 39139222.38855108,\n",
       " 39139222.4034786,\n",
       " 39139222.41840598,\n",
       " 39139222.433333464,\n",
       " 39139222.44826097,\n",
       " 39139222.46318847,\n",
       " 39139222.478115946,\n",
       " 39139222.49304339,\n",
       " 39139222.5079709,\n",
       " 39139222.52289847,\n",
       " 39139222.537825875,\n",
       " 39139222.55275337,\n",
       " 39139222.567680866,\n",
       " 39139222.582608275,\n",
       " 39139222.59753581,\n",
       " 39139222.61246328,\n",
       " 39139222.62739081,\n",
       " 39139222.64231823,\n",
       " 39139222.65724574,\n",
       " 39139222.67217327,\n",
       " 39139222.68710074,\n",
       " 39139222.70202818,\n",
       " 39139222.71695563,\n",
       " 39139222.73188316,\n",
       " 39139222.746810704,\n",
       " 39139222.761738166,\n",
       " 39139222.7766656,\n",
       " 39139222.79159312,\n",
       " 39139222.806520626,\n",
       " 39139222.82144813,\n",
       " 39139222.836375564,\n",
       " 39139222.85130311,\n",
       " 39139222.866230525,\n",
       " 39139222.88115804,\n",
       " 39139222.8960855,\n",
       " 39139222.91101303,\n",
       " 39139222.92594045,\n",
       " 39139222.94086786,\n",
       " 39139222.95579544,\n",
       " 39139222.97072291,\n",
       " 39139222.98565038,\n",
       " 39139223.000577845,\n",
       " 39139223.01550538,\n",
       " 39139223.0304329,\n",
       " 39139223.04536033,\n",
       " 39139223.06028783,\n",
       " 39139223.07521532,\n",
       " 39139223.09014283,\n",
       " 39139223.105070285,\n",
       " 39139223.119997784,\n",
       " 39139223.134925246,\n",
       " 39139223.14985273,\n",
       " 39139223.16478023,\n",
       " 39139223.179707706,\n",
       " 39139223.194635175,\n",
       " 39139223.20956265,\n",
       " 39139223.22449018,\n",
       " 39139223.23941764,\n",
       " 39139223.254345104,\n",
       " 39139223.2692726,\n",
       " 39139223.28420013,\n",
       " 39139223.29912757,\n",
       " 39139223.314055145,\n",
       " 39139223.32898256,\n",
       " 39139223.34391001,\n",
       " 39139223.3588376,\n",
       " 39139223.37376504,\n",
       " 39139223.38869248,\n",
       " 39139223.40362,\n",
       " 39139223.41854748,\n",
       " 39139223.43347495,\n",
       " 39139223.448402405,\n",
       " 39139223.463329926,\n",
       " 39139223.47825741,\n",
       " 39139223.493184865,\n",
       " 39139223.5081124,\n",
       " 39139223.52303986,\n",
       " 39139223.537967324,\n",
       " 39139223.55289483,\n",
       " 39139223.56782227,\n",
       " 39139223.58274981,\n",
       " 39139223.597677216,\n",
       " 39139223.61260482,\n",
       " 39139223.62753226,\n",
       " 39139223.642459735,\n",
       " 39139223.657387294,\n",
       " 39139223.67231475,\n",
       " 39139223.68724221,\n",
       " 39139223.702169664,\n",
       " 39139223.71709721,\n",
       " 39139223.73202466,\n",
       " 39139223.746952124,\n",
       " 39139223.76187962,\n",
       " 39139223.77680714,\n",
       " 39139223.791734606,\n",
       " 39139223.80666199,\n",
       " 39139223.821589574,\n",
       " 39139223.836516984,\n",
       " 39139223.85144453,\n",
       " 39139223.86637196,\n",
       " 39139223.88129953,\n",
       " 39139223.89622696,\n",
       " 39139223.911154464,\n",
       " 39139223.92608198,\n",
       " 39139223.941009395,\n",
       " 39139223.95593693,\n",
       " 39139223.97086447,\n",
       " 39139223.98579185,\n",
       " 39139224.00071936,\n",
       " 39139224.015646905,\n",
       " 39139224.03057441,\n",
       " 39139224.04550186,\n",
       " 39139224.06042934,\n",
       " 39139224.07535684,\n",
       " 39139224.09028426,\n",
       " 39139224.105211765,\n",
       " 39139224.12013927,\n",
       " 39139224.13506668,\n",
       " 39139224.14999423,\n",
       " 39139224.16492167,\n",
       " 39139224.1798492,\n",
       " 39139224.19477665,\n",
       " 39139224.20970418,\n",
       " 39139224.22463165,\n",
       " 39139224.23955914,\n",
       " 39139224.254486546,\n",
       " 39139224.26941414,\n",
       " 39139224.28434157,\n",
       " 39139224.29926903,\n",
       " 39139224.31419655,\n",
       " 39139224.32912406,\n",
       " 39139224.344051495,\n",
       " 39139224.3589791,\n",
       " 39139224.37390645,\n",
       " 39139224.38883393,\n",
       " 39139224.40376144,\n",
       " 39139224.41868901,\n",
       " 39139224.43361643,\n",
       " 39139224.44854388,\n",
       " 39139224.46347138,\n",
       " 39139224.478398934,\n",
       " 39139224.49332636,\n",
       " 39139224.50825382,\n",
       " 39139224.52318135,\n",
       " 39139224.5381089,\n",
       " 39139224.5530363,\n",
       " 39139224.567963846,\n",
       " 39139224.58289136,\n",
       " 39139224.59781876,\n",
       " 39139224.61274621,\n",
       " 39139224.62767379,\n",
       " 39139224.64260122,\n",
       " 39139224.65752871,\n",
       " 39139224.67245625,\n",
       " 39139224.68738372,\n",
       " 39139224.70231119,\n",
       " 39139224.717238694,\n",
       " 39139224.73216608,\n",
       " 39139224.74709366,\n",
       " 39139224.7620211,\n",
       " 39139224.77694867,\n",
       " 39139224.791876055,\n",
       " 39139224.80680356,\n",
       " 39139224.82173109,\n",
       " 39139224.83665857,\n",
       " 39139224.851586044,\n",
       " 39139224.866513565,\n",
       " 39139224.881441,\n",
       " 39139224.89636851,\n",
       " 39139224.91129596,\n",
       " 39139224.92622345,\n",
       " 39139224.94115095,\n",
       " 39139224.95607839,\n",
       " 39139224.9710059,\n",
       " 39139224.98593345,\n",
       " 39139225.00086088,\n",
       " 39139225.01578835,\n",
       " 39139225.030715846,\n",
       " 39139225.04564334,\n",
       " 39139225.06057078,\n",
       " 39139225.07549833,\n",
       " 39139225.09042576,\n",
       " 39139225.10535332,\n",
       " 39139225.12028077,\n",
       " 39139225.13520825,\n",
       " 39139225.150135696,\n",
       " 39139225.16506323,\n",
       " 39139225.17999074,\n",
       " 39139225.19491829,\n",
       " 39139225.20984569,\n",
       " 39139225.22477323,\n",
       " 39139225.23970069,\n",
       " 39139225.25462813,\n",
       " 39139225.26955566,\n",
       " 39139225.284483105,\n",
       " 39139225.29941056,\n",
       " 39139225.31433807,\n",
       " 39139225.32926557,\n",
       " 39139225.344193086,\n",
       " 39139225.35912051,\n",
       " 39139225.37404801,\n",
       " 39139225.38897553,\n",
       " 39139225.40390303,\n",
       " 39139225.41883042,\n",
       " 39139225.433758,\n",
       " 39139225.448685475,\n",
       " 39139225.46361299,\n",
       " 39139225.47854046,\n",
       " 39139225.49346793,\n",
       " 39139225.50839542,\n",
       " 39139225.5233229,\n",
       " 39139225.5382504,\n",
       " 39139225.55317783,\n",
       " 39139225.56810535,\n",
       " 39139225.58303285,\n",
       " 39139225.59796032,\n",
       " 39139225.61288774,\n",
       " 39139225.62781533,\n",
       " 39139225.64274281,\n",
       " 39139225.657670245,\n",
       " 39139225.67259775,\n",
       " 39139225.68752526,\n",
       " 39139225.702452734,\n",
       " 39139225.71738017,\n",
       " 39139225.7323077,\n",
       " 39139225.74723518,\n",
       " 39139225.76216266,\n",
       " 39139225.777090155,\n",
       " 39139225.792017624,\n",
       " 39139225.80694515,\n",
       " 39139225.82187261,\n",
       " 39139225.83680014,\n",
       " 39139225.85172758,\n",
       " 39139225.86665508,\n",
       " 39139225.88158259,\n",
       " 39139225.89651011,\n",
       " 39139225.91143758,\n",
       " 39139225.92636501,\n",
       " 39139225.941292554,\n",
       " 39139225.95622,\n",
       " 39139225.97114752,\n",
       " 39139225.98607496,\n",
       " 39139226.00100246,\n",
       " 39139226.01592996,\n",
       " 39139226.03085744,\n",
       " 39139226.04578493,\n",
       " 39139226.0607124,\n",
       " 39139226.07563988,\n",
       " 39139226.090567395,\n",
       " 39139226.105494894,\n",
       " 39139226.12042225,\n",
       " 39139226.135349855,\n",
       " 39139226.15027729,\n",
       " 39139226.165204786,\n",
       " 39139226.18013224,\n",
       " 39139226.19505979,\n",
       " 39139226.20998723,\n",
       " 39139226.2249147,\n",
       " 39139226.23984226,\n",
       " 39139226.254769735,\n",
       " 39139226.26969717,\n",
       " 39139226.28462466,\n",
       " 39139226.29955222,\n",
       " 39139226.31447966,\n",
       " 39139226.32940718,\n",
       " 39139226.34433465,\n",
       " 39139226.35926213,\n",
       " 39139226.374189615,\n",
       " 39139226.3891171,\n",
       " 39139226.40404455,\n",
       " 39139226.418972015,\n",
       " 39139226.43389955,\n",
       " 39139226.44882708,\n",
       " 39139226.463754505,\n",
       " 39139226.47868194,\n",
       " 39139226.493609525,\n",
       " 39139226.50853698,\n",
       " 39139226.523464516,\n",
       " 39139226.538391955,\n",
       " 39139226.55331948,\n",
       " 39139226.56824692,\n",
       " 39139226.58317441,\n",
       " 39139226.59810188,\n",
       " 39139226.61302945,\n",
       " 39139226.62795683,\n",
       " 39139226.64288435,\n",
       " 39139226.65781184,\n",
       " 39139226.6727394,\n",
       " 39139226.68766679,\n",
       " 39139226.70259438,\n",
       " 39139226.717521794,\n",
       " 39139226.7324493,\n",
       " 39139226.74737674,\n",
       " 39139226.76230431,\n",
       " 39139226.777231745,\n",
       " 39139226.79215919,\n",
       " 39139226.807086736,\n",
       " 39139226.82201425,\n",
       " 39139226.83694169,\n",
       " 39139226.8518692,\n",
       " 39139226.86679668,\n",
       " 39139226.88172417,\n",
       " 39139226.89665161,\n",
       " 39139226.91157912,\n",
       " 39139226.92650666,\n",
       " 39139226.94143414,\n",
       " 39139226.95636156,\n",
       " 39139226.971289076,\n",
       " 39139226.98621652,\n",
       " 39139227.00114409,\n",
       " 39139227.01607152,\n",
       " 39139227.03099896,\n",
       " 39139227.04592646,\n",
       " 39139227.06085399,\n",
       " 39139227.07578146,\n",
       " 39139227.09070891,\n",
       " 39139227.10563648,\n",
       " 39139227.12056401,\n",
       " 39139227.13549142,\n",
       " 39139227.15041885,\n",
       " 39139227.16534636,\n",
       " 39139227.180273846,\n",
       " 39139227.19520136,\n",
       " 39139227.21012888,\n",
       " 39139227.225056335,\n",
       " 39139227.239983834,\n",
       " 39139227.2549113,\n",
       " 39139227.269838884,\n",
       " 39139227.28476628,\n",
       " 39139227.29969384,\n",
       " 39139227.31462128,\n",
       " 39139227.32954878,\n",
       " 39139227.34447627,\n",
       " 39139227.35940373,\n",
       " 39139227.37433122,\n",
       " 39139227.389258675,\n",
       " 39139227.4041862,\n",
       " 39139227.41911374,\n",
       " 39139227.43404118,\n",
       " 39139227.44896862,\n",
       " 39139227.46389614,\n",
       " 39139227.47882363,\n",
       " 39139227.49375116,\n",
       " 39139227.50867861,\n",
       " 39139227.52360611,\n",
       " 39139227.5385336,\n",
       " 39139227.55346104,\n",
       " 39139227.56838855,\n",
       " 39139227.58331601,\n",
       " 39139227.598243505,\n",
       " 39139227.61317099,\n",
       " 39139227.628098525,\n",
       " 39139227.643025994,\n",
       " 39139227.65795346,\n",
       " 39139227.67288092,\n",
       " 39139227.687808454,\n",
       " 39139227.70273593,\n",
       " 39139227.717663385,\n",
       " 39139227.73259092,\n",
       " 39139227.7475184,\n",
       " 39139227.76244588,\n",
       " 39139227.777373396,\n",
       " 39139227.79230088,\n",
       " 39139227.807228334,\n",
       " 39139227.82215584,\n",
       " 39139227.83708325,\n",
       " 39139227.8520108,\n",
       " 39139227.86693829,\n",
       " 39139227.88186577,\n",
       " 39139227.8967932,\n",
       " 39139227.91172083,\n",
       " 39139227.926648214,\n",
       " 39139227.94157577,\n",
       " 39139227.95650316,\n",
       " 39139227.97143075,\n",
       " 39139227.98635822,\n",
       " 39139228.00128574,\n",
       " 39139228.01621317,\n",
       " 39139228.03114066,\n",
       " 39139228.04606817,\n",
       " 39139228.060995676,\n",
       " 39139228.07592309,\n",
       " 39139228.09085061,\n",
       " 39139228.10577813,\n",
       " 39139228.12070558,\n",
       " 39139228.13563308,\n",
       " 39139228.150560565,\n",
       " 39139228.16548795,\n",
       " 39139228.18041554,\n",
       " 39139228.19534302,\n",
       " 39139228.21027053,\n",
       " 39139228.22519794,\n",
       " 39139228.24012548,\n",
       " 39139228.255052954,\n",
       " 39139228.26998041,\n",
       " 39139228.28490788,\n",
       " 39139228.29983547,\n",
       " 39139228.31476288,\n",
       " 39139228.32969039,\n",
       " 39139228.344617836,\n",
       " 39139228.35954533,\n",
       " 39139228.37447284,\n",
       " 39139228.38940031,\n",
       " 39139228.40432781,\n",
       " 39139228.419255294,\n",
       " 39139228.43418279,\n",
       " 39139228.44911035,\n",
       " 39139228.46403777,\n",
       " 39139228.47896523,\n",
       " 39139228.49389276,\n",
       " 39139228.5088203,\n",
       " 39139228.52374773,\n",
       " 39139228.53867516,\n",
       " 39139228.553602725,\n",
       " 39139228.5685302,\n",
       " 39139228.58345768,\n",
       " 39139228.598385155,\n",
       " 39139228.613312654,\n",
       " 39139228.62824016,\n",
       " 39139228.64316761,\n",
       " 39139228.65809517,\n",
       " 39139228.67302265,\n",
       " 39139228.687950164,\n",
       " 39139228.70287755,\n",
       " 39139228.71780508,\n",
       " 39139228.73273253,\n",
       " 39139228.74766001,\n",
       " 39139228.76258753,\n",
       " 39139228.77751508,\n",
       " 39139228.79244249,\n",
       " 39139228.807370014,\n",
       " 39139228.82229749,\n",
       " 39139228.837224945,\n",
       " 39139228.85215244,\n",
       " 39139228.867079966,\n",
       " 39139228.88200745,\n",
       " 39139228.8969349,\n",
       " 39139228.91186242,\n",
       " 39139228.92678991,\n",
       " 39139228.94171742,\n",
       " 39139228.95664489,\n",
       " 39139228.971572384,\n",
       " 39139228.986499816,\n",
       " 39139229.00142737,\n",
       " 39139229.016354814,\n",
       " 39139229.031282276,\n",
       " 39139229.04620983,\n",
       " 39139229.06113728,\n",
       " 39139229.07606486,\n",
       " 39139229.0909923,\n",
       " 39139229.10591969,\n",
       " 39139229.120847255,\n",
       " 39139229.13577479,\n",
       " 39139229.150702246,\n",
       " 39139229.1656297,\n",
       " 39139229.18055722,\n",
       " 39139229.19548466,\n",
       " 39139229.21041215,\n",
       " 39139229.22533969,\n",
       " 39139229.24026718,\n",
       " 39139229.25519461,\n",
       " 39139229.27012211,\n",
       " 39139229.285049595,\n",
       " 39139229.2999771,\n",
       " 39139229.31490454,\n",
       " 39139229.329832055,\n",
       " 39139229.344759494,\n",
       " 39139229.35968708,\n",
       " 39139229.37461462,\n",
       " 39139229.38954203,\n",
       " 39139229.40446946,\n",
       " 39139229.419397034,\n",
       " 39139229.434324555,\n",
       " 39139229.44925204,\n",
       " 39139229.46417941,\n",
       " 39139229.479107,\n",
       " 39139229.49403446,\n",
       " 39139229.508962,\n",
       " 39139229.52388939,\n",
       " 39139229.53881693,\n",
       " 39139229.55374442,\n",
       " 39139229.56867191,\n",
       " 39139229.58359936,\n",
       " 39139229.598526895,\n",
       " 39139229.61345431,\n",
       " 39139229.62838183,\n",
       " 39139229.64330934,\n",
       " 39139229.65823687,\n",
       " 39139229.67316423,\n",
       " 39139229.68809181,\n",
       " 39139229.703019276,\n",
       " 39139229.71794683,\n",
       " 39139229.7328743,\n",
       " 39139229.74780169,\n",
       " 39139229.76272922,\n",
       " 39139229.7776567,\n",
       " 39139229.79258419,\n",
       " 39139229.807511725,\n",
       " 39139229.82243922,\n",
       " 39139229.837366685,\n",
       " 39139229.85229415,\n",
       " 39139229.8672217,\n",
       " 39139229.88214915,\n",
       " 39139229.89707666,\n",
       " 39139229.91200409,\n",
       " 39139229.92693167,\n",
       " 39139229.94185905,\n",
       " 39139229.95678662,\n",
       " 39139229.97171405,\n",
       " 39139229.98664152,\n",
       " 39139230.00156906,\n",
       " 39139230.016496584,\n",
       " 39139230.03142399,\n",
       " 39139230.04635147,\n",
       " 39139230.06127901,\n",
       " 39139230.07620654,\n",
       " 39139230.09113395,\n",
       " 39139230.10606152,\n",
       " 39139230.12098893,\n",
       " 39139230.135916494,\n",
       " 39139230.150843985,\n",
       " 39139230.165771484,\n",
       " 39139230.1806989,\n",
       " 39139230.19562639,\n",
       " 39139230.210553914,\n",
       " 39139230.22548145,\n",
       " 39139230.24040883,\n",
       " 39139230.25533641,\n",
       " 39139230.27026386,\n",
       " 39139230.28519141,\n",
       " 39139230.300118804,\n",
       " 39139230.31504631,\n",
       " 39139230.32997382,\n",
       " 39139230.344901316,\n",
       " 39139230.35982878,\n",
       " 39139230.37475631,\n",
       " 39139230.389683776,\n",
       " 39139230.404611215,\n",
       " 39139230.41953871,\n",
       " 39139230.43446625,\n",
       " 39139230.44939371,\n",
       " 39139230.46432114,\n",
       " 39139230.479248695,\n",
       " 39139230.49417611,\n",
       " 39139230.50910368,\n",
       " 39139230.52403114,\n",
       " 39139230.53895866,\n",
       " 39139230.55388612,\n",
       " 39139230.56881364,\n",
       " 39139230.58374111,\n",
       " 39139230.59866862,\n",
       " 39139230.61359611,\n",
       " 39139230.6285236,\n",
       " 39139230.64345108,\n",
       " 39139230.658378564,\n",
       " 39139230.673306055,\n",
       " 39139230.68823354,\n",
       " 39139230.70316103,\n",
       " 39139230.718088485,\n",
       " 39139230.73301595,\n",
       " 39139230.74794349,\n",
       " 39139230.76287102,\n",
       " 39139230.77779845,\n",
       " 39139230.792725906,\n",
       " 39139230.80765346,\n",
       " 39139230.82258087,\n",
       " 39139230.83750845,\n",
       " 39139230.85243583,\n",
       " 39139230.86736342,\n",
       " 39139230.8822908,\n",
       " 39139230.89721843,\n",
       " 39139230.91214588,\n",
       " ...]"
      ]
     },
     "execution_count": 36,
     "metadata": {},
     "output_type": "execute_result"
    }
   ],
   "source": [
    "mses_diff_alphas"
   ]
  },
  {
   "cell_type": "code",
   "execution_count": 40,
   "id": "157aa2e8-7a77-45be-93ac-c033c250d265",
   "metadata": {},
   "outputs": [
    {
     "data": {
      "text/plain": [
       "39139215.99958865"
      ]
     },
     "execution_count": 40,
     "metadata": {},
     "output_type": "execute_result"
    }
   ],
   "source": [
    "mses_diff_alphas = []\n",
    "alphas = np.linspace(0,0.0001,5000)\n",
    "for i in alphas:\n",
    "    model = Lasso(alpha=i)\n",
    "    model.fit(x_train,y_train)\n",
    "    preds_test = model.predict(x_test)\n",
    "    mses_diff_alphas.append(mean_squared_error(y_test,preds_test))\n",
    "\n",
    "min(mses_diff_alphas)"
   ]
  },
  {
   "cell_type": "code",
   "execution_count": 39,
   "id": "ba8aa521-0803-444c-84af-f7a3f28be6ee",
   "metadata": {},
   "outputs": [],
   "source": [
    "import warnings\n",
    "warnings.filterwarnings('ignore')"
   ]
  },
  {
   "cell_type": "code",
   "execution_count": 44,
   "id": "e8a29461-0f53-47ee-9c31-a5293f943b02",
   "metadata": {},
   "outputs": [
    {
     "data": {
      "text/plain": [
       "39140919.0019884"
      ]
     },
     "execution_count": 44,
     "metadata": {},
     "output_type": "execute_result"
    }
   ],
   "source": [
    "mses_diff = []\n",
    "alphas = np.linspace(0,1,10)\n",
    "for i in alphas:\n",
    "    model = ElasticNet(l1_ratio=i)\n",
    "    model.fit(x_train,y_train)\n",
    "    preds_test = model.predict(x_test)\n",
    "    mses_diff.append(mean_squared_error(y_test,preds_test))\n",
    "\n",
    "min(mses_diff)"
   ]
  },
  {
   "cell_type": "code",
   "execution_count": 45,
   "id": "a0c6118c-1417-44a4-a702-187c490098fe",
   "metadata": {},
   "outputs": [
    {
     "data": {
      "text/plain": [
       "[58430863.874083996,\n",
       " 56011352.82725813,\n",
       " 53645428.4595812,\n",
       " 51338944.32223645,\n",
       " 49098225.569200024,\n",
       " 46930109.24568329,\n",
       " 44841988.413378276,\n",
       " 42841860.52265772,\n",
       " 40938380.49093763,\n",
       " 39140919.0019884]"
      ]
     },
     "execution_count": 45,
     "metadata": {},
     "output_type": "execute_result"
    }
   ],
   "source": [
    "mses_diff"
   ]
  },
  {
   "cell_type": "code",
   "execution_count": 47,
   "id": "eb476826-dbd2-4916-a434-aea282e12c1c",
   "metadata": {},
   "outputs": [],
   "source": [
    "from sklearn.datasets import load_diabetes\n",
    "dataset = load_diabetes()\n",
    "X = dataset.data\n",
    "Y = dataset.target"
   ]
  },
  {
   "cell_type": "code",
   "execution_count": 52,
   "id": "b4b6d4a2-b2b6-49bb-9264-49d507b51092",
   "metadata": {},
   "outputs": [
    {
     "data": {
      "text/plain": [
       "array([ 0.03807591,  0.05068012,  0.06169621,  0.02187239, -0.0442235 ,\n",
       "       -0.03482076, -0.04340085, -0.00259226,  0.01990749, -0.01764613])"
      ]
     },
     "execution_count": 52,
     "metadata": {},
     "output_type": "execute_result"
    }
   ],
   "source": [
    "X[0]"
   ]
  },
  {
   "cell_type": "code",
   "execution_count": 49,
   "id": "158682cb-9ebd-433e-a41b-c2b53d89c193",
   "metadata": {},
   "outputs": [
    {
     "data": {
      "text/plain": [
       "array([151.,  75., 141., 206., 135.,  97., 138.,  63., 110., 310., 101.,\n",
       "        69., 179., 185., 118., 171., 166., 144.,  97., 168.,  68.,  49.,\n",
       "        68., 245., 184., 202., 137.,  85., 131., 283., 129.,  59., 341.,\n",
       "        87.,  65., 102., 265., 276., 252.,  90., 100.,  55.,  61.,  92.,\n",
       "       259.,  53., 190., 142.,  75., 142., 155., 225.,  59., 104., 182.,\n",
       "       128.,  52.,  37., 170., 170.,  61., 144.,  52., 128.,  71., 163.,\n",
       "       150.,  97., 160., 178.,  48., 270., 202., 111.,  85.,  42., 170.,\n",
       "       200., 252., 113., 143.,  51.,  52., 210.,  65., 141.,  55., 134.,\n",
       "        42., 111.,  98., 164.,  48.,  96.,  90., 162., 150., 279.,  92.,\n",
       "        83., 128., 102., 302., 198.,  95.,  53., 134., 144., 232.,  81.,\n",
       "       104.,  59., 246., 297., 258., 229., 275., 281., 179., 200., 200.,\n",
       "       173., 180.,  84., 121., 161.,  99., 109., 115., 268., 274., 158.,\n",
       "       107.,  83., 103., 272.,  85., 280., 336., 281., 118., 317., 235.,\n",
       "        60., 174., 259., 178., 128.,  96., 126., 288.,  88., 292.,  71.,\n",
       "       197., 186.,  25.,  84.,  96., 195.,  53., 217., 172., 131., 214.,\n",
       "        59.,  70., 220., 268., 152.,  47.,  74., 295., 101., 151., 127.,\n",
       "       237., 225.,  81., 151., 107.,  64., 138., 185., 265., 101., 137.,\n",
       "       143., 141.,  79., 292., 178.,  91., 116.,  86., 122.,  72., 129.,\n",
       "       142.,  90., 158.,  39., 196., 222., 277.,  99., 196., 202., 155.,\n",
       "        77., 191.,  70.,  73.,  49.,  65., 263., 248., 296., 214., 185.,\n",
       "        78.,  93., 252., 150.,  77., 208.,  77., 108., 160.,  53., 220.,\n",
       "       154., 259.,  90., 246., 124.,  67.,  72., 257., 262., 275., 177.,\n",
       "        71.,  47., 187., 125.,  78.,  51., 258., 215., 303., 243.,  91.,\n",
       "       150., 310., 153., 346.,  63.,  89.,  50.,  39., 103., 308., 116.,\n",
       "       145.,  74.,  45., 115., 264.,  87., 202., 127., 182., 241.,  66.,\n",
       "        94., 283.,  64., 102., 200., 265.,  94., 230., 181., 156., 233.,\n",
       "        60., 219.,  80.,  68., 332., 248.,  84., 200.,  55.,  85.,  89.,\n",
       "        31., 129.,  83., 275.,  65., 198., 236., 253., 124.,  44., 172.,\n",
       "       114., 142., 109., 180., 144., 163., 147.,  97., 220., 190., 109.,\n",
       "       191., 122., 230., 242., 248., 249., 192., 131., 237.,  78., 135.,\n",
       "       244., 199., 270., 164.,  72.,  96., 306.,  91., 214.,  95., 216.,\n",
       "       263., 178., 113., 200., 139., 139.,  88., 148.,  88., 243.,  71.,\n",
       "        77., 109., 272.,  60.,  54., 221.,  90., 311., 281., 182., 321.,\n",
       "        58., 262., 206., 233., 242., 123., 167.,  63., 197.,  71., 168.,\n",
       "       140., 217., 121., 235., 245.,  40.,  52., 104., 132.,  88.,  69.,\n",
       "       219.,  72., 201., 110.,  51., 277.,  63., 118.,  69., 273., 258.,\n",
       "        43., 198., 242., 232., 175.,  93., 168., 275., 293., 281.,  72.,\n",
       "       140., 189., 181., 209., 136., 261., 113., 131., 174., 257.,  55.,\n",
       "        84.,  42., 146., 212., 233.,  91., 111., 152., 120.,  67., 310.,\n",
       "        94., 183.,  66., 173.,  72.,  49.,  64.,  48., 178., 104., 132.,\n",
       "       220.,  57.])"
      ]
     },
     "execution_count": 49,
     "metadata": {},
     "output_type": "execute_result"
    }
   ],
   "source": [
    "Y"
   ]
  },
  {
   "cell_type": "code",
   "execution_count": 50,
   "id": "9985e198-d816-4a35-be3c-0827b5f62192",
   "metadata": {},
   "outputs": [
    {
     "data": {
      "text/plain": [
       "['age', 'sex', 'bmi', 'bp', 's1', 's2', 's3', 's4', 's5', 's6']"
      ]
     },
     "execution_count": 50,
     "metadata": {},
     "output_type": "execute_result"
    }
   ],
   "source": [
    "dataset.feature_names"
   ]
  },
  {
   "cell_type": "code",
   "execution_count": null,
   "id": "2188b0b4",
   "metadata": {},
   "outputs": [],
   "source": [
    "([ 0.03807591,  0.05068012,  0.06169621,  0.02187239, -0.0442235 ,-0.03482076, -0.04340085, -0.00259226,  0.01990749, -0.01764613])"
   ]
  },
  {
   "cell_type": "code",
   "execution_count": 51,
   "id": "d2c89e77-5222-41bd-b229-131af9dfe9a3",
   "metadata": {},
   "outputs": [
    {
     "data": {
      "text/plain": [
       "(442, 10)"
      ]
     },
     "execution_count": 51,
     "metadata": {},
     "output_type": "execute_result"
    }
   ],
   "source": [
    "X.shape"
   ]
  },
  {
   "cell_type": "code",
   "execution_count": 53,
   "id": "6c37ed22-3fe7-48e4-ad7e-da6f47b377c3",
   "metadata": {},
   "outputs": [],
   "source": [
    "from sklearn.model_selection import train_test_split\n",
    "\n",
    "x_train,x_test,y_train,y_test = train_test_split(X,Y,test_size=0.3,random_state=1)\n",
    "\n",
    "ss = StandardScaler()\n",
    "scaled_x_train = ss.fit_transform(x_train)\n",
    "scaled_x_test = ss.fit_transform(x_test)"
   ]
  },
  {
   "cell_type": "code",
   "execution_count": 57,
   "id": "9469b2ec-91f7-4360-84f1-1c1ec078d3eb",
   "metadata": {},
   "outputs": [
    {
     "data": {
      "text/plain": [
       "2879.744196860214"
      ]
     },
     "execution_count": 57,
     "metadata": {},
     "output_type": "execute_result"
    }
   ],
   "source": [
    "model = Ridge()\n",
    "\n",
    "mses_diff_alphas = []\n",
    "alphas = np.linspace(0,0.0001,100)\n",
    "for i in alphas:\n",
    "    model = Ridge(alpha=i)\n",
    "    model.fit(scaled_x_train,y_train)\n",
    "    preds_test = model.predict(scaled_x_test)\n",
    "    mses_diff_alphas.append(mean_squared_error(y_test,preds_test))\n",
    "min(mses_diff_alphas)"
   ]
  },
  {
   "cell_type": "code",
   "execution_count": 58,
   "id": "e008f7e7-b48f-4a11-869d-479043c18708",
   "metadata": {},
   "outputs": [
    {
     "data": {
      "text/plain": [
       "[2879.744196860214,\n",
       " 2879.744203110492,\n",
       " 2879.7442093607715,\n",
       " 2879.7442156110496,\n",
       " 2879.74422186133,\n",
       " 2879.74422811161,\n",
       " 2879.7442343618923,\n",
       " 2879.7442406121727,\n",
       " 2879.744246862456,\n",
       " 2879.7442531127394,\n",
       " 2879.744259363023,\n",
       " 2879.744265613308,\n",
       " 2879.7442718635925,\n",
       " 2879.7442781138784,\n",
       " 2879.7442843641647,\n",
       " 2879.7442906144506,\n",
       " 2879.744296864739,\n",
       " 2879.7443031150274,\n",
       " 2879.744309365316,\n",
       " 2879.7443156156055,\n",
       " 2879.7443218658964,\n",
       " 2879.7443281161877,\n",
       " 2879.744334366479,\n",
       " 2879.7443406167713,\n",
       " 2879.7443468670635,\n",
       " 2879.744353117357,\n",
       " 2879.7443593676508,\n",
       " 2879.7443656179457,\n",
       " 2879.744371868242,\n",
       " 2879.744378118538,\n",
       " 2879.7443843688343,\n",
       " 2879.744390619132,\n",
       " 2879.7443968694292,\n",
       " 2879.7444031197288,\n",
       " 2879.7444093700274,\n",
       " 2879.744415620327,\n",
       " 2879.744421870628,\n",
       " 2879.7444281209278,\n",
       " 2879.7444343712305,\n",
       " 2879.744440621533,\n",
       " 2879.744446871836,\n",
       " 2879.7444531221395,\n",
       " 2879.7444593724445,\n",
       " 2879.744465622749,\n",
       " 2879.744471873055,\n",
       " 2879.7444781233617,\n",
       " 2879.7444843736685,\n",
       " 2879.7444906239766,\n",
       " 2879.7444968742843,\n",
       " 2879.7445031245934,\n",
       " 2879.744509374903,\n",
       " 2879.744515625213,\n",
       " 2879.744521875524,\n",
       " 2879.744528125835,\n",
       " 2879.7445343761474,\n",
       " 2879.7445406264596,\n",
       " 2879.7445468767737,\n",
       " 2879.7445531270887,\n",
       " 2879.7445593774028,\n",
       " 2879.744565627718,\n",
       " 2879.7445718780336,\n",
       " 2879.7445781283504,\n",
       " 2879.7445843786677,\n",
       " 2879.7445906289854,\n",
       " 2879.7445968793045,\n",
       " 2879.7446031296236,\n",
       " 2879.744609379943,\n",
       " 2879.744615630264,\n",
       " 2879.744621880585,\n",
       " 2879.7446281309067,\n",
       " 2879.7446343812303,\n",
       " 2879.744640631552,\n",
       " 2879.7446468818757,\n",
       " 2879.7446531322003,\n",
       " 2879.744659382526,\n",
       " 2879.7446656328507,\n",
       " 2879.744671883178,\n",
       " 2879.7446781335034,\n",
       " 2879.7446843838316,\n",
       " 2879.7446906341606,\n",
       " 2879.744696884488,\n",
       " 2879.744703134819,\n",
       " 2879.7447093851492,\n",
       " 2879.7447156354797,\n",
       " 2879.744721885811,\n",
       " 2879.7447281361433,\n",
       " 2879.744734386476,\n",
       " 2879.744740636809,\n",
       " 2879.7447468871433,\n",
       " 2879.7447531374783,\n",
       " 2879.744759387813,\n",
       " 2879.744765638149,\n",
       " 2879.7447718884855,\n",
       " 2879.7447781388237,\n",
       " 2879.74478438916,\n",
       " 2879.744790639499,\n",
       " 2879.7447968898387,\n",
       " 2879.7448031401786,\n",
       " 2879.744809390519,\n",
       " 2879.7448156408605]"
      ]
     },
     "execution_count": 58,
     "metadata": {},
     "output_type": "execute_result"
    }
   ],
   "source": [
    "mses_diff_alphas"
   ]
  },
  {
   "cell_type": "code",
   "execution_count": 62,
   "id": "31b30825-b9b3-41e1-b69c-e28c22521e3d",
   "metadata": {},
   "outputs": [],
   "source": [
    "from sklearn.datasets import fetch_california_housing\n",
    "\n",
    "dataset = fetch_california_housing()\n",
    "X = dataset.data\n",
    "Y = dataset.target"
   ]
  },
  {
   "cell_type": "code",
   "execution_count": 63,
   "id": "ffbd61ed",
   "metadata": {},
   "outputs": [],
   "source": [
    "from sklearn.model_selection import train_test_split\n",
    "\n",
    "x_train,x_test,y_train,y_test = train_test_split(X,Y,test_size=0.3,random_state=1)\n",
    "\n",
    "ss = StandardScaler()\n",
    "scaled_x_train = ss.fit_transform(x_train)\n",
    "scaled_x_test = ss.fit_transform(x_test)"
   ]
  },
  {
   "cell_type": "code",
   "execution_count": 61,
   "id": "e5162f60-f834-46ff-a85a-e3f79434c1dc",
   "metadata": {},
   "outputs": [
    {
     "data": {
      "text/plain": [
       "['MedInc',\n",
       " 'HouseAge',\n",
       " 'AveRooms',\n",
       " 'AveBedrms',\n",
       " 'Population',\n",
       " 'AveOccup',\n",
       " 'Latitude',\n",
       " 'Longitude']"
      ]
     },
     "execution_count": 61,
     "metadata": {},
     "output_type": "execute_result"
    }
   ],
   "source": [
    "dataset.feature_names"
   ]
  },
  {
   "cell_type": "code",
   "execution_count": 69,
   "id": "d6de477a-c182-4328-9228-e6336ece8a1f",
   "metadata": {},
   "outputs": [
    {
     "name": "stdout",
     "output_type": "stream",
     "text": [
      "39.03903903903904\n"
     ]
    },
    {
     "data": {
      "text/plain": [
       "0.516431941071798"
      ]
     },
     "execution_count": 69,
     "metadata": {},
     "output_type": "execute_result"
    }
   ],
   "source": [
    "model = Ridge()\n",
    "\n",
    "mses_diff_alphas = []\n",
    "alphas = np.linspace(0,1000,1000)\n",
    "for i in alphas:\n",
    "    model = Ridge(alpha=i)\n",
    "    model.fit(scaled_x_train,y_train)\n",
    "    preds_test = model.predict(scaled_x_test)\n",
    "    mses_diff_alphas.append(mean_squared_error(y_test,preds_test))\n",
    "least_index = mses_diff_alphas.index(min(mses_diff_alphas))\n",
    "print(alphas[least_index])\n",
    "min(mses_diff_alphas)"
   ]
  },
  {
   "cell_type": "code",
   "execution_count": 74,
   "id": "0fbe2c5e-b56a-4ab0-bb40-e3a672c62273",
   "metadata": {},
   "outputs": [
    {
     "name": "stdout",
     "output_type": "stream",
     "text": [
      "0.0\n"
     ]
    },
    {
     "data": {
      "text/plain": [
       "0.5166044589686754"
      ]
     },
     "execution_count": 74,
     "metadata": {},
     "output_type": "execute_result"
    }
   ],
   "source": [
    "mses_diff_alphas = []\n",
    "alphas = np.linspace(0,0.0001,500)\n",
    "for i in alphas:\n",
    "    model = Lasso(alpha=i)\n",
    "    model.fit(scaled_x_train,y_train)\n",
    "    preds_test = model.predict(scaled_x_test)\n",
    "    mses_diff_alphas.append(mean_squared_error(y_test,preds_test))\n",
    "least_index = mses_diff_alphas.index(min(mses_diff_alphas))\n",
    "print(alphas[least_index])\n",
    "min(mses_diff_alphas)"
   ]
  },
  {
   "cell_type": "code",
   "execution_count": 76,
   "id": "a7539763",
   "metadata": {},
   "outputs": [
    {
     "data": {
      "text/plain": [
       "[0.5166044589686754,\n",
       " 0.5166044659543134,\n",
       " 0.5166044729263808,\n",
       " 0.5166044799405511,\n",
       " 0.5166044869531864,\n",
       " 0.5166044939014152,\n",
       " 0.5166045009018809,\n",
       " 0.5166045078587609,\n",
       " 0.51660451494472,\n",
       " 0.5166045220197526,\n",
       " 0.5166045290823252,\n",
       " 0.516604536130758,\n",
       " 0.5166045431632093,\n",
       " 0.516604550177661,\n",
       " 0.5166045571719015,\n",
       " 0.5166045641435066,\n",
       " 0.5166045710898199,\n",
       " 0.5166045783876367,\n",
       " 0.5166045853107833,\n",
       " 0.5166045926186887,\n",
       " 0.5166045995154748,\n",
       " 0.5166046063773664,\n",
       " 0.5166046137003925,\n",
       " 0.5166046205285882,\n",
       " 0.5166046278616983,\n",
       " 0.5166046351998603,\n",
       " 0.5166046419951854,\n",
       " 0.5166046493434295,\n",
       " 0.5166046560962433,\n",
       " 0.5166046634545672,\n",
       " 0.5166046708179431,\n",
       " 0.5166046775282201,\n",
       " 0.5166046849016735,\n",
       " 0.516604692280179,\n",
       " 0.5166046989423779,\n",
       " 0.5166047063309583,\n",
       " 0.5166047137245907,\n",
       " 0.516604720332638,\n",
       " 0.5166047277363427,\n",
       " 0.5166047351450993,\n",
       " 0.5166047416923379,\n",
       " 0.5166047491111638,\n",
       " 0.5166047565350417,\n",
       " 0.5166047639639714,\n",
       " 0.5166047704481187,\n",
       " 0.5166047778871143,\n",
       " 0.516604785331162,\n",
       " 0.5166047927802616,\n",
       " 0.5166047991933127,\n",
       " 0.5166048066524747,\n",
       " 0.5166048141166886,\n",
       " 0.5166048215859543,\n",
       " 0.5166048290602722,\n",
       " 0.516604835398459,\n",
       " 0.516604842882835,\n",
       " 0.5166048503722632,\n",
       " 0.5166048578667432,\n",
       " 0.5166048653662751,\n",
       " 0.5166048716199716,\n",
       " 0.5166048791295574,\n",
       " 0.5166048866441952,\n",
       " 0.5166048941638851,\n",
       " 0.5166049016886268,\n",
       " 0.5166049078472807,\n",
       " 0.5166049153820716,\n",
       " 0.5166049229219144,\n",
       " 0.5166049304668093,\n",
       " 0.516604938016756,\n",
       " 0.5166049455717547,\n",
       " 0.5166049516287912,\n",
       " 0.5166049591938339,\n",
       " 0.5166049667639284,\n",
       " 0.5166049743390749,\n",
       " 0.5166049819192734,\n",
       " 0.5166049895045239,\n",
       " 0.5166049970948264,\n",
       " 0.5166050030425405,\n",
       " 0.5166050106428812,\n",
       " 0.5166050182482737,\n",
       " 0.5166050258587183,\n",
       " 0.5166050334742147,\n",
       " 0.5166050410947631,\n",
       " 0.5166050487203635,\n",
       " 0.5166050545448314,\n",
       " 0.5166050621804635,\n",
       " 0.5166050698211478,\n",
       " 0.5166050774668841,\n",
       " 0.5166050851176722,\n",
       " 0.5166050927735123,\n",
       " 0.5166051004344043,\n",
       " 0.5166051081003483,\n",
       " 0.516605113791278,\n",
       " 0.516605121467247,\n",
       " 0.516605129148268,\n",
       " 0.516605136834341,\n",
       " 0.5166051445254658,\n",
       " 0.5166051522216426,\n",
       " 0.5166051599228714,\n",
       " 0.5166051676291521,\n",
       " 0.5166051753404849,\n",
       " 0.5166051808860926,\n",
       " 0.5166051886074429,\n",
       " 0.5166051963338449,\n",
       " 0.516605204065299,\n",
       " 0.5166052118018051,\n",
       " 0.516605219543363,\n",
       " 0.5166052272899729,\n",
       " 0.5166052350416349,\n",
       " 0.5166052427983487,\n",
       " 0.5166052505601145,\n",
       " 0.5166052559469789,\n",
       " 0.5166052637187539,\n",
       " 0.5166052714955809,\n",
       " 0.5166052792774598,\n",
       " 0.5166052870643907,\n",
       " 0.5166052948563735,\n",
       " 0.5166053026534083,\n",
       " 0.516605310455495,\n",
       " 0.5166053182626338,\n",
       " 0.5166053260748245,\n",
       " 0.5166053312827776,\n",
       " 0.5166053391049685,\n",
       " 0.5166053469322113,\n",
       " 0.516605354764506,\n",
       " 0.5166053626018525,\n",
       " 0.5166053704442511,\n",
       " 0.5166053782917018,\n",
       " 0.5166053861442043,\n",
       " 0.5166053940017588,\n",
       " 0.5166054018643652,\n",
       " 0.5166054097320237,\n",
       " 0.5166054176047341,\n",
       " 0.516605422621541,\n",
       " 0.5166054305042416,\n",
       " 0.516605438391994,\n",
       " 0.5166054462847985,\n",
       " 0.5166054541826549,\n",
       " 0.5166054620855635,\n",
       " 0.5166054699935239,\n",
       " 0.5166054779065361,\n",
       " 0.5166054858246004,\n",
       " 0.5166054937477167,\n",
       " 0.5166055016758849,\n",
       " 0.516605509609105,\n",
       " 0.5166055175473772,\n",
       " 0.5166055223536785,\n",
       " 0.51660553030193,\n",
       " 0.5166055382552335,\n",
       " 0.5166055462135888,\n",
       " 0.5166055541769962,\n",
       " 0.5166055621454554,\n",
       " 0.5166055701189667,\n",
       " 0.5166055780975299,\n",
       " 0.5166055860811452,\n",
       " 0.5166055940698123,\n",
       " 0.5166056020635313,\n",
       " 0.5166056100623024,\n",
       " 0.5166056180661255,\n",
       " 0.5166056260750005,\n",
       " 0.5166056306490583,\n",
       " 0.5166056386679007,\n",
       " 0.5166056466917951,\n",
       " 0.5166056547207415,\n",
       " 0.5166056627547397,\n",
       " 0.51660567079379,\n",
       " 0.5166056788378923,\n",
       " 0.5166056868870463,\n",
       " 0.5166056949412526,\n",
       " 0.5166057030005106,\n",
       " 0.5166057110648207,\n",
       " 0.5166057191341827,\n",
       " 0.5166057272085968,\n",
       " 0.5166057352880626,\n",
       " 0.5166057433725806,\n",
       " 0.5166057476900452,\n",
       " 0.5166057557845177,\n",
       " 0.5166057638840419,\n",
       " 0.5166057719886181,\n",
       " 0.5166057800982463,\n",
       " 0.5166057882129266,\n",
       " 0.5166057963326586,\n",
       " 0.5166058044574428,\n",
       " 0.5166058125872788,\n",
       " 0.5166058207221668,\n",
       " 0.5166058288621067,\n",
       " 0.5166058370070986,\n",
       " 0.5166058451571425,\n",
       " 0.5166058533122383,\n",
       " 0.5166058614723861,\n",
       " 0.5166058696375858,\n",
       " 0.5166058778078375,\n",
       " 0.5166058818463805,\n",
       " 0.5166058900265724,\n",
       " 0.5166058982118162,\n",
       " 0.516605906402112,\n",
       " 0.5166059145974597,\n",
       " 0.5166059227978594,\n",
       " 0.5166059310033111,\n",
       " 0.5166059392138148,\n",
       " 0.5166059474293703,\n",
       " 0.5166059556499778,\n",
       " 0.5166059638756374,\n",
       " 0.5166059721063488,\n",
       " 0.5166059803421122,\n",
       " 0.5166059885829276,\n",
       " 0.516605996828795,\n",
       " 0.5166060050797142,\n",
       " 0.5166060133356856,\n",
       " 0.5166060215967088,\n",
       " 0.5166060253259337,\n",
       " 0.5166060335968814,\n",
       " 0.5166060418728812,\n",
       " 0.5166060501539328,\n",
       " 0.5166060584400364,\n",
       " 0.516606066731192,\n",
       " 0.5166060750273996,\n",
       " 0.5166060833286591,\n",
       " 0.5166060916349706,\n",
       " 0.516606099946334,\n",
       " 0.5166061082627494,\n",
       " 0.5166061165842167,\n",
       " 0.5166061249107361,\n",
       " 0.5166061332423074,\n",
       " 0.5166061415789306,\n",
       " 0.5166061499206058,\n",
       " 0.5166061582673329,\n",
       " 0.5166061666191121,\n",
       " 0.5166061749759432,\n",
       " 0.5166061833378262,\n",
       " 0.5166061867287312,\n",
       " 0.5166061951005216,\n",
       " 0.5166062034773641,\n",
       " 0.5166062118592585,\n",
       " 0.5166062202462048,\n",
       " 0.5166062286382032,\n",
       " 0.5166062370352534,\n",
       " 0.5166062454373558,\n",
       " 0.51660625384451,\n",
       " 0.516606262256716,\n",
       " 0.5166062706739741,\n",
       " 0.5166062790962842,\n",
       " 0.5166062875236462,\n",
       " 0.5166062959560601,\n",
       " 0.5166063043935262,\n",
       " 0.516606312836044,\n",
       " 0.516606321283614,\n",
       " 0.5166063297362358,\n",
       " 0.5166063381939096,\n",
       " 0.5166063466566352,\n",
       " 0.5166063551244129,\n",
       " 0.5166063635972424,\n",
       " 0.5166063720751242,\n",
       " 0.5166063750996882,\n",
       " 0.5166063835874586,\n",
       " 0.5166063920802809,\n",
       " 0.5166064005781551,\n",
       " 0.5166064090810814,\n",
       " 0.5166064175890596,\n",
       " 0.5166064261020897,\n",
       " 0.5166064346201719,\n",
       " 0.5166064431433058,\n",
       " 0.5166064516714919,\n",
       " 0.5166064602047299,\n",
       " 0.5166064687430197,\n",
       " 0.5166064772863617,\n",
       " 0.5166064858347555,\n",
       " 0.5166064943882014,\n",
       " 0.5166065029466991,\n",
       " 0.5166065115102488,\n",
       " 0.5166065200788504,\n",
       " 0.5166065286525042,\n",
       " 0.5166065372312098,\n",
       " 0.5166065458149673,\n",
       " 0.5166065544037768,\n",
       " 0.5166065629976383,\n",
       " 0.5166065715965518,\n",
       " 0.51660657421282,\n",
       " 0.5166065828216015,\n",
       " 0.5166065914354353,\n",
       " 0.5166066000543209,\n",
       " 0.5166066086782584,\n",
       " 0.516606617307248,\n",
       " 0.5166066259412895,\n",
       " 0.5166066345803828,\n",
       " 0.5166066432245282,\n",
       " 0.5166066518737256,\n",
       " 0.5166066605279749,\n",
       " 0.5166066691872762,\n",
       " 0.5166066778516293,\n",
       " 0.5166066865210346,\n",
       " 0.5166066951954916,\n",
       " 0.5166067038750008,\n",
       " 0.5166067125595619,\n",
       " 0.5166067212491748,\n",
       " 0.5166067299438398,\n",
       " 0.5166067386435568,\n",
       " 0.5166067473483257,\n",
       " 0.5166067560581464,\n",
       " 0.5166067647730193,\n",
       " 0.5166067734929441,\n",
       " 0.5166067822179207,\n",
       " 0.5166067909479494,\n",
       " 0.5166067996830299,\n",
       " 0.516606801854036,\n",
       " 0.5166068105989624,\n",
       " 0.5166068193489408,\n",
       " 0.5166068281039713,\n",
       " 0.5166068368640536,\n",
       " 0.5166068456291878,\n",
       " 0.5166068543993741,\n",
       " 0.5166068631746124,\n",
       " 0.5166068719549025,\n",
       " 0.5166068807402445,\n",
       " 0.5166068895306386,\n",
       " 0.5166068983260848,\n",
       " 0.5166069071265827,\n",
       " 0.5166069159321327,\n",
       " 0.5166069247427346,\n",
       " 0.5166069335583885,\n",
       " 0.5166069423790942,\n",
       " 0.516606951204852,\n",
       " 0.5166069600356618,\n",
       " 0.5166069688715235,\n",
       " 0.5166069777124371,\n",
       " 0.5166069865584028,\n",
       " 0.5166069954094203,\n",
       " 0.5166070042654898,\n",
       " 0.5166070131266114,\n",
       " 0.5166070219927847,\n",
       " 0.5166070308640102,\n",
       " 0.5166070397402874,\n",
       " 0.5166070486216168,\n",
       " 0.5166070575079981,\n",
       " 0.5166070591915772,\n",
       " 0.5166070680877798,\n",
       " 0.5166070769890343,\n",
       " 0.5166070858953407,\n",
       " 0.5166070948066992,\n",
       " 0.5166071037231096,\n",
       " 0.5166071126445719,\n",
       " 0.5166071215710862,\n",
       " 0.5166071305026525,\n",
       " 0.5166071394392706,\n",
       " 0.5166071483809409,\n",
       " 0.5166071573276629,\n",
       " 0.516607166279437,\n",
       " 0.5166071752362631,\n",
       " 0.5166071841981411,\n",
       " 0.516607193165071,\n",
       " 0.5166072021370529,\n",
       " 0.5166072111140868,\n",
       " 0.5166072200961727,\n",
       " 0.5166072290833105,\n",
       " 0.5166072380755002,\n",
       " 0.5166072470727419,\n",
       " 0.5166072560750357,\n",
       " 0.5166072650823812,\n",
       " 0.5166072740947788,\n",
       " 0.5166072831122283,\n",
       " 0.5166072921347297,\n",
       " 0.5166073011622833,\n",
       " 0.5166073101948886,\n",
       " 0.516607319232546,\n",
       " 0.5166073282752554,\n",
       " 0.5166073373230166,\n",
       " 0.5166073384665401,\n",
       " 0.5166073475240957,\n",
       " 0.5166073565867033,\n",
       " 0.5166073656543629,\n",
       " 0.5166073747270746,\n",
       " 0.516607383804838,\n",
       " 0.5166073928876536,\n",
       " 0.516607401975521,\n",
       " 0.5166074110684404,\n",
       " 0.5166074201664117,\n",
       " 0.516607429269435,\n",
       " 0.5166074383775103,\n",
       " 0.5166074474906376,\n",
       " 0.5166074566088167,\n",
       " 0.5166074657320479,\n",
       " 0.5166074748603309,\n",
       " 0.516607483993666,\n",
       " 0.516607493132053,\n",
       " 0.516607502275492,\n",
       " 0.5166075114239829,\n",
       " 0.5166075205775257,\n",
       " 0.5166075297361206,\n",
       " 0.5166075388997674,\n",
       " 0.5166075480684661,\n",
       " 0.5166075572422169,\n",
       " 0.5166075664210195,\n",
       " 0.5166075756048741,\n",
       " 0.5166075847937807,\n",
       " 0.5166075939877391,\n",
       " 0.5166076031867497,\n",
       " 0.5166076123908121,\n",
       " 0.5166076215999266,\n",
       " 0.5166076308140929,\n",
       " 0.5166076400333113,\n",
       " 0.5166076492575815,\n",
       " 0.5166076584869037,\n",
       " 0.516607659040959,\n",
       " 0.5166076682800462,\n",
       " 0.5166076775241853,\n",
       " 0.5166076867733765,\n",
       " 0.5166076960276197,\n",
       " 0.5166077052869147,\n",
       " 0.5166077145512618,\n",
       " 0.5166077238206608,\n",
       " 0.5166077330951118,\n",
       " 0.5166077423746147,\n",
       " 0.5166077516591695,\n",
       " 0.5166077609487763,\n",
       " 0.5166077702434351,\n",
       " 0.5166077795431459,\n",
       " 0.5166077888479086,\n",
       " 0.5166077981577232,\n",
       " 0.5166078074725898,\n",
       " 0.5166078167925083,\n",
       " 0.5166078261174788,\n",
       " 0.5166078354475013,\n",
       " 0.5166078447825757,\n",
       " 0.5166078541227022,\n",
       " 0.5166078634678805,\n",
       " 0.5166078728181108,\n",
       " 0.516607882173393,\n",
       " 0.5166078915337272,\n",
       " 0.5166079008991133,\n",
       " 0.5166079102695516,\n",
       " 0.5166079196450417,\n",
       " 0.5166079290255836,\n",
       " 0.5166079384111776,\n",
       " 0.5166079478018236,\n",
       " 0.5166079571975215,\n",
       " 0.5166079665982714,\n",
       " 0.5166079760040733,\n",
       " 0.5166079854149269,\n",
       " 0.5166079948308328,\n",
       " 0.5166080042517904,\n",
       " 0.5166080136778001,\n",
       " 0.5166080135812723,\n",
       " 0.5166080230170149,\n",
       " 0.5166080324578093,\n",
       " 0.5166080419036557,\n",
       " 0.5166080513545541,\n",
       " 0.5166080608105045,\n",
       " 0.5166080702715068,\n",
       " 0.516608079737561,\n",
       " 0.5166080892086671,\n",
       " 0.5166080986848253,\n",
       " 0.5166081081660354,\n",
       " 0.5166081176522975,\n",
       " 0.5166081271436115,\n",
       " 0.5166081366399775,\n",
       " 0.5166081461413954,\n",
       " 0.5166081556478653,\n",
       " 0.5166081651593871,\n",
       " 0.516608174675961,\n",
       " 0.5166081841975867,\n",
       " 0.5166081937242644,\n",
       " 0.516608203255994,\n",
       " 0.5166082127927757,\n",
       " 0.5166082223346092,\n",
       " 0.5166082318814949,\n",
       " 0.5166082414334323,\n",
       " 0.5166082509904217,\n",
       " 0.5166082605524631,\n",
       " 0.5166082701195565,\n",
       " 0.5166082796917019,\n",
       " 0.5166082892688991,\n",
       " 0.5166082988511483,\n",
       " 0.5166083084384495,\n",
       " 0.5166083180308028,\n",
       " 0.5166083276282079,\n",
       " 0.5166083372306648,\n",
       " 0.5166083468381738,\n",
       " 0.5166083564507348,\n",
       " 0.5166083660683477,\n",
       " 0.5166083756910126,\n",
       " 0.5166083853187295,\n",
       " 0.5166083949514982,\n",
       " 0.516608404589319,\n",
       " 0.5166084142321918,\n",
       " 0.5166084134209805,\n",
       " 0.5166084230735509,\n",
       " 0.5166084327311732,\n",
       " 0.5166084423938475,\n",
       " 0.5166084520615737,\n",
       " 0.5166084617343518,\n",
       " 0.516608471412182,\n",
       " 0.5166084810950641,\n",
       " 0.5166084907829982,\n",
       " 0.5166085004759843,\n",
       " 0.5166085101740222,\n",
       " 0.5166085198771121,\n",
       " 0.5166085295852539,\n",
       " 0.5166085392984479,\n",
       " 0.5166085490166935,\n",
       " 0.5166085587399915,\n",
       " 0.5166085684683411]"
      ]
     },
     "execution_count": 76,
     "metadata": {},
     "output_type": "execute_result"
    }
   ],
   "source": [
    "mses_diff_alphas"
   ]
  },
  {
   "cell_type": "code",
   "execution_count": 75,
   "id": "b97d0d31-c867-41c5-910e-c4908ea8eaa7",
   "metadata": {},
   "outputs": [
    {
     "data": {
      "image/png": "[encoded data removed]",
      "text/plain": [
       "<Figure size 640x480 with 1 Axes>"
      ]
     },
     "metadata": {},
     "output_type": "display_data"
    }
   ],
   "source": [
    "plt.plot(np.linspace(0,0.0001,500),mses_diff_alphas)\n",
    "plt.show()"
   ]
  },
  {
   "cell_type": "code",
   "execution_count": 77,
   "id": "564d6399-9a53-4ae6-a45a-5f4cff354d71",
   "metadata": {},
   "outputs": [
    {
     "data": {
      "text/html": [
       "<div>\n",
       "<style scoped>\n",
       "    .dataframe tbody tr th:only-of-type {\n",
       "        vertical-align: middle;\n",
       "    }\n",
       "\n",
       "    .dataframe tbody tr th {\n",
       "        vertical-align: top;\n",
       "    }\n",
       "\n",
       "    .dataframe thead th {\n",
       "        text-align: right;\n",
       "    }\n",
       "</style>\n",
       "<table border=\"1\" class=\"dataframe\">\n",
       "  <thead>\n",
       "    <tr style=\"text-align: right;\">\n",
       "      <th></th>\n",
       "      <th>YearsExperience</th>\n",
       "      <th>Salary</th>\n",
       "    </tr>\n",
       "  </thead>\n",
       "  <tbody>\n",
       "    <tr>\n",
       "      <th>0</th>\n",
       "      <td>1.1</td>\n",
       "      <td>39343.0</td>\n",
       "    </tr>\n",
       "    <tr>\n",
       "      <th>1</th>\n",
       "      <td>1.3</td>\n",
       "      <td>46205.0</td>\n",
       "    </tr>\n",
       "    <tr>\n",
       "      <th>2</th>\n",
       "      <td>1.5</td>\n",
       "      <td>37731.0</td>\n",
       "    </tr>\n",
       "    <tr>\n",
       "      <th>3</th>\n",
       "      <td>2.0</td>\n",
       "      <td>43525.0</td>\n",
       "    </tr>\n",
       "    <tr>\n",
       "      <th>4</th>\n",
       "      <td>2.2</td>\n",
       "      <td>39891.0</td>\n",
       "    </tr>\n",
       "  </tbody>\n",
       "</table>\n",
       "</div>"
      ],
      "text/plain": [
       "   YearsExperience   Salary\n",
       "0              1.1  39343.0\n",
       "1              1.3  46205.0\n",
       "2              1.5  37731.0\n",
       "3              2.0  43525.0\n",
       "4              2.2  39891.0"
      ]
     },
     "execution_count": 77,
     "metadata": {},
     "output_type": "execute_result"
    }
   ],
   "source": [
    "df = pd.read_csv(\"Salary_Data.csv\")\n",
    "df.head()"
   ]
  },
  {
   "cell_type": "code",
   "execution_count": 78,
   "id": "2b2d28c6-e18f-46b9-a4a0-b524dcd51c29",
   "metadata": {},
   "outputs": [],
   "source": [
    "X = df['YearsExperience'].values.reshape(-1,1)\n",
    "Y = df['Salary'].values"
   ]
  },
  {
   "cell_type": "code",
   "execution_count": 79,
   "id": "c8b6155c-78c5-4a9a-b124-008f892dd7ec",
   "metadata": {},
   "outputs": [],
   "source": [
    "from sklearn.model_selection import train_test_split\n",
    "\n",
    "x_train,x_test,y_train,y_test = train_test_split(X,Y,test_size=0.3,random_state=1)"
   ]
  },
  {
   "cell_type": "code",
   "execution_count": 89,
   "id": "2a6dbb12-a03b-42cc-8347-9c8aae310b1c",
   "metadata": {},
   "outputs": [
    {
     "data": {
      "text/html": [
       "<style>#sk-container-id-4 {color: black;background-color: white;}#sk-container-id-4 pre{padding: 0;}#sk-container-id-4 div.sk-toggleable {background-color: white;}#sk-container-id-4 label.sk-toggleable__label {cursor: pointer;display: block;width: 100%;margin-bottom: 0;padding: 0.3em;box-sizing: border-box;text-align: center;}#sk-container-id-4 label.sk-toggleable__label-arrow:before {content: \"▸\";float: left;margin-right: 0.25em;color: #696969;}#sk-container-id-4 label.sk-toggleable__label-arrow:hover:before {color: black;}#sk-container-id-4 div.sk-estimator:hover label.sk-toggleable__label-arrow:before {color: black;}#sk-container-id-4 div.sk-toggleable__content {max-height: 0;max-width: 0;overflow: hidden;text-align: left;background-color: #f0f8ff;}#sk-container-id-4 div.sk-toggleable__content pre {margin: 0.2em;color: black;border-radius: 0.25em;background-color: #f0f8ff;}#sk-container-id-4 input.sk-toggleable__control:checked~div.sk-toggleable__content {max-height: 200px;max-width: 100%;overflow: auto;}#sk-container-id-4 input.sk-toggleable__control:checked~label.sk-toggleable__label-arrow:before {content: \"▾\";}#sk-container-id-4 div.sk-estimator input.sk-toggleable__control:checked~label.sk-toggleable__label {background-color: #d4ebff;}#sk-container-id-4 div.sk-label input.sk-toggleable__control:checked~label.sk-toggleable__label {background-color: #d4ebff;}#sk-container-id-4 input.sk-hidden--visually {border: 0;clip: rect(1px 1px 1px 1px);clip: rect(1px, 1px, 1px, 1px);height: 1px;margin: -1px;overflow: hidden;padding: 0;position: absolute;width: 1px;}#sk-container-id-4 div.sk-estimator {font-family: monospace;background-color: #f0f8ff;border: 1px dotted black;border-radius: 0.25em;box-sizing: border-box;margin-bottom: 0.5em;}#sk-container-id-4 div.sk-estimator:hover {background-color: #d4ebff;}#sk-container-id-4 div.sk-parallel-item::after {content: \"\";width: 100%;border-bottom: 1px solid gray;flex-grow: 1;}#sk-container-id-4 div.sk-label:hover label.sk-toggleable__label {background-color: #d4ebff;}#sk-container-id-4 div.sk-serial::before {content: \"\";position: absolute;border-left: 1px solid gray;box-sizing: border-box;top: 0;bottom: 0;left: 50%;z-index: 0;}#sk-container-id-4 div.sk-serial {display: flex;flex-direction: column;align-items: center;background-color: white;padding-right: 0.2em;padding-left: 0.2em;position: relative;}#sk-container-id-4 div.sk-item {position: relative;z-index: 1;}#sk-container-id-4 div.sk-parallel {display: flex;align-items: stretch;justify-content: center;background-color: white;position: relative;}#sk-container-id-4 div.sk-item::before, #sk-container-id-4 div.sk-parallel-item::before {content: \"\";position: absolute;border-left: 1px solid gray;box-sizing: border-box;top: 0;bottom: 0;left: 50%;z-index: -1;}#sk-container-id-4 div.sk-parallel-item {display: flex;flex-direction: column;z-index: 1;position: relative;background-color: white;}#sk-container-id-4 div.sk-parallel-item:first-child::after {align-self: flex-end;width: 50%;}#sk-container-id-4 div.sk-parallel-item:last-child::after {align-self: flex-start;width: 50%;}#sk-container-id-4 div.sk-parallel-item:only-child::after {width: 0;}#sk-container-id-4 div.sk-dashed-wrapped {border: 1px dashed gray;margin: 0 0.4em 0.5em 0.4em;box-sizing: border-box;padding-bottom: 0.4em;background-color: white;}#sk-container-id-4 div.sk-label label {font-family: monospace;font-weight: bold;display: inline-block;line-height: 1.2em;}#sk-container-id-4 div.sk-label-container {text-align: center;}#sk-container-id-4 div.sk-container {/* jupyter's `normalize.less` sets `[hidden] { display: none; }` but bootstrap.min.css set `[hidden] { display: none !important; }` so we also need the `!important` here to be able to override the default hidden behavior on the sphinx rendered scikit-learn.org. See: https://github.com/scikit-learn/scikit-learn/issues/21755 */display: inline-block !important;position: relative;}#sk-container-id-4 div.sk-text-repr-fallback {display: none;}</style><div id=\"sk-container-id-4\" class=\"sk-top-container\"><div class=\"sk-text-repr-fallback\"><pre>SGDRegressor()</pre><b>In a Jupyter environment, please rerun this cell to show the HTML representation or trust the notebook. <br />On GitHub, the HTML representation is unable to render, please try loading this page with nbviewer.org.</b></div><div class=\"sk-container\" hidden><div class=\"sk-item\"><div class=\"sk-estimator sk-toggleable\"><input class=\"sk-toggleable__control sk-hidden--visually\" id=\"sk-estimator-id-4\" type=\"checkbox\" checked><label for=\"sk-estimator-id-4\" class=\"sk-toggleable__label sk-toggleable__label-arrow\">SGDRegressor</label><div class=\"sk-toggleable__content\"><pre>SGDRegressor()</pre></div></div></div></div></div>"
      ],
      "text/plain": [
       "SGDRegressor()"
      ]
     },
     "execution_count": 89,
     "metadata": {},
     "output_type": "execute_result"
    }
   ],
   "source": [
    "from sklearn.linear_model import SGDRegressor\n",
    "model = SGDRegressor(eta0=0.01,penalty='l2')\n",
    "model.fit(x_train,y_train)"
   ]
  },
  {
   "cell_type": "code",
   "execution_count": 90,
   "id": "1b0aa4a2-6f13-4206-afa1-c514bbc9a5a9",
   "metadata": {},
   "outputs": [
    {
     "data": {
      "text/plain": [
       "array([ 73201.54142608,  91510.98551759,  58960.86268824,  80321.880795  ,\n",
       "        65064.01071874,  88459.41150234, 115923.57763961,  39634.22725831,\n",
       "       107786.04693227])"
      ]
     },
     "execution_count": 90,
     "metadata": {},
     "output_type": "execute_result"
    }
   ],
   "source": [
    "model.predict(x_test.reshape(-1,1))"
   ]
  },
  {
   "cell_type": "code",
   "execution_count": null,
   "id": "fdda8e5a-dadb-49cf-aaf8-31c087137cc7",
   "metadata": {},
   "outputs": [],
   "source": []
  },
  {
   "cell_type": "code",
   "execution_count": null,
   "id": "bd487bc7-cc22-457d-a558-0b14a6a06027",
   "metadata": {},
   "outputs": [],
   "source": []
  },
  {
   "cell_type": "code",
   "execution_count": null,
   "id": "a66d508d-11ea-4773-983d-f66b3e464a01",
   "metadata": {},
   "outputs": [],
   "source": []
  },
  {
   "cell_type": "code",
   "execution_count": null,
   "id": "236d499d-c9a0-426b-b067-d7f9adfc03b4",
   "metadata": {},
   "outputs": [],
   "source": []
  },
  {
   "cell_type": "code",
   "execution_count": null,
   "id": "c7b6fac6-94f8-4701-9c94-b4ed387b205e",
   "metadata": {},
   "outputs": [],
   "source": []
  },
  {
   "cell_type": "code",
   "execution_count": null,
   "id": "adf22c1d-9294-4252-9afd-854328d4b316",
   "metadata": {},
   "outputs": [],
   "source": []
  },
  {
   "cell_type": "code",
   "execution_count": null,
   "id": "9235b5f4-2c71-4e86-8eb8-598bde079f6c",
   "metadata": {},
   "outputs": [],
   "source": []
  },
  {
   "cell_type": "code",
   "execution_count": null,
   "id": "e3261c6e-e4a5-4011-9014-594114360ddc",
   "metadata": {},
   "outputs": [],
   "source": []
  }
 ],
 "metadata": {
  "kernelspec": {
   "display_name": "base",
   "language": "python",
   "name": "python3"
  },
  "language_info": {
   "codemirror_mode": {
    "name": "ipython",
    "version": 3
   },
   "file_extension": ".py",
   "mimetype": "text/x-python",
   "name": "python",
   "nbconvert_exporter": "python",
   "pygments_lexer": "ipython3",
   "version": "3.9.13"
  }
 },
 "nbformat": 4,
 "nbformat_minor": 5
}
