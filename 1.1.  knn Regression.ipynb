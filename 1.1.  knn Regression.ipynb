{
 "cells": [
  {
   "cell_type": "code",
   "execution_count": 1,
   "id": "2dce3640-c8af-46ef-925e-30f36609db17",
   "metadata": {},
   "outputs": [
    {
     "name": "stderr",
     "output_type": "stream",
     "text": [
      "c:\\ProgramData\\Anaconda3\\lib\\site-packages\\scipy\\__init__.py:155: UserWarning: A NumPy version >=1.18.5 and <1.25.0 is required for this version of SciPy (detected version 1.26.2\n",
      "  warnings.warn(f\"A NumPy version >={np_minversion} and <{np_maxversion}\"\n"
     ]
    }
   ],
   "source": [
    "# synthetic regression datasets\n",
    "from sklearn.datasets import make_regression\n",
    "X,Y = make_regression(n_samples=100,n_features=3,n_informative=2,random_state=1)"
   ]
  },
  {
   "cell_type": "code",
   "execution_count": 2,
   "id": "90efdfc1-3baf-4ee5-9420-bce53b887c9a",
   "metadata": {},
   "outputs": [
    {
     "data": {
      "text/plain": [
       "(100, 3)"
      ]
     },
     "execution_count": 2,
     "metadata": {},
     "output_type": "execute_result"
    }
   ],
   "source": [
    "X.shape # no of inputs,no of features"
   ]
  },
  {
   "cell_type": "code",
   "execution_count": 3,
   "id": "d62e5413-0c07-412f-af66-a7815fcd1727",
   "metadata": {},
   "outputs": [
    {
     "data": {
      "text/plain": [
       "(100,)"
      ]
     },
     "execution_count": 3,
     "metadata": {},
     "output_type": "execute_result"
    }
   ],
   "source": [
    "Y.shape # no of output "
   ]
  },
  {
   "cell_type": "code",
   "execution_count": 4,
   "id": "546912d3-1665-4131-8859-899b1b2bb09b",
   "metadata": {},
   "outputs": [
    {
     "data": {
      "text/plain": [
       "array([-1.04439256e+02,  6.31378200e+01,  3.57606596e+01,  1.86878803e+02,\n",
       "        3.95268134e+01, -1.12321735e+01,  7.64976566e+01, -1.45698167e+02,\n",
       "        5.05541723e+01, -5.36390735e+01, -5.69318174e+01,  4.60362622e+01,\n",
       "       -4.46307507e+01,  9.97431896e+01, -1.63207115e+01, -1.07453234e+01,\n",
       "       -3.79996891e+01,  9.65786941e+01, -1.34801081e+01,  7.99212630e+00,\n",
       "       -7.77643084e+01,  3.28339052e+01,  2.76791237e+01,  2.68550680e+01,\n",
       "        2.25054343e+00,  3.81428311e+01,  1.55963072e+00,  4.51424650e-02,\n",
       "       -1.07170071e+02, -7.96555334e+01,  2.16345268e+01, -6.25743778e+00,\n",
       "       -3.57413352e+01, -2.11289592e+01, -7.70388970e+01, -1.61257183e+02,\n",
       "       -1.55308856e+02,  7.40131107e+01, -3.65834879e+01,  1.52382617e+01,\n",
       "        5.78063296e+01,  5.23516542e+01,  1.48784231e+02,  4.96428187e+01,\n",
       "        2.91520981e+00, -2.10283412e+01,  5.44848335e+01, -9.86752139e+00,\n",
       "        6.54120911e+01,  1.03020310e+02,  5.07248558e+01,  4.84234725e+00,\n",
       "        4.73624085e+01,  3.62021461e+01, -6.08286615e+01,  5.80281116e+01,\n",
       "        7.52468978e+01, -8.20123487e+01,  4.12050140e+01, -2.23387786e+01,\n",
       "       -4.61694823e+01,  7.31307613e+01, -6.18255170e+00,  3.71074754e+00,\n",
       "        7.58324422e+01,  9.15845802e+01,  6.42517880e+01, -1.11809468e+02,\n",
       "       -4.01024544e+01, -1.26787423e+02, -3.68876684e+01, -7.63881576e+01,\n",
       "       -9.25151430e+01,  5.77549132e+01,  2.76296831e+01,  1.97840400e+00,\n",
       "        1.56842235e+01,  3.14056906e+01, -9.78513419e+01, -1.70458970e+01,\n",
       "        1.02908993e+01,  2.72145378e+00,  4.08478468e+01, -3.59629528e+00,\n",
       "       -1.29534742e+01, -2.11835448e+01,  2.37695552e+01,  2.48855539e+01,\n",
       "        1.26701685e+02,  2.61220836e+01,  1.63854861e+01, -1.19162118e+01,\n",
       "       -5.86327009e+01,  1.38396299e+02,  6.37489733e+01, -2.08860237e+01,\n",
       "        3.88693792e+01, -4.27798714e+01, -1.26595464e+01,  1.22312326e+02])"
      ]
     },
     "execution_count": 4,
     "metadata": {},
     "output_type": "execute_result"
    }
   ],
   "source": [
    "Y"
   ]
  },
  {
   "cell_type": "code",
   "execution_count": 5,
   "id": "33a95aa8-93bf-4ff5-b848-96997a9c286c",
   "metadata": {},
   "outputs": [],
   "source": [
    "import pandas as pd\n",
    "df = pd.DataFrame(X,columns=['X1','X2','X3'])"
   ]
  },
  {
   "cell_type": "code",
   "execution_count": 6,
   "id": "f651e99d-f7bf-4c47-8f9f-7f1f7654607a",
   "metadata": {},
   "outputs": [],
   "source": [
    "df['Y'] = Y"
   ]
  },
  {
   "cell_type": "code",
   "execution_count": 7,
   "id": "06cb16ed-5356-4139-be6d-b08b6d967813",
   "metadata": {},
   "outputs": [
    {
     "data": {
      "text/html": [
       "<div>\n",
       "<style scoped>\n",
       "    .dataframe tbody tr th:only-of-type {\n",
       "        vertical-align: middle;\n",
       "    }\n",
       "\n",
       "    .dataframe tbody tr th {\n",
       "        vertical-align: top;\n",
       "    }\n",
       "\n",
       "    .dataframe thead th {\n",
       "        text-align: right;\n",
       "    }\n",
       "</style>\n",
       "<table border=\"1\" class=\"dataframe\">\n",
       "  <thead>\n",
       "    <tr style=\"text-align: right;\">\n",
       "      <th></th>\n",
       "      <th>X1</th>\n",
       "      <th>X2</th>\n",
       "      <th>X3</th>\n",
       "      <th>Y</th>\n",
       "    </tr>\n",
       "  </thead>\n",
       "  <tbody>\n",
       "    <tr>\n",
       "      <th>0</th>\n",
       "      <td>-1.119115</td>\n",
       "      <td>-0.890556</td>\n",
       "      <td>1.956079</td>\n",
       "      <td>-104.439256</td>\n",
       "    </tr>\n",
       "    <tr>\n",
       "      <th>1</th>\n",
       "      <td>0.846161</td>\n",
       "      <td>0.315159</td>\n",
       "      <td>-0.859516</td>\n",
       "      <td>63.137820</td>\n",
       "    </tr>\n",
       "    <tr>\n",
       "      <th>2</th>\n",
       "      <td>0.582815</td>\n",
       "      <td>0.042214</td>\n",
       "      <td>-1.100619</td>\n",
       "      <td>35.760660</td>\n",
       "    </tr>\n",
       "    <tr>\n",
       "      <th>3</th>\n",
       "      <td>2.528326</td>\n",
       "      <td>0.901487</td>\n",
       "      <td>-0.248635</td>\n",
       "      <td>186.878803</td>\n",
       "    </tr>\n",
       "    <tr>\n",
       "      <th>4</th>\n",
       "      <td>1.252868</td>\n",
       "      <td>-0.754398</td>\n",
       "      <td>0.512930</td>\n",
       "      <td>39.526813</td>\n",
       "    </tr>\n",
       "    <tr>\n",
       "      <th>...</th>\n",
       "      <td>...</td>\n",
       "      <td>...</td>\n",
       "      <td>...</td>\n",
       "      <td>...</td>\n",
       "    </tr>\n",
       "    <tr>\n",
       "      <th>95</th>\n",
       "      <td>-0.955425</td>\n",
       "      <td>0.784771</td>\n",
       "      <td>0.585910</td>\n",
       "      <td>-20.886024</td>\n",
       "    </tr>\n",
       "    <tr>\n",
       "      <th>96</th>\n",
       "      <td>0.240737</td>\n",
       "      <td>0.562761</td>\n",
       "      <td>0.280665</td>\n",
       "      <td>38.869379</td>\n",
       "    </tr>\n",
       "    <tr>\n",
       "      <th>97</th>\n",
       "      <td>-0.203394</td>\n",
       "      <td>-0.700399</td>\n",
       "      <td>0.242669</td>\n",
       "      <td>-42.779871</td>\n",
       "    </tr>\n",
       "    <tr>\n",
       "      <th>98</th>\n",
       "      <td>0.043597</td>\n",
       "      <td>-0.343854</td>\n",
       "      <td>-0.620001</td>\n",
       "      <td>-12.659546</td>\n",
       "    </tr>\n",
       "    <tr>\n",
       "      <th>99</th>\n",
       "      <td>0.441364</td>\n",
       "      <td>2.186980</td>\n",
       "      <td>-0.100155</td>\n",
       "      <td>122.312326</td>\n",
       "    </tr>\n",
       "  </tbody>\n",
       "</table>\n",
       "<p>100 rows × 4 columns</p>\n",
       "</div>"
      ],
      "text/plain": [
       "          X1        X2        X3           Y\n",
       "0  -1.119115 -0.890556  1.956079 -104.439256\n",
       "1   0.846161  0.315159 -0.859516   63.137820\n",
       "2   0.582815  0.042214 -1.100619   35.760660\n",
       "3   2.528326  0.901487 -0.248635  186.878803\n",
       "4   1.252868 -0.754398  0.512930   39.526813\n",
       "..       ...       ...       ...         ...\n",
       "95 -0.955425  0.784771  0.585910  -20.886024\n",
       "96  0.240737  0.562761  0.280665   38.869379\n",
       "97 -0.203394 -0.700399  0.242669  -42.779871\n",
       "98  0.043597 -0.343854 -0.620001  -12.659546\n",
       "99  0.441364  2.186980 -0.100155  122.312326\n",
       "\n",
       "[100 rows x 4 columns]"
      ]
     },
     "execution_count": 7,
     "metadata": {},
     "output_type": "execute_result"
    }
   ],
   "source": [
    "df"
   ]
  },
  {
   "cell_type": "code",
   "execution_count": 8,
   "id": "572e5b0f-5ed4-4d94-9644-b68cd56ae99f",
   "metadata": {},
   "outputs": [],
   "source": [
    "# synthetic regression datasets\n",
    "from sklearn.datasets import make_regression\n",
    "X,Y = make_regression(n_samples=100,n_features=3,n_informative=2,random_state=1,n_targets=2)"
   ]
  },
  {
   "cell_type": "code",
   "execution_count": 9,
   "id": "91874461-6e22-4199-a8ac-171f4c80e272",
   "metadata": {},
   "outputs": [
    {
     "data": {
      "text/plain": [
       "(100, 2)"
      ]
     },
     "execution_count": 9,
     "metadata": {},
     "output_type": "execute_result"
    }
   ],
   "source": [
    "Y.shape"
   ]
  },
  {
   "cell_type": "code",
   "execution_count": 10,
   "id": "bde8bad3-71b3-4ba4-84d0-23b865e6b382",
   "metadata": {},
   "outputs": [],
   "source": [
    "# inbuilt datasets\n",
    "# TOY datasets\n",
    "# realworld datasets\n",
    "# Kaggle\n",
    "# UCI ML datasets"
   ]
  },
  {
   "cell_type": "code",
   "execution_count": 11,
   "id": "b9859569-e949-4f75-b61e-657330df776f",
   "metadata": {},
   "outputs": [
    {
     "data": {
      "text/plain": [
       "(30, 2)"
      ]
     },
     "execution_count": 11,
     "metadata": {},
     "output_type": "execute_result"
    }
   ],
   "source": [
    "# Univariate Regression\n",
    "df = pd.read_csv(\"Salary_Data.csv\")\n",
    "df.shape"
   ]
  },
  {
   "cell_type": "code",
   "execution_count": 12,
   "id": "f029db28-f436-4802-a832-ec415bf92643",
   "metadata": {},
   "outputs": [
    {
     "data": {
      "text/plain": [
       "Index(['YearsExperience', 'Salary'], dtype='object')"
      ]
     },
     "execution_count": 12,
     "metadata": {},
     "output_type": "execute_result"
    }
   ],
   "source": [
    "df.columns"
   ]
  },
  {
   "cell_type": "code",
   "execution_count": 13,
   "id": "0d71e317-6916-4fb0-886b-6cd46886a46a",
   "metadata": {},
   "outputs": [
    {
     "data": {
      "text/plain": [
       "30"
      ]
     },
     "execution_count": 13,
     "metadata": {},
     "output_type": "execute_result"
    }
   ],
   "source": [
    "df.shape[0]"
   ]
  },
  {
   "cell_type": "code",
   "execution_count": 14,
   "id": "b4c531db-4bc7-4ab3-99d6-9d8c796461bf",
   "metadata": {},
   "outputs": [
    {
     "data": {
      "text/plain": [
       "array([ 5, 11, 12,  8,  9])"
      ]
     },
     "execution_count": 14,
     "metadata": {},
     "output_type": "execute_result"
    }
   ],
   "source": [
    "import numpy as np\n",
    "np.random.seed(1)\n",
    "np.random.choice(df.shape[0],5)"
   ]
  },
  {
   "cell_type": "code",
   "execution_count": 15,
   "id": "e19dc5e6-b502-4203-91bf-ce724814f533",
   "metadata": {},
   "outputs": [
    {
     "data": {
      "text/plain": [
       "[4, 18, 27, 25, 24]"
      ]
     },
     "execution_count": 15,
     "metadata": {},
     "output_type": "execute_result"
    }
   ],
   "source": [
    "import random\n",
    "random.seed(1)\n",
    "ind = random.sample(list(range(df.shape[0])),5)\n",
    "ind"
   ]
  },
  {
   "cell_type": "code",
   "execution_count": 16,
   "id": "6185ff1e-159b-434b-a06a-7d0e2d9e9919",
   "metadata": {},
   "outputs": [
    {
     "data": {
      "text/html": [
       "<div>\n",
       "<style scoped>\n",
       "    .dataframe tbody tr th:only-of-type {\n",
       "        vertical-align: middle;\n",
       "    }\n",
       "\n",
       "    .dataframe tbody tr th {\n",
       "        vertical-align: top;\n",
       "    }\n",
       "\n",
       "    .dataframe thead th {\n",
       "        text-align: right;\n",
       "    }\n",
       "</style>\n",
       "<table border=\"1\" class=\"dataframe\">\n",
       "  <thead>\n",
       "    <tr style=\"text-align: right;\">\n",
       "      <th></th>\n",
       "      <th>YearsExperience</th>\n",
       "      <th>Salary</th>\n",
       "    </tr>\n",
       "  </thead>\n",
       "  <tbody>\n",
       "    <tr>\n",
       "      <th>4</th>\n",
       "      <td>2.2</td>\n",
       "      <td>39891.0</td>\n",
       "    </tr>\n",
       "    <tr>\n",
       "      <th>18</th>\n",
       "      <td>5.9</td>\n",
       "      <td>81363.0</td>\n",
       "    </tr>\n",
       "    <tr>\n",
       "      <th>27</th>\n",
       "      <td>9.6</td>\n",
       "      <td>112635.0</td>\n",
       "    </tr>\n",
       "    <tr>\n",
       "      <th>25</th>\n",
       "      <td>9.0</td>\n",
       "      <td>105582.0</td>\n",
       "    </tr>\n",
       "    <tr>\n",
       "      <th>24</th>\n",
       "      <td>8.7</td>\n",
       "      <td>109431.0</td>\n",
       "    </tr>\n",
       "  </tbody>\n",
       "</table>\n",
       "</div>"
      ],
      "text/plain": [
       "    YearsExperience    Salary\n",
       "4               2.2   39891.0\n",
       "18              5.9   81363.0\n",
       "27              9.6  112635.0\n",
       "25              9.0  105582.0\n",
       "24              8.7  109431.0"
      ]
     },
     "execution_count": 16,
     "metadata": {},
     "output_type": "execute_result"
    }
   ],
   "source": [
    "df.loc[ind] # taking data from random samples"
   ]
  },
  {
   "cell_type": "code",
   "execution_count": 21,
   "id": "0e690933-82c9-4886-87dd-ff3db53a5c03",
   "metadata": {},
   "outputs": [
    {
     "data": {
      "text/plain": [
       "array([[2.2],\n",
       "       [5.9],\n",
       "       [9.6],\n",
       "       [9. ],\n",
       "       [8.7]])"
      ]
     },
     "execution_count": 21,
     "metadata": {},
     "output_type": "execute_result"
    }
   ],
   "source": [
    "df.loc[ind]['YearsExperience'].values.reshape(-1,1)"
   ]
  },
  {
   "cell_type": "code",
   "execution_count": 22,
   "id": "b3341cf6-9abe-4d14-9477-93d6fadb7691",
   "metadata": {},
   "outputs": [
    {
     "data": {
      "text/plain": [
       "KNeighborsRegressor(metric='manhattan', n_neighbors=1)"
      ]
     },
     "execution_count": 22,
     "metadata": {},
     "output_type": "execute_result"
    }
   ],
   "source": [
    "# KNN (K -Nearest Neidhbors)\n",
    "# where k is the no of neighbors used for making predictions\n",
    "\n",
    "from sklearn.neighbors import KNeighborsRegressor\n",
    "# f : 1NN with distance metric manhattan\n",
    "knn = KNeighborsRegressor(n_neighbors=1,metric='manhattan')\n",
    "knn.fit(df.loc[ind]['YearsExperience'].values.reshape(-1,1),df.loc[ind]['Salary'])"
   ]
  },
  {
   "cell_type": "code",
   "execution_count": 23,
   "id": "109dd5a3-d5c3-4f6b-97ea-a301e727ee65",
   "metadata": {},
   "outputs": [
    {
     "data": {
      "text/html": [
       "<div>\n",
       "<style scoped>\n",
       "    .dataframe tbody tr th:only-of-type {\n",
       "        vertical-align: middle;\n",
       "    }\n",
       "\n",
       "    .dataframe tbody tr th {\n",
       "        vertical-align: top;\n",
       "    }\n",
       "\n",
       "    .dataframe thead th {\n",
       "        text-align: right;\n",
       "    }\n",
       "</style>\n",
       "<table border=\"1\" class=\"dataframe\">\n",
       "  <thead>\n",
       "    <tr style=\"text-align: right;\">\n",
       "      <th></th>\n",
       "      <th>YearsExperience</th>\n",
       "      <th>Salary</th>\n",
       "    </tr>\n",
       "  </thead>\n",
       "  <tbody>\n",
       "    <tr>\n",
       "      <th>4</th>\n",
       "      <td>2.2</td>\n",
       "      <td>39891.0</td>\n",
       "    </tr>\n",
       "    <tr>\n",
       "      <th>18</th>\n",
       "      <td>5.9</td>\n",
       "      <td>81363.0</td>\n",
       "    </tr>\n",
       "    <tr>\n",
       "      <th>27</th>\n",
       "      <td>9.6</td>\n",
       "      <td>112635.0</td>\n",
       "    </tr>\n",
       "    <tr>\n",
       "      <th>25</th>\n",
       "      <td>9.0</td>\n",
       "      <td>105582.0</td>\n",
       "    </tr>\n",
       "    <tr>\n",
       "      <th>24</th>\n",
       "      <td>8.7</td>\n",
       "      <td>109431.0</td>\n",
       "    </tr>\n",
       "  </tbody>\n",
       "</table>\n",
       "</div>"
      ],
      "text/plain": [
       "    YearsExperience    Salary\n",
       "4               2.2   39891.0\n",
       "18              5.9   81363.0\n",
       "27              9.6  112635.0\n",
       "25              9.0  105582.0\n",
       "24              8.7  109431.0"
      ]
     },
     "execution_count": 23,
     "metadata": {},
     "output_type": "execute_result"
    }
   ],
   "source": [
    "df.loc[ind]"
   ]
  },
  {
   "cell_type": "code",
   "execution_count": 24,
   "id": "f791117f-4e46-4d70-b980-27469629cb4e",
   "metadata": {},
   "outputs": [
    {
     "data": {
      "text/plain": [
       "array([39891., 81363.])"
      ]
     },
     "execution_count": 24,
     "metadata": {},
     "output_type": "execute_result"
    }
   ],
   "source": [
    "knn.predict([[2],[5]])"
   ]
  },
  {
   "cell_type": "code",
   "execution_count": 25,
   "id": "334e6996-86a8-45cd-a4db-a72376edd827",
   "metadata": {},
   "outputs": [
    {
     "data": {
      "text/plain": [
       "KNeighborsRegressor(metric='manhattan', n_neighbors=2)"
      ]
     },
     "execution_count": 25,
     "metadata": {},
     "output_type": "execute_result"
    }
   ],
   "source": [
    "# f : 2NN with distance metric manhattan - uniform\n",
    "knn = KNeighborsRegressor(n_neighbors=2,metric='manhattan',weights='uniform') # default \"uniform\"\n",
    "knn.fit(df.loc[ind]['YearsExperience'].values.reshape(-1,1),df.loc[ind]['Salary'].values)"
   ]
  },
  {
   "cell_type": "code",
   "execution_count": 27,
   "id": "a4665b16-5ca4-4a0e-b95f-450559fd9174",
   "metadata": {},
   "outputs": [
    {
     "data": {
      "text/plain": [
       "array([60627.])"
      ]
     },
     "execution_count": 27,
     "metadata": {},
     "output_type": "execute_result"
    }
   ],
   "source": [
    "knn.predict([[5]])"
   ]
  },
  {
   "cell_type": "code",
   "execution_count": 47,
   "id": "b5ef314f-939e-4f5d-bcef-998372b8f315",
   "metadata": {},
   "outputs": [
    {
     "data": {
      "text/plain": [
       "KNeighborsRegressor(metric='manhattan', n_neighbors=2, weights='distance')"
      ]
     },
     "execution_count": 47,
     "metadata": {},
     "output_type": "execute_result"
    }
   ],
   "source": [
    "# f : 2NN with distance metric manhattan - distance\n",
    "knn = KNeighborsRegressor(n_neighbors=2,metric='manhattan',weights='distance') # default \"uniform\"\n",
    "knn.fit(df.loc[ind]['YearsExperience'].values.reshape(-1,1),df.loc[ind]['Salary'])"
   ]
  },
  {
   "cell_type": "code",
   "execution_count": 48,
   "id": "5a2dbf8e-f6e6-4c22-b938-1ec13e870f7c",
   "metadata": {},
   "outputs": [
    {
     "ename": "AttributeError",
     "evalue": "'list' object has no attribute 'shape'",
     "output_type": "error",
     "traceback": [
      "\u001b[1;31m---------------------------------------------------------------------------\u001b[0m",
      "\u001b[1;31mAttributeError\u001b[0m                            Traceback (most recent call last)",
      "\u001b[1;32m~\\AppData\\Local\\Temp\\ipykernel_23636\\2279039361.py\u001b[0m in \u001b[0;36m<module>\u001b[1;34m\u001b[0m\n\u001b[1;32m----> 1\u001b[1;33m \u001b[0mknn\u001b[0m\u001b[1;33m.\u001b[0m\u001b[0mpredict\u001b[0m\u001b[1;33m(\u001b[0m\u001b[1;33m[\u001b[0m\u001b[1;33m[\u001b[0m\u001b[1;36m5\u001b[0m\u001b[1;33m]\u001b[0m\u001b[1;33m]\u001b[0m\u001b[1;33m)\u001b[0m\u001b[1;33m\u001b[0m\u001b[1;33m\u001b[0m\u001b[0m\n\u001b[0m",
      "\u001b[1;32mC:\\ProgramData\\Anaconda3\\lib\\site-packages\\sklearn\\neighbors\\_regression.py\u001b[0m in \u001b[0;36mpredict\u001b[1;34m(self, X)\u001b[0m\n\u001b[0;32m    238\u001b[0m             \u001b[0my_pred\u001b[0m \u001b[1;33m=\u001b[0m \u001b[0mnp\u001b[0m\u001b[1;33m.\u001b[0m\u001b[0mmean\u001b[0m\u001b[1;33m(\u001b[0m\u001b[0m_y\u001b[0m\u001b[1;33m[\u001b[0m\u001b[0mneigh_ind\u001b[0m\u001b[1;33m]\u001b[0m\u001b[1;33m,\u001b[0m \u001b[0maxis\u001b[0m\u001b[1;33m=\u001b[0m\u001b[1;36m1\u001b[0m\u001b[1;33m)\u001b[0m\u001b[1;33m\u001b[0m\u001b[1;33m\u001b[0m\u001b[0m\n\u001b[0;32m    239\u001b[0m         \u001b[1;32melse\u001b[0m\u001b[1;33m:\u001b[0m\u001b[1;33m\u001b[0m\u001b[1;33m\u001b[0m\u001b[0m\n\u001b[1;32m--> 240\u001b[1;33m             \u001b[0my_pred\u001b[0m \u001b[1;33m=\u001b[0m \u001b[0mnp\u001b[0m\u001b[1;33m.\u001b[0m\u001b[0mempty\u001b[0m\u001b[1;33m(\u001b[0m\u001b[1;33m(\u001b[0m\u001b[0mX\u001b[0m\u001b[1;33m.\u001b[0m\u001b[0mshape\u001b[0m\u001b[1;33m[\u001b[0m\u001b[1;36m0\u001b[0m\u001b[1;33m]\u001b[0m\u001b[1;33m,\u001b[0m \u001b[0m_y\u001b[0m\u001b[1;33m.\u001b[0m\u001b[0mshape\u001b[0m\u001b[1;33m[\u001b[0m\u001b[1;36m1\u001b[0m\u001b[1;33m]\u001b[0m\u001b[1;33m)\u001b[0m\u001b[1;33m,\u001b[0m \u001b[0mdtype\u001b[0m\u001b[1;33m=\u001b[0m\u001b[0mnp\u001b[0m\u001b[1;33m.\u001b[0m\u001b[0mfloat64\u001b[0m\u001b[1;33m)\u001b[0m\u001b[1;33m\u001b[0m\u001b[1;33m\u001b[0m\u001b[0m\n\u001b[0m\u001b[0;32m    241\u001b[0m             \u001b[0mdenom\u001b[0m \u001b[1;33m=\u001b[0m \u001b[0mnp\u001b[0m\u001b[1;33m.\u001b[0m\u001b[0msum\u001b[0m\u001b[1;33m(\u001b[0m\u001b[0mweights\u001b[0m\u001b[1;33m,\u001b[0m \u001b[0maxis\u001b[0m\u001b[1;33m=\u001b[0m\u001b[1;36m1\u001b[0m\u001b[1;33m)\u001b[0m\u001b[1;33m\u001b[0m\u001b[1;33m\u001b[0m\u001b[0m\n\u001b[0;32m    242\u001b[0m \u001b[1;33m\u001b[0m\u001b[0m\n",
      "\u001b[1;31mAttributeError\u001b[0m: 'list' object has no attribute 'shape'"
     ]
    }
   ],
   "source": [
    "knn.predict([[5]])"
   ]
  },
  {
   "cell_type": "code",
   "execution_count": null,
   "id": "199e0f15-7758-4535-9266-7905e79c213c",
   "metadata": {},
   "outputs": [],
   "source": []
  },
  {
   "cell_type": "code",
   "execution_count": 52,
   "id": "48dd1126-c930-43b6-ad2a-96ddad436f99",
   "metadata": {},
   "outputs": [
    {
     "data": {
      "text/plain": [
       "array([40954.38461538])"
      ]
     },
     "execution_count": 52,
     "metadata": {},
     "output_type": "execute_result"
    }
   ],
   "source": [
    "knn.predict(np.array(2.1).reshape(1,1))"
   ]
  },
  {
   "cell_type": "code",
   "execution_count": 53,
   "id": "625888b6-d3ef-4ae8-b833-b4450cd57192",
   "metadata": {},
   "outputs": [
    {
     "data": {
      "text/plain": [
       "array([2.1])"
      ]
     },
     "execution_count": 53,
     "metadata": {},
     "output_type": "execute_result"
    }
   ],
   "source": [
    "np.array([2.1])"
   ]
  },
  {
   "cell_type": "code",
   "execution_count": null,
   "id": "b1b749ca-9ad8-4a12-8c29-9a68b279d26f",
   "metadata": {},
   "outputs": [],
   "source": []
  },
  {
   "cell_type": "code",
   "execution_count": null,
   "id": "36a9fa16-8686-4a32-a5a0-cd930248d85f",
   "metadata": {},
   "outputs": [],
   "source": [
    "# split the dataset into 2 parts\n",
    "# 1. train --> to get predictions\n",
    "# 2. test --> wil be used to evaluate how good your predictions are"
   ]
  },
  {
   "cell_type": "code",
   "execution_count": 98,
   "id": "5947e091-6c26-4963-a130-9b881ec78583",
   "metadata": {},
   "outputs": [],
   "source": [
    "X = df['YearsExperience'].values.reshape(30,1) # input\n",
    "Y = df['Salary'].values # output"
   ]
  },
  {
   "cell_type": "code",
   "execution_count": 62,
   "id": "4e625b4e-7a4b-4b3a-94b0-0afd74c359d5",
   "metadata": {},
   "outputs": [],
   "source": [
    "from sklearn.model_selection import train_test_split\n",
    "x_train, x_test, y_train, y_test =  train_test_split(X,Y,test_size=0.3,random_state=1)"
   ]
  },
  {
   "cell_type": "code",
   "execution_count": 63,
   "id": "36bb6865-a0aa-4e6c-a241-cad8c10211e3",
   "metadata": {},
   "outputs": [
    {
     "data": {
      "text/plain": [
       "(21, 1)"
      ]
     },
     "execution_count": 63,
     "metadata": {},
     "output_type": "execute_result"
    }
   ],
   "source": [
    "x_train.shape"
   ]
  },
  {
   "cell_type": "code",
   "execution_count": 64,
   "id": "d0740458-6192-49da-9872-3cd4d588a387",
   "metadata": {},
   "outputs": [
    {
     "data": {
      "text/plain": [
       "(9, 1)"
      ]
     },
     "execution_count": 64,
     "metadata": {},
     "output_type": "execute_result"
    }
   ],
   "source": [
    "x_test.shape"
   ]
  },
  {
   "cell_type": "code",
   "execution_count": 65,
   "id": "e30a4866-96e9-49e0-8d10-8a14ebb73dd4",
   "metadata": {},
   "outputs": [
    {
     "data": {
      "text/plain": [
       "(21,)"
      ]
     },
     "execution_count": 65,
     "metadata": {},
     "output_type": "execute_result"
    }
   ],
   "source": [
    "y_train.shape"
   ]
  },
  {
   "cell_type": "code",
   "execution_count": 66,
   "id": "03f5f9f3-599e-41d5-b18e-770b21965068",
   "metadata": {},
   "outputs": [
    {
     "data": {
      "text/plain": [
       "(9,)"
      ]
     },
     "execution_count": 66,
     "metadata": {},
     "output_type": "execute_result"
    }
   ],
   "source": [
    "y_test.shape"
   ]
  },
  {
   "cell_type": "code",
   "execution_count": 67,
   "id": "485c7338-96e2-4248-9ae0-9f8599bb4549",
   "metadata": {},
   "outputs": [
    {
     "data": {
      "text/plain": [
       "KNeighborsRegressor(metric='euclidean', n_neighbors=1)"
      ]
     },
     "execution_count": 67,
     "metadata": {},
     "output_type": "execute_result"
    }
   ],
   "source": [
    "knn = KNeighborsRegressor(n_neighbors=1,metric=\"euclidean\")\n",
    "knn.fit(x_train,y_train)"
   ]
  },
  {
   "cell_type": "code",
   "execution_count": 68,
   "id": "887cdd24-29af-4268-ac56-a7407bec16a9",
   "metadata": {},
   "outputs": [],
   "source": [
    "y_pred =  knn.predict(x_test)"
   ]
  },
  {
   "cell_type": "code",
   "execution_count": 69,
   "id": "c94c5f92-6f18-4480-a77c-e6b950d3300c",
   "metadata": {},
   "outputs": [
    {
     "data": {
      "text/plain": [
       "array([ 83088.,  98273.,  63218.,  93940.,  61111.,  91738., 116969.,\n",
       "        43525., 109431.])"
      ]
     },
     "execution_count": 69,
     "metadata": {},
     "output_type": "execute_result"
    }
   ],
   "source": [
    "y_test"
   ]
  },
  {
   "cell_type": "code",
   "execution_count": 70,
   "id": "a5d9bca8-4ed3-4cd3-a523-b64bd0a5b6bc",
   "metadata": {},
   "outputs": [
    {
     "data": {
      "text/plain": [
       "array([17059., -3029.,  6261., 12577.,  4030., 10375.,  4334.,  3634.,\n",
       "        3849.])"
      ]
     },
     "execution_count": 70,
     "metadata": {},
     "output_type": "execute_result"
    }
   ],
   "source": [
    "y_test-knn.predict(x_test)"
   ]
  },
  {
   "cell_type": "code",
   "execution_count": 71,
   "id": "defba524-98b1-4cd4-98b5-5c0f916dbfc3",
   "metadata": {},
   "outputs": [
    {
     "data": {
      "text/plain": [
       "65148.0"
      ]
     },
     "execution_count": 71,
     "metadata": {},
     "output_type": "execute_result"
    }
   ],
   "source": [
    "np.abs(y_test-y_pred).sum() # sum of absolute error SAE"
   ]
  },
  {
   "cell_type": "code",
   "execution_count": 73,
   "id": "5784ce34-259a-4fe9-a5bb-3b8cbd349954",
   "metadata": {},
   "outputs": [
    {
     "data": {
      "text/plain": [
       "668251210.0"
      ]
     },
     "execution_count": 73,
     "metadata": {},
     "output_type": "execute_result"
    }
   ],
   "source": [
    "((y_test-y_pred)**2).sum() # sum of squared error SSE"
   ]
  },
  {
   "cell_type": "code",
   "execution_count": 75,
   "id": "ff8738d4-5f81-4a52-a46c-70bdcba3ccdb",
   "metadata": {},
   "outputs": [
    {
     "data": {
      "text/plain": [
       "7238.666666666667"
      ]
     },
     "execution_count": 75,
     "metadata": {},
     "output_type": "execute_result"
    }
   ],
   "source": [
    "np.abs(y_test-y_pred).mean() # mean of absolute error"
   ]
  },
  {
   "cell_type": "code",
   "execution_count": 77,
   "id": "d5a2c31a-e7fb-4024-a32c-8409da3b2d90",
   "metadata": {},
   "outputs": [
    {
     "data": {
      "text/plain": [
       "74250134.44444445"
      ]
     },
     "execution_count": 77,
     "metadata": {},
     "output_type": "execute_result"
    }
   ],
   "source": [
    "((y_test-y_pred)**2).mean() # mean of squared error"
   ]
  },
  {
   "cell_type": "code",
   "execution_count": null,
   "id": "44b2445f-e827-4c9d-902d-9cd59557a777",
   "metadata": {},
   "outputs": [],
   "source": [
    "# lower the better --> SAE,SSE,MAE,MSE [Negative evaluation metric]"
   ]
  },
  {
   "cell_type": "code",
   "execution_count": 78,
   "id": "8bf58dcc",
   "metadata": {},
   "outputs": [],
   "source": [
    "# Higher the better  --> NSAE, NSSE, NMAE, NMSE  [Positive evaluation metric]"
   ]
  },
  {
   "cell_type": "code",
   "execution_count": 79,
   "id": "a58fdd28-a4ee-42fa-be17-be5a53704934",
   "metadata": {},
   "outputs": [
    {
     "data": {
      "text/plain": [
       "74250134.44444445"
      ]
     },
     "execution_count": 79,
     "metadata": {},
     "output_type": "execute_result"
    }
   ],
   "source": [
    "from sklearn.metrics import mean_squared_error\n",
    "mean_squared_error(y_pred,y_test)"
   ]
  },
  {
   "cell_type": "code",
   "execution_count": 80,
   "id": "881b34e6-129c-4f5b-b48b-7db534debcd0",
   "metadata": {},
   "outputs": [
    {
     "data": {
      "text/plain": [
       "7238.666666666667"
      ]
     },
     "execution_count": 80,
     "metadata": {},
     "output_type": "execute_result"
    }
   ],
   "source": [
    "from sklearn.metrics import mean_absolute_error\n",
    "mean_absolute_error(y_pred,y_test)"
   ]
  },
  {
   "cell_type": "code",
   "execution_count": 82,
   "id": "6ae719e3-4403-4483-9c23-eb8354e4e145",
   "metadata": {},
   "outputs": [
    {
     "data": {
      "text/plain": [
       "668251210.0"
      ]
     },
     "execution_count": 82,
     "metadata": {},
     "output_type": "execute_result"
    }
   ],
   "source": [
    "from sklearn.metrics import mean_squared_error\n",
    "SSE = mean_squared_error(y_pred,y_test)*y_pred.shape[0]\n",
    "SSE"
   ]
  },
  {
   "cell_type": "code",
   "execution_count": 84,
   "id": "8f06b76c-5753-479a-9526-946bb31ed3ec",
   "metadata": {},
   "outputs": [
    {
     "data": {
      "text/plain": [
       "65148.0"
      ]
     },
     "execution_count": 84,
     "metadata": {},
     "output_type": "execute_result"
    }
   ],
   "source": [
    "from sklearn.metrics import mean_absolute_error\n",
    "SAE = mean_absolute_error(y_pred,y_test)*y_pred.shape[0]\n",
    "SAE"
   ]
  },
  {
   "cell_type": "code",
   "execution_count": null,
   "id": "81fdcbc5-3f80-4e2d-bc94-26917122eaa8",
   "metadata": {},
   "outputs": [],
   "source": []
  },
  {
   "cell_type": "code",
   "execution_count": 89,
   "id": "ee131c8c-7b06-423d-8020-7ceee26d8a0d",
   "metadata": {},
   "outputs": [
    {
     "name": "stdout",
     "output_type": "stream",
     "text": [
      "7238.666666666667\n",
      "7238.666666666665\n",
      "7457.722222222223\n",
      "6555.141993873574\n",
      "6265.481481481482\n",
      "5708.028392829408\n",
      "5159.055555555556\n",
      "5334.409917193207\n",
      "6428.199999999998\n",
      "5459.583296455265\n",
      "7730.833333333333\n",
      "5662.938585201406\n",
      "8478.04761904762\n",
      "6033.2865160828505\n",
      "9606.763888888889\n",
      "6415.507545116786\n",
      "11418.246913580246\n",
      "7092.302856339625\n",
      "13084.8\n",
      "7774.099197837121\n"
     ]
    }
   ],
   "source": [
    "for k in range(1,11):\n",
    "    for avg_type in ['uniform','distance']:\n",
    "        knn = KNeighborsRegressor(n_neighbors=k,metric='manhattan',weights=avg_type)\n",
    "        knn.fit(x_train,y_train)\n",
    "        y_pred = knn.predict(x_test)\n",
    "        print(mean_absolute_error(y_pred,y_test))"
   ]
  },
  {
   "cell_type": "code",
   "execution_count": 91,
   "id": "802968e5-2d9f-4f14-a7fa-d6322e7605d2",
   "metadata": {},
   "outputs": [
    {
     "data": {
      "text/plain": [
       "['braycurtis',\n",
       " 'canberra',\n",
       " 'chebyshev',\n",
       " 'cityblock',\n",
       " 'correlation',\n",
       " 'cosine',\n",
       " 'cosine',\n",
       " 'dice',\n",
       " 'euclidean',\n",
       " 'hamming',\n",
       " 'haversine',\n",
       " 'jaccard',\n",
       " 'kulsinski',\n",
       " 'l1',\n",
       " 'l2',\n",
       " 'mahalanobis',\n",
       " 'manhattan',\n",
       " 'matching',\n",
       " 'minkowski',\n",
       " 'nan_euclidean',\n",
       " 'precomputed',\n",
       " 'rogerstanimoto',\n",
       " 'russellrao',\n",
       " 'seuclidean',\n",
       " 'sokalmichener',\n",
       " 'sokalsneath',\n",
       " 'sqeuclidean',\n",
       " 'wminkowski',\n",
       " 'yule']"
      ]
     },
     "execution_count": 91,
     "metadata": {},
     "output_type": "execute_result"
    }
   ],
   "source": [
    "import sklearn\n",
    "sorted(sklearn.neighbors.VALID_METRICS['brute'])"
   ]
  },
  {
   "cell_type": "code",
   "execution_count": null,
   "id": "aece8073-b342-4dc8-97de-46e5561dcef1",
   "metadata": {},
   "outputs": [],
   "source": [
    "# K fold cross validation"
   ]
  },
  {
   "cell_type": "code",
   "execution_count": 94,
   "id": "af29f161-d708-43de-bf85-12d4a5247f51",
   "metadata": {},
   "outputs": [],
   "source": [
    "from sklearn.model_selection import KFold\n",
    "kf = KFold(n_splits= 5)"
   ]
  },
  {
   "cell_type": "code",
   "execution_count": 95,
   "id": "bc75fbe1-cefa-4542-9ec0-d522171235c5",
   "metadata": {},
   "outputs": [
    {
     "data": {
      "text/plain": [
       "KFold(n_splits=5, random_state=None, shuffle=False)"
      ]
     },
     "execution_count": 95,
     "metadata": {},
     "output_type": "execute_result"
    }
   ],
   "source": [
    "kf"
   ]
  },
  {
   "cell_type": "code",
   "execution_count": 99,
   "id": "a90c08aa-48f9-40a1-b7cd-989bca2e3679",
   "metadata": {},
   "outputs": [
    {
     "name": "stdout",
     "output_type": "stream",
     "text": [
      "(array([ 6,  7,  8,  9, 10, 11, 12, 13, 14, 15, 16, 17, 18, 19, 20, 21, 22,\n",
      "       23, 24, 25, 26, 27, 28, 29]), array([0, 1, 2, 3, 4, 5]))\n",
      "(array([ 0,  1,  2,  3,  4,  5, 12, 13, 14, 15, 16, 17, 18, 19, 20, 21, 22,\n",
      "       23, 24, 25, 26, 27, 28, 29]), array([ 6,  7,  8,  9, 10, 11]))\n",
      "(array([ 0,  1,  2,  3,  4,  5,  6,  7,  8,  9, 10, 11, 18, 19, 20, 21, 22,\n",
      "       23, 24, 25, 26, 27, 28, 29]), array([12, 13, 14, 15, 16, 17]))\n",
      "(array([ 0,  1,  2,  3,  4,  5,  6,  7,  8,  9, 10, 11, 12, 13, 14, 15, 16,\n",
      "       17, 24, 25, 26, 27, 28, 29]), array([18, 19, 20, 21, 22, 23]))\n",
      "(array([ 0,  1,  2,  3,  4,  5,  6,  7,  8,  9, 10, 11, 12, 13, 14, 15, 16,\n",
      "       17, 18, 19, 20, 21, 22, 23]), array([24, 25, 26, 27, 28, 29]))\n"
     ]
    }
   ],
   "source": [
    "for i in kf.split(X):\n",
    "    print(i)"
   ]
  },
  {
   "cell_type": "code",
   "execution_count": 101,
   "id": "c15e1114-7bf0-438d-bf09-d088e527e49f",
   "metadata": {},
   "outputs": [
    {
     "data": {
      "text/html": [
       "<div>\n",
       "<style scoped>\n",
       "    .dataframe tbody tr th:only-of-type {\n",
       "        vertical-align: middle;\n",
       "    }\n",
       "\n",
       "    .dataframe tbody tr th {\n",
       "        vertical-align: top;\n",
       "    }\n",
       "\n",
       "    .dataframe thead th {\n",
       "        text-align: right;\n",
       "    }\n",
       "</style>\n",
       "<table border=\"1\" class=\"dataframe\">\n",
       "  <thead>\n",
       "    <tr style=\"text-align: right;\">\n",
       "      <th></th>\n",
       "      <th>YearsExperience</th>\n",
       "      <th>Salary</th>\n",
       "    </tr>\n",
       "  </thead>\n",
       "  <tbody>\n",
       "    <tr>\n",
       "      <th>0</th>\n",
       "      <td>1.1</td>\n",
       "      <td>39343.0</td>\n",
       "    </tr>\n",
       "    <tr>\n",
       "      <th>1</th>\n",
       "      <td>1.3</td>\n",
       "      <td>46205.0</td>\n",
       "    </tr>\n",
       "    <tr>\n",
       "      <th>2</th>\n",
       "      <td>1.5</td>\n",
       "      <td>37731.0</td>\n",
       "    </tr>\n",
       "    <tr>\n",
       "      <th>3</th>\n",
       "      <td>2.0</td>\n",
       "      <td>43525.0</td>\n",
       "    </tr>\n",
       "    <tr>\n",
       "      <th>4</th>\n",
       "      <td>2.2</td>\n",
       "      <td>39891.0</td>\n",
       "    </tr>\n",
       "  </tbody>\n",
       "</table>\n",
       "</div>"
      ],
      "text/plain": [
       "   YearsExperience   Salary\n",
       "0              1.1  39343.0\n",
       "1              1.3  46205.0\n",
       "2              1.5  37731.0\n",
       "3              2.0  43525.0\n",
       "4              2.2  39891.0"
      ]
     },
     "execution_count": 101,
     "metadata": {},
     "output_type": "execute_result"
    }
   ],
   "source": [
    "df.head()"
   ]
  },
  {
   "cell_type": "code",
   "execution_count": 102,
   "id": "298fba04-b282-4321-8d31-c01d567efca0",
   "metadata": {},
   "outputs": [
    {
     "data": {
      "text/plain": [
       "array([-13408.        ,  -4912.91666667,  -5567.58333333,  -9648.16666667,\n",
       "        -7914.66666667])"
      ]
     },
     "execution_count": 102,
     "metadata": {},
     "output_type": "execute_result"
    }
   ],
   "source": [
    "from sklearn.neighbors import KNeighborsRegressor\n",
    "from sklearn.metrics import mean_absolute_error\n",
    "from sklearn.model_selection import KFold, cross_val_score\n",
    "\n",
    "knn = KNeighborsRegressor(n_neighbors=2, metric=\"manhattan\", weights=\"uniform\")\n",
    "kf = KFold(n_splits=5)\n",
    "\n",
    "cross_val_score(knn,X,Y,cv=kf,scoring=\"neg_mean_absolute_error\")"
   ]
  },
  {
   "cell_type": "code",
   "execution_count": 103,
   "id": "55a111c0-a66f-48e7-8e44-65ee9e4f6a52",
   "metadata": {},
   "outputs": [
    {
     "data": {
      "text/plain": [
       "-8290.266666666666"
      ]
     },
     "execution_count": 103,
     "metadata": {},
     "output_type": "execute_result"
    }
   ],
   "source": [
    "cross_val_score(knn,X,Y,cv=kf,scoring=\"neg_mean_absolute_error\").mean()"
   ]
  },
  {
   "cell_type": "code",
   "execution_count": 104,
   "id": "78a4b0fd-6adc-4fda-8f98-459c02202da1",
   "metadata": {},
   "outputs": [
    {
     "data": {
      "text/plain": [
       "GridSearchCV(cv=KFold(n_splits=5, random_state=None, shuffle=False),\n",
       "             estimator=KNeighborsRegressor(),\n",
       "             param_grid={'metric': ['manhattan', 'euclidean'],\n",
       "                         'n_neighbors': range(1, 11),\n",
       "                         'weights': ['uniform', 'distance']},\n",
       "             scoring='neg_mean_absolute_error')"
      ]
     },
     "execution_count": 104,
     "metadata": {},
     "output_type": "execute_result"
    }
   ],
   "source": [
    "from sklearn.neighbors import KNeighborsRegressor\n",
    "knn = KNeighborsRegressor()\n",
    "from sklearn.model_selection import KFold,GridSearchCV\n",
    "kf = KFold(n_splits=5)\n",
    "\n",
    "combinations = {\"n_neighbors\" : range(1,11),\n",
    "                \"weights\" : ['uniform','distance'],\n",
    "                \"metric\"  : [\"manhattan\",\"euclidean\"]                  \n",
    "}\n",
    "\n",
    "gcv = GridSearchCV(knn, param_grid=combinations, cv=kf, scoring=\"neg_mean_absolute_error\" )\n",
    "gcv.fit(X,Y)"
   ]
  },
  {
   "cell_type": "code",
   "execution_count": 105,
   "id": "8da4f822-08c7-4575-b08c-7e3385785064",
   "metadata": {},
   "outputs": [
    {
     "data": {
      "text/plain": [
       "{'metric': 'manhattan', 'n_neighbors': 1, 'weights': 'uniform'}"
      ]
     },
     "execution_count": 105,
     "metadata": {},
     "output_type": "execute_result"
    }
   ],
   "source": [
    "gcv.best_params_"
   ]
  },
  {
   "cell_type": "code",
   "execution_count": 106,
   "id": "c2446229-84f3-4600-9ed1-0a6f24804b79",
   "metadata": {},
   "outputs": [
    {
     "data": {
      "text/plain": [
       "-7805.866666666667"
      ]
     },
     "execution_count": 106,
     "metadata": {},
     "output_type": "execute_result"
    }
   ],
   "source": [
    "gcv.best_score_"
   ]
  },
  {
   "cell_type": "code",
   "execution_count": 107,
   "id": "045a6ee4-e6a7-4656-abd3-42f82a2b5c05",
   "metadata": {},
   "outputs": [
    {
     "data": {
      "text/plain": [
       "array([67938.])"
      ]
     },
     "execution_count": 107,
     "metadata": {},
     "output_type": "execute_result"
    }
   ],
   "source": [
    "gcv.predict([[5]])"
   ]
  },
  {
   "cell_type": "code",
   "execution_count": 110,
   "id": "9aa47203-e5ea-451e-a79e-4d8fdee59053",
   "metadata": {},
   "outputs": [
    {
     "data": {
      "text/plain": [
       "KNeighborsRegressor(metric='manhattan', n_neighbors=1)"
      ]
     },
     "execution_count": 110,
     "metadata": {},
     "output_type": "execute_result"
    }
   ],
   "source": [
    "gcv.best_estimator_"
   ]
  },
  {
   "cell_type": "code",
   "execution_count": 109,
   "id": "c49e56c7-20c7-43c1-ab00-9509234f2648",
   "metadata": {},
   "outputs": [
    {
     "data": {
      "text/plain": [
       "array([67938.])"
      ]
     },
     "execution_count": 109,
     "metadata": {},
     "output_type": "execute_result"
    }
   ],
   "source": [
    "gcv.best_estimator_.predict([[5]])"
   ]
  },
  {
   "cell_type": "code",
   "execution_count": 111,
   "id": "d7a9e435-d325-4f6c-8ea8-1132f9f5ef9e",
   "metadata": {},
   "outputs": [
    {
     "data": {
      "text/plain": [
       "RandomizedSearchCV(cv=KFold(n_splits=5, random_state=None, shuffle=False),\n",
       "                   estimator=KNeighborsRegressor(),\n",
       "                   param_distributions={'metric': ['manhattan', 'euclidean'],\n",
       "                                        'n_neighbors': range(1, 11),\n",
       "                                        'weights': ['uniform', 'distance']},\n",
       "                   scoring='neg_mean_absolute_error')"
      ]
     },
     "execution_count": 111,
     "metadata": {},
     "output_type": "execute_result"
    }
   ],
   "source": [
    "from sklearn.neighbors import KNeighborsRegressor\n",
    "knn = KNeighborsRegressor()\n",
    "from sklearn.model_selection import KFold,RandomizedSearchCV\n",
    "kf = KFold(n_splits=5)\n",
    "\n",
    "combinations = {\"n_neighbors\" : range(1,11),\n",
    "                \"weights\" : ['uniform','distance'],\n",
    "                \"metric\"  : [\"manhattan\",\"euclidean\"]                  \n",
    "}\n",
    "\n",
    "rcv = RandomizedSearchCV(knn, param_distributions=combinations, cv=kf, scoring=\"neg_mean_absolute_error\" )\n",
    "rcv.fit(X,Y)"
   ]
  },
  {
   "cell_type": "code",
   "execution_count": null,
   "id": "5cc1eb29-bde1-4fed-8059-5106db2024ab",
   "metadata": {},
   "outputs": [],
   "source": []
  },
  {
   "cell_type": "code",
   "execution_count": 112,
   "id": "98171d53-a24d-4133-b82a-a0ad315b0afe",
   "metadata": {},
   "outputs": [
    {
     "data": {
      "text/plain": [
       "{'weights': 'uniform', 'n_neighbors': 1, 'metric': 'euclidean'}"
      ]
     },
     "execution_count": 112,
     "metadata": {},
     "output_type": "execute_result"
    }
   ],
   "source": [
    "rcv.best_params_"
   ]
  },
  {
   "cell_type": "code",
   "execution_count": 114,
   "id": "b2cd7369-de48-4d27-bf7e-1f56cee63939",
   "metadata": {},
   "outputs": [
    {
     "data": {
      "text/plain": [
       "KNeighborsRegressor(metric='euclidean', n_neighbors=1)"
      ]
     },
     "execution_count": 114,
     "metadata": {},
     "output_type": "execute_result"
    }
   ],
   "source": [
    "rcv.best_estimator_"
   ]
  },
  {
   "cell_type": "code",
   "execution_count": 116,
   "id": "6ae1d10c-821d-4bfb-8e91-457305a114f5",
   "metadata": {},
   "outputs": [
    {
     "data": {
      "text/plain": [
       "-7805.866666666667"
      ]
     },
     "execution_count": 116,
     "metadata": {},
     "output_type": "execute_result"
    }
   ],
   "source": [
    "rcv.best_score_"
   ]
  },
  {
   "cell_type": "code",
   "execution_count": 117,
   "id": "573f5c8a-3c1b-4c1a-9037-e804b53ec3b0",
   "metadata": {},
   "outputs": [],
   "source": [
    "from sklearn.datasets import fetch_california_housing\n",
    "dataset = fetch_california_housing()\n",
    "X = dataset.data\n",
    "Y = dataset.target"
   ]
  },
  {
   "cell_type": "code",
   "execution_count": 120,
   "id": "76cb5c42-c8d4-4376-9a04-1b77ec11ada1",
   "metadata": {},
   "outputs": [
    {
     "data": {
      "text/plain": [
       "(20640, 8)"
      ]
     },
     "execution_count": 120,
     "metadata": {},
     "output_type": "execute_result"
    }
   ],
   "source": [
    "X.shape"
   ]
  },
  {
   "cell_type": "code",
   "execution_count": 121,
   "id": "8c4b4393-3f46-4adc-ae35-a6921578ab59",
   "metadata": {},
   "outputs": [
    {
     "data": {
      "text/plain": [
       "['MedInc',\n",
       " 'HouseAge',\n",
       " 'AveRooms',\n",
       " 'AveBedrms',\n",
       " 'Population',\n",
       " 'AveOccup',\n",
       " 'Latitude',\n",
       " 'Longitude']"
      ]
     },
     "execution_count": 121,
     "metadata": {},
     "output_type": "execute_result"
    }
   ],
   "source": [
    "dataset.feature_names"
   ]
  },
  {
   "cell_type": "code",
   "execution_count": 122,
   "id": "87f184e1-3b25-4c2f-82b1-793eafadc6db",
   "metadata": {},
   "outputs": [
    {
     "data": {
      "text/plain": [
       "['MedHouseVal']"
      ]
     },
     "execution_count": 122,
     "metadata": {},
     "output_type": "execute_result"
    }
   ],
   "source": [
    "dataset.target_names"
   ]
  },
  {
   "cell_type": "code",
   "execution_count": 124,
   "id": "fa4d2e29-cd90-49a5-8819-9e97a640629d",
   "metadata": {},
   "outputs": [
    {
     "data": {
      "text/html": [
       "<div>\n",
       "<style scoped>\n",
       "    .dataframe tbody tr th:only-of-type {\n",
       "        vertical-align: middle;\n",
       "    }\n",
       "\n",
       "    .dataframe tbody tr th {\n",
       "        vertical-align: top;\n",
       "    }\n",
       "\n",
       "    .dataframe thead th {\n",
       "        text-align: right;\n",
       "    }\n",
       "</style>\n",
       "<table border=\"1\" class=\"dataframe\">\n",
       "  <thead>\n",
       "    <tr style=\"text-align: right;\">\n",
       "      <th></th>\n",
       "      <th>MedInc</th>\n",
       "      <th>HouseAge</th>\n",
       "      <th>AveRooms</th>\n",
       "      <th>AveBedrms</th>\n",
       "      <th>Population</th>\n",
       "      <th>AveOccup</th>\n",
       "      <th>Latitude</th>\n",
       "      <th>Longitude</th>\n",
       "    </tr>\n",
       "  </thead>\n",
       "  <tbody>\n",
       "    <tr>\n",
       "      <th>0</th>\n",
       "      <td>8.3252</td>\n",
       "      <td>41.0</td>\n",
       "      <td>6.984127</td>\n",
       "      <td>1.023810</td>\n",
       "      <td>322.0</td>\n",
       "      <td>2.555556</td>\n",
       "      <td>37.88</td>\n",
       "      <td>-122.23</td>\n",
       "    </tr>\n",
       "    <tr>\n",
       "      <th>1</th>\n",
       "      <td>8.3014</td>\n",
       "      <td>21.0</td>\n",
       "      <td>6.238137</td>\n",
       "      <td>0.971880</td>\n",
       "      <td>2401.0</td>\n",
       "      <td>2.109842</td>\n",
       "      <td>37.86</td>\n",
       "      <td>-122.22</td>\n",
       "    </tr>\n",
       "    <tr>\n",
       "      <th>2</th>\n",
       "      <td>7.2574</td>\n",
       "      <td>52.0</td>\n",
       "      <td>8.288136</td>\n",
       "      <td>1.073446</td>\n",
       "      <td>496.0</td>\n",
       "      <td>2.802260</td>\n",
       "      <td>37.85</td>\n",
       "      <td>-122.24</td>\n",
       "    </tr>\n",
       "    <tr>\n",
       "      <th>3</th>\n",
       "      <td>5.6431</td>\n",
       "      <td>52.0</td>\n",
       "      <td>5.817352</td>\n",
       "      <td>1.073059</td>\n",
       "      <td>558.0</td>\n",
       "      <td>2.547945</td>\n",
       "      <td>37.85</td>\n",
       "      <td>-122.25</td>\n",
       "    </tr>\n",
       "    <tr>\n",
       "      <th>4</th>\n",
       "      <td>3.8462</td>\n",
       "      <td>52.0</td>\n",
       "      <td>6.281853</td>\n",
       "      <td>1.081081</td>\n",
       "      <td>565.0</td>\n",
       "      <td>2.181467</td>\n",
       "      <td>37.85</td>\n",
       "      <td>-122.25</td>\n",
       "    </tr>\n",
       "  </tbody>\n",
       "</table>\n",
       "</div>"
      ],
      "text/plain": [
       "   MedInc  HouseAge  AveRooms  AveBedrms  Population  AveOccup  Latitude  \\\n",
       "0  8.3252      41.0  6.984127   1.023810       322.0  2.555556     37.88   \n",
       "1  8.3014      21.0  6.238137   0.971880      2401.0  2.109842     37.86   \n",
       "2  7.2574      52.0  8.288136   1.073446       496.0  2.802260     37.85   \n",
       "3  5.6431      52.0  5.817352   1.073059       558.0  2.547945     37.85   \n",
       "4  3.8462      52.0  6.281853   1.081081       565.0  2.181467     37.85   \n",
       "\n",
       "   Longitude  \n",
       "0    -122.23  \n",
       "1    -122.22  \n",
       "2    -122.24  \n",
       "3    -122.25  \n",
       "4    -122.25  "
      ]
     },
     "execution_count": 124,
     "metadata": {},
     "output_type": "execute_result"
    }
   ],
   "source": [
    "df = pd.DataFrame(X,columns=dataset.feature_names)\n",
    "df.head()"
   ]
  },
  {
   "cell_type": "code",
   "execution_count": 125,
   "id": "de58aa2f-0e6e-4d3b-8dd7-3e5f6801f24a",
   "metadata": {},
   "outputs": [
    {
     "name": "stdout",
     "output_type": "stream",
     "text": [
      "<class 'pandas.core.frame.DataFrame'>\n",
      "RangeIndex: 20640 entries, 0 to 20639\n",
      "Data columns (total 8 columns):\n",
      " #   Column      Non-Null Count  Dtype  \n",
      "---  ------      --------------  -----  \n",
      " 0   MedInc      20640 non-null  float64\n",
      " 1   HouseAge    20640 non-null  float64\n",
      " 2   AveRooms    20640 non-null  float64\n",
      " 3   AveBedrms   20640 non-null  float64\n",
      " 4   Population  20640 non-null  float64\n",
      " 5   AveOccup    20640 non-null  float64\n",
      " 6   Latitude    20640 non-null  float64\n",
      " 7   Longitude   20640 non-null  float64\n",
      "dtypes: float64(8)\n",
      "memory usage: 1.3 MB\n"
     ]
    }
   ],
   "source": [
    "df.info()"
   ]
  },
  {
   "cell_type": "code",
   "execution_count": 127,
   "id": "e1154b54-0fa0-4a9c-8078-928adee51d66",
   "metadata": {},
   "outputs": [
    {
     "data": {
      "text/html": [
       "<div>\n",
       "<style scoped>\n",
       "    .dataframe tbody tr th:only-of-type {\n",
       "        vertical-align: middle;\n",
       "    }\n",
       "\n",
       "    .dataframe tbody tr th {\n",
       "        vertical-align: top;\n",
       "    }\n",
       "\n",
       "    .dataframe thead th {\n",
       "        text-align: right;\n",
       "    }\n",
       "</style>\n",
       "<table border=\"1\" class=\"dataframe\">\n",
       "  <thead>\n",
       "    <tr style=\"text-align: right;\">\n",
       "      <th></th>\n",
       "      <th>MedInc</th>\n",
       "      <th>HouseAge</th>\n",
       "      <th>AveRooms</th>\n",
       "      <th>AveBedrms</th>\n",
       "      <th>Population</th>\n",
       "      <th>AveOccup</th>\n",
       "      <th>Latitude</th>\n",
       "      <th>Longitude</th>\n",
       "    </tr>\n",
       "  </thead>\n",
       "  <tbody>\n",
       "    <tr>\n",
       "      <th>count</th>\n",
       "      <td>20640.000000</td>\n",
       "      <td>20640.000000</td>\n",
       "      <td>20640.000000</td>\n",
       "      <td>20640.000000</td>\n",
       "      <td>20640.000000</td>\n",
       "      <td>20640.000000</td>\n",
       "      <td>20640.000000</td>\n",
       "      <td>20640.000000</td>\n",
       "    </tr>\n",
       "    <tr>\n",
       "      <th>mean</th>\n",
       "      <td>3.870671</td>\n",
       "      <td>28.639486</td>\n",
       "      <td>5.429000</td>\n",
       "      <td>1.096675</td>\n",
       "      <td>1425.476744</td>\n",
       "      <td>3.070655</td>\n",
       "      <td>35.631861</td>\n",
       "      <td>-119.569704</td>\n",
       "    </tr>\n",
       "    <tr>\n",
       "      <th>std</th>\n",
       "      <td>1.899822</td>\n",
       "      <td>12.585558</td>\n",
       "      <td>2.474173</td>\n",
       "      <td>0.473911</td>\n",
       "      <td>1132.462122</td>\n",
       "      <td>10.386050</td>\n",
       "      <td>2.135952</td>\n",
       "      <td>2.003532</td>\n",
       "    </tr>\n",
       "    <tr>\n",
       "      <th>min</th>\n",
       "      <td>0.499900</td>\n",
       "      <td>1.000000</td>\n",
       "      <td>0.846154</td>\n",
       "      <td>0.333333</td>\n",
       "      <td>3.000000</td>\n",
       "      <td>0.692308</td>\n",
       "      <td>32.540000</td>\n",
       "      <td>-124.350000</td>\n",
       "    </tr>\n",
       "    <tr>\n",
       "      <th>25%</th>\n",
       "      <td>2.563400</td>\n",
       "      <td>18.000000</td>\n",
       "      <td>4.440716</td>\n",
       "      <td>1.006079</td>\n",
       "      <td>787.000000</td>\n",
       "      <td>2.429741</td>\n",
       "      <td>33.930000</td>\n",
       "      <td>-121.800000</td>\n",
       "    </tr>\n",
       "    <tr>\n",
       "      <th>50%</th>\n",
       "      <td>3.534800</td>\n",
       "      <td>29.000000</td>\n",
       "      <td>5.229129</td>\n",
       "      <td>1.048780</td>\n",
       "      <td>1166.000000</td>\n",
       "      <td>2.818116</td>\n",
       "      <td>34.260000</td>\n",
       "      <td>-118.490000</td>\n",
       "    </tr>\n",
       "    <tr>\n",
       "      <th>75%</th>\n",
       "      <td>4.743250</td>\n",
       "      <td>37.000000</td>\n",
       "      <td>6.052381</td>\n",
       "      <td>1.099526</td>\n",
       "      <td>1725.000000</td>\n",
       "      <td>3.282261</td>\n",
       "      <td>37.710000</td>\n",
       "      <td>-118.010000</td>\n",
       "    </tr>\n",
       "    <tr>\n",
       "      <th>max</th>\n",
       "      <td>15.000100</td>\n",
       "      <td>52.000000</td>\n",
       "      <td>141.909091</td>\n",
       "      <td>34.066667</td>\n",
       "      <td>35682.000000</td>\n",
       "      <td>1243.333333</td>\n",
       "      <td>41.950000</td>\n",
       "      <td>-114.310000</td>\n",
       "    </tr>\n",
       "  </tbody>\n",
       "</table>\n",
       "</div>"
      ],
      "text/plain": [
       "             MedInc      HouseAge      AveRooms     AveBedrms    Population  \\\n",
       "count  20640.000000  20640.000000  20640.000000  20640.000000  20640.000000   \n",
       "mean       3.870671     28.639486      5.429000      1.096675   1425.476744   \n",
       "std        1.899822     12.585558      2.474173      0.473911   1132.462122   \n",
       "min        0.499900      1.000000      0.846154      0.333333      3.000000   \n",
       "25%        2.563400     18.000000      4.440716      1.006079    787.000000   \n",
       "50%        3.534800     29.000000      5.229129      1.048780   1166.000000   \n",
       "75%        4.743250     37.000000      6.052381      1.099526   1725.000000   \n",
       "max       15.000100     52.000000    141.909091     34.066667  35682.000000   \n",
       "\n",
       "           AveOccup      Latitude     Longitude  \n",
       "count  20640.000000  20640.000000  20640.000000  \n",
       "mean       3.070655     35.631861   -119.569704  \n",
       "std       10.386050      2.135952      2.003532  \n",
       "min        0.692308     32.540000   -124.350000  \n",
       "25%        2.429741     33.930000   -121.800000  \n",
       "50%        2.818116     34.260000   -118.490000  \n",
       "75%        3.282261     37.710000   -118.010000  \n",
       "max     1243.333333     41.950000   -114.310000  "
      ]
     },
     "execution_count": 127,
     "metadata": {},
     "output_type": "execute_result"
    }
   ],
   "source": [
    "df.describe() # requires the feature scaling"
   ]
  },
  {
   "cell_type": "code",
   "execution_count": null,
   "id": "3a35c891-4c74-4087-990e-0808f89e82bd",
   "metadata": {},
   "outputs": [],
   "source": [
    "# example fornormalization and standardization"
   ]
  },
  {
   "cell_type": "code",
   "execution_count": 132,
   "id": "3726813e-4e91-4c87-b7d2-b1cd0eb1d61f",
   "metadata": {},
   "outputs": [
    {
     "data": {
      "text/plain": [
       "MinMaxScaler()"
      ]
     },
     "execution_count": 132,
     "metadata": {},
     "output_type": "execute_result"
    }
   ],
   "source": [
    "data = X[:5,:2]\n",
    "\n",
    "from sklearn.preprocessing import MinMaxScaler\n",
    "mm = MinMaxScaler()\n",
    "mm.fit(data)"
   ]
  },
  {
   "cell_type": "code",
   "execution_count": 134,
   "id": "d0eaa458-8503-4f51-ae8e-8923c23d3bd2",
   "metadata": {},
   "outputs": [
    {
     "data": {
      "text/plain": [
       "array([[1.        , 0.64516129],\n",
       "       [0.99468631, 0.        ],\n",
       "       [0.76159857, 1.        ],\n",
       "       [0.4011833 , 1.        ],\n",
       "       [0.        , 1.        ]])"
      ]
     },
     "execution_count": 134,
     "metadata": {},
     "output_type": "execute_result"
    }
   ],
   "source": [
    "mm.transform(data)"
   ]
  },
  {
   "cell_type": "code",
   "execution_count": 135,
   "id": "71ab1c49-607b-49f6-8faf-fbd09b38d46b",
   "metadata": {},
   "outputs": [
    {
     "data": {
      "text/plain": [
       "array([[1.        , 0.64516129],\n",
       "       [0.99468631, 0.        ],\n",
       "       [0.76159857, 1.        ],\n",
       "       [0.4011833 , 1.        ],\n",
       "       [0.        , 1.        ]])"
      ]
     },
     "execution_count": 135,
     "metadata": {},
     "output_type": "execute_result"
    }
   ],
   "source": [
    "mm.fit_transform(data)"
   ]
  },
  {
   "cell_type": "code",
   "execution_count": null,
   "id": "9e3e08de-23ed-4d15-a6bc-170fab5a76be",
   "metadata": {},
   "outputs": [],
   "source": []
  },
  {
   "cell_type": "code",
   "execution_count": 136,
   "id": "9695e262-8947-4296-8277-06ecfb18cc94",
   "metadata": {},
   "outputs": [
    {
     "data": {
      "text/plain": [
       "array([[ 0.96018595, -0.21529553],\n",
       "       [ 0.94634053, -1.87141502],\n",
       "       [ 0.33900345,  0.69557019],\n",
       "       [-0.60010022,  0.69557019],\n",
       "       [-1.64542971,  0.69557019]])"
      ]
     },
     "execution_count": 136,
     "metadata": {},
     "output_type": "execute_result"
    }
   ],
   "source": [
    "data = X[:5,:2]\n",
    "\n",
    "from sklearn.preprocessing import StandardScaler\n",
    "ss = StandardScaler()\n",
    "ss.fit_transform(data)"
   ]
  },
  {
   "cell_type": "code",
   "execution_count": null,
   "id": "c57ebecc-77b5-4f69-8a8e-c5b7791303a9",
   "metadata": {},
   "outputs": [],
   "source": []
  },
  {
   "cell_type": "code",
   "execution_count": 145,
   "id": "a2ca7566-dedc-4289-a6a1-49b4faa7a495",
   "metadata": {},
   "outputs": [
    {
     "data": {
      "text/plain": [
       "RandomizedSearchCV(cv=KFold(n_splits=5, random_state=None, shuffle=False),\n",
       "                   estimator=Pipeline(steps=[('mm', MinMaxScaler()),\n",
       "                                             ('knn', KNeighborsRegressor())]),\n",
       "                   param_distributions={'knn__metric': ['manhattan',\n",
       "                                                        'euclidean'],\n",
       "                                        'knn__n_neighbors': range(1, 11),\n",
       "                                        'knn__weights': ['uniform',\n",
       "                                                         'distance']},\n",
       "                   scoring='neg_mean_absolute_error')"
      ]
     },
     "execution_count": 145,
     "metadata": {},
     "output_type": "execute_result"
    }
   ],
   "source": [
    "# for multivariate dataset, you need scaling\n",
    "from sklearn.neighbors import KNeighborsRegressor\n",
    "from sklearn.preprocessing import MinMaxScaler\n",
    "from sklearn.pipeline import Pipeline\n",
    "mysteps = [(\"mm\",MinMaxScaler()),(\"knn\",KNeighborsRegressor())]\n",
    "mypipeline = Pipeline(steps=mysteps)\n",
    "\n",
    "from sklearn.datasets import fetch_california_housing\n",
    "dataset = fetch_california_housing()\n",
    "X = dataset.data\n",
    "Y = dataset.target\n",
    "\n",
    "from sklearn.model_selection import KFold,RandomizedSearchCV\n",
    "kf = KFold(n_splits=5)\n",
    "\n",
    "combinations = {\"knn__n_neighbors\" : range(1,11),\n",
    "                \"knn__weights\" : ['uniform','distance'],\n",
    "                \"knn__metric\"  : [\"manhattan\",\"euclidean\"]                  \n",
    "}\n",
    "\n",
    "rcv = RandomizedSearchCV(mypipeline, param_distributions=combinations, cv=kf, scoring=\"neg_mean_absolute_error\" )\n",
    "rcv.fit(X,Y)"
   ]
  },
  {
   "cell_type": "code",
   "execution_count": 146,
   "id": "9a6c9ec8-b867-4aa5-995c-1fdfd4386158",
   "metadata": {},
   "outputs": [
    {
     "data": {
      "text/plain": [
       "Pipeline(steps=[('mm', MinMaxScaler()),\n",
       "                ('knn',\n",
       "                 KNeighborsRegressor(metric='euclidean', n_neighbors=8,\n",
       "                                     weights='distance'))])"
      ]
     },
     "execution_count": 146,
     "metadata": {},
     "output_type": "execute_result"
    }
   ],
   "source": [
    "rcv.best_estimator_"
   ]
  },
  {
   "cell_type": "code",
   "execution_count": 147,
   "id": "d08590be-4cac-481b-b862-924006922a7b",
   "metadata": {},
   "outputs": [
    {
     "data": {
      "text/plain": [
       "{'knn__weights': 'distance', 'knn__n_neighbors': 8, 'knn__metric': 'euclidean'}"
      ]
     },
     "execution_count": 147,
     "metadata": {},
     "output_type": "execute_result"
    }
   ],
   "source": [
    "rcv.best_params_"
   ]
  },
  {
   "cell_type": "code",
   "execution_count": 148,
   "id": "283d2318-6060-4aca-bfe7-1f66bcb7ce24",
   "metadata": {},
   "outputs": [
    {
     "data": {
      "text/plain": [
       "-0.5781033522193086"
      ]
     },
     "execution_count": 148,
     "metadata": {},
     "output_type": "execute_result"
    }
   ],
   "source": [
    "rcv.best_score_"
   ]
  },
  {
   "cell_type": "code",
   "execution_count": 149,
   "id": "94f40309-4699-471f-ad63-cfd42bc0935a",
   "metadata": {},
   "outputs": [
    {
     "data": {
      "text/plain": [
       "GridSearchCV(cv=KFold(n_splits=5, random_state=None, shuffle=False),\n",
       "             estimator=Pipeline(steps=[('mm', MinMaxScaler()),\n",
       "                                       ('knn', KNeighborsRegressor())]),\n",
       "             param_grid={'knn__metric': ['manhattan', 'euclidean'],\n",
       "                         'knn__n_neighbors': range(1, 11),\n",
       "                         'knn__weights': ['uniform', 'distance']},\n",
       "             scoring='neg_mean_absolute_error')"
      ]
     },
     "execution_count": 149,
     "metadata": {},
     "output_type": "execute_result"
    }
   ],
   "source": [
    "# for multivariate dataset, you need scaling\n",
    "from sklearn.neighbors import KNeighborsRegressor\n",
    "from sklearn.preprocessing import MinMaxScaler\n",
    "from sklearn.pipeline import Pipeline\n",
    "mysteps = [(\"mm\",MinMaxScaler()),(\"knn\",KNeighborsRegressor())]\n",
    "mypipeline = Pipeline(steps=mysteps)\n",
    "\n",
    "from sklearn.datasets import fetch_california_housing\n",
    "dataset = fetch_california_housing()\n",
    "X = dataset.data\n",
    "Y = dataset.target\n",
    "\n",
    "from sklearn.model_selection import KFold,GridSearchCV\n",
    "kf = KFold(n_splits=5)\n",
    "\n",
    "combinations = {\"knn__n_neighbors\" : range(1,11),\n",
    "                \"knn__weights\" : ['uniform','distance'],\n",
    "                \"knn__metric\"  : [\"manhattan\",\"euclidean\"]                  \n",
    "}\n",
    "\n",
    "gcv = GridSearchCV(mypipeline, param_grid=combinations, cv=kf, scoring=\"neg_mean_absolute_error\" )\n",
    "gcv.fit(X,Y)"
   ]
  },
  {
   "cell_type": "code",
   "execution_count": 150,
   "id": "03bdbb50-8e6a-4786-95f5-90a4e5880c8f",
   "metadata": {},
   "outputs": [
    {
     "data": {
      "text/plain": [
       "-0.5556467583729019"
      ]
     },
     "execution_count": 150,
     "metadata": {},
     "output_type": "execute_result"
    }
   ],
   "source": [
    "gcv.best_score_"
   ]
  },
  {
   "cell_type": "code",
   "execution_count": null,
   "id": "c456bf15-54c9-4ae7-bfb6-7a1ea0c8f4ae",
   "metadata": {},
   "outputs": [],
   "source": []
  },
  {
   "cell_type": "code",
   "execution_count": null,
   "id": "1b487996-da3d-4035-b23f-3f2f9cded835",
   "metadata": {},
   "outputs": [],
   "source": []
  }
 ],
 "metadata": {
  "kernelspec": {
   "display_name": "Python 3 (ipykernel)",
   "language": "python",
   "name": "python3"
  },
  "language_info": {
   "codemirror_mode": {
    "name": "ipython",
    "version": 3
   },
   "file_extension": ".py",
   "mimetype": "text/x-python",
   "name": "python",
   "nbconvert_exporter": "python",
   "pygments_lexer": "ipython3",
   "version": "3.9.13"
  }
 },
 "nbformat": 4,
 "nbformat_minor": 5
}
