{
 "cells": [
  {
   "cell_type": "code",
   "execution_count": null,
   "metadata": {},
   "outputs": [],
   "source": [
    "# polynomial Regression"
   ]
  },
  {
   "cell_type": "code",
   "execution_count": 19,
   "metadata": {},
   "outputs": [],
   "source": [
    "import numpy as np \n",
    "import pandas as pd\n",
    "import matplotlib.pyplot as plt"
   ]
  },
  {
   "cell_type": "code",
   "execution_count": 2,
   "metadata": {},
   "outputs": [],
   "source": [
    "np.random.seed(4)"
   ]
  },
  {
   "cell_type": "code",
   "execution_count": 3,
   "metadata": {},
   "outputs": [],
   "source": [
    "def f(x):\n",
    "    return 3*(x**3) + 8 * (x**2) + 2*x - 5000 * np.random.random()"
   ]
  },
  {
   "cell_type": "code",
   "execution_count": 4,
   "metadata": {},
   "outputs": [
    {
     "data": {
      "text/plain": [
       "-4250.149195068383"
      ]
     },
     "execution_count": 4,
     "metadata": {},
     "output_type": "execute_result"
    }
   ],
   "source": [
    "f(5)"
   ]
  },
  {
   "cell_type": "code",
   "execution_count": 5,
   "metadata": {},
   "outputs": [],
   "source": [
    "x = np.linspace(-20, 20, 200).reshape(-1,1) # input"
   ]
  },
  {
   "cell_type": "code",
   "execution_count": 6,
   "metadata": {},
   "outputs": [],
   "source": [
    "output = []\n",
    "for i in x:\n",
    "    output.append(f(i)[0])"
   ]
  },
  {
   "cell_type": "code",
   "execution_count": 7,
   "metadata": {},
   "outputs": [
    {
     "data": {
      "text/plain": [
       "array([[-2.35761612e+04, -2.50506483e+04, -2.31222854e+04,\n",
       "        -2.24114347e+04, -1.93912833e+04, -2.25935673e+04,\n",
       "        -1.71578733e+04, -1.78191823e+04, -1.81686520e+04,\n",
       "        -1.93447620e+04, -1.59020088e+04, -1.87067224e+04,\n",
       "        -1.87992231e+04, -1.42040389e+04, -1.58861036e+04,\n",
       "        -1.24708227e+04, -1.38969129e+04, -1.17345807e+04,\n",
       "        -1.58581828e+04, -1.28280561e+04, -1.49757354e+04,\n",
       "        -1.37568799e+04, -1.37621263e+04, -9.91251949e+03,\n",
       "        -9.04798430e+03, -1.13138942e+04, -8.79722491e+03,\n",
       "        -1.12815461e+04, -9.32409756e+03, -9.59846093e+03,\n",
       "        -1.13334726e+04, -8.95030644e+03, -6.58837085e+03,\n",
       "        -6.55331990e+03, -8.21208969e+03, -7.84089886e+03,\n",
       "        -8.14851398e+03, -6.71816038e+03, -7.71841902e+03,\n",
       "        -6.22094753e+03, -7.13127967e+03, -7.63202690e+03,\n",
       "        -4.48107976e+03, -5.26305620e+03, -5.70442263e+03,\n",
       "        -6.43913934e+03, -4.09556926e+03, -5.42941668e+03,\n",
       "        -5.61593603e+03, -6.81123899e+03, -3.99718819e+03,\n",
       "        -5.22648226e+03, -2.85814891e+03, -4.25840466e+03,\n",
       "        -2.55632931e+03, -6.11669050e+03, -3.57041732e+03,\n",
       "        -5.45449160e+03, -3.28524301e+03, -5.62792992e+03,\n",
       "        -3.03722247e+03, -2.58260104e+03, -3.70603606e+03,\n",
       "        -4.99600952e+03, -5.00200107e+03, -3.60805135e+03,\n",
       "        -9.89996892e+02, -3.49435059e+03, -1.68071927e+03,\n",
       "        -4.06580942e+03, -4.82930218e+03, -2.88658504e+03,\n",
       "        -3.29112193e+03, -5.62406183e+02, -2.90443088e+03,\n",
       "        -8.20062454e+02, -3.21994907e+03, -1.94118171e+03,\n",
       "        -3.94015791e+03, -3.24972654e+02, -6.14677072e+02,\n",
       "        -3.47119116e+03, -2.61189009e+03, -2.88628672e+03,\n",
       "        -4.23783863e+03, -2.45083503e+03, -4.05718531e+03,\n",
       "        -2.55332471e+03, -4.63253422e+03, -3.33142845e+03,\n",
       "        -7.39171080e+02, -1.81779233e+03, -4.32398670e+03,\n",
       "        -1.74707376e+03, -9.41615821e+02, -2.36059044e+03,\n",
       "        -1.96239800e+03, -3.09401519e+03, -2.18378945e+03,\n",
       "        -1.30473403e+03, -2.06207620e+03, -2.09375768e+03,\n",
       "        -4.50870342e+03, -4.89167019e+03, -3.10726973e+03,\n",
       "        -3.99878528e+02, -3.64203344e+03, -3.36195217e+03,\n",
       "        -4.08838199e+03, -1.68337784e+03, -2.26339954e+02,\n",
       "        -2.97468554e+03, -5.16958975e+02, -3.67336924e+03,\n",
       "        -3.82405399e+03, -1.86852106e+03, -4.51491211e+03,\n",
       "        -6.32302563e+02, -4.44060722e+03, -2.01604992e+03,\n",
       "        -3.46099633e+03, -3.36391250e+03, -4.45585516e+03,\n",
       "        -4.36225404e+03,  3.61703517e+02,  5.44553868e+02,\n",
       "        -2.02541612e+03,  5.92792831e+02, -2.44943035e+03,\n",
       "        -1.75589563e+03, -2.32859125e+03, -1.11181445e+03,\n",
       "        -1.71528703e+02, -3.45617923e+03, -2.24230132e+03,\n",
       "         1.47999633e+03,  1.13338322e+03, -1.40405106e+03,\n",
       "         4.44742414e+02, -1.63910069e+01, -1.74272678e+03,\n",
       "         5.43979417e+02, -2.15784462e+03, -9.67711802e+02,\n",
       "         4.52723931e+01,  2.07758775e+03,  1.11926003e+03,\n",
       "        -4.54943025e+02, -1.39467914e+03,  3.39861838e+03,\n",
       "         3.30857496e+03,  5.05600719e+02,  2.68578702e+02,\n",
       "         4.23360344e+03,  7.78827324e+02,  1.24931820e+03,\n",
       "         2.00769565e+03,  4.02389789e+03,  3.78460651e+03,\n",
       "         4.46860708e+03,  2.40027966e+03,  5.27281195e+03,\n",
       "         5.62299704e+03,  2.89064972e+03,  3.30832835e+03,\n",
       "         3.41613072e+03,  4.58321419e+03,  8.55820601e+03,\n",
       "         8.92057021e+03,  6.98271136e+03,  5.89100773e+03,\n",
       "         6.16569437e+03,  7.82829589e+03,  6.67061646e+03,\n",
       "         1.11387024e+04,  1.12502538e+04,  1.11673937e+04,\n",
       "         1.20293855e+04,  1.22479010e+04,  1.37243363e+04,\n",
       "         1.29597689e+04,  1.52199193e+04,  1.32247610e+04,\n",
       "         1.17421143e+04,  1.48160689e+04,  1.45043665e+04,\n",
       "         1.51626539e+04,  1.41646939e+04,  1.57823059e+04,\n",
       "         1.59676914e+04,  1.90631737e+04,  1.68695981e+04,\n",
       "         2.11593978e+04,  2.07382235e+04,  1.97978803e+04,\n",
       "         2.25393243e+04,  2.05120078e+04,  2.13902254e+04,\n",
       "         2.56336391e+04,  2.60862703e+04]])"
      ]
     },
     "execution_count": 7,
     "metadata": {},
     "output_type": "execute_result"
    }
   ],
   "source": [
    "np.array(output).reshape(1,-1)"
   ]
  },
  {
   "cell_type": "code",
   "execution_count": 8,
   "metadata": {},
   "outputs": [],
   "source": [
    "from sklearn.model_selection import train_test_split\n",
    "x_train,x_test,y_train,y_test = train_test_split(x,output,test_size=0.3,random_state=1)"
   ]
  },
  {
   "cell_type": "code",
   "execution_count": 9,
   "metadata": {},
   "outputs": [
    {
     "data": {
      "image/png": "[encoded data removed]",
      "text/plain": [
       "<Figure size 640x480 with 1 Axes>"
      ]
     },
     "metadata": {},
     "output_type": "display_data"
    }
   ],
   "source": [
    "plt.scatter(x_train,y_train)\n",
    "plt.xlabel(\"input x\")\n",
    "plt.ylabel(\"output y\")\n",
    "plt.show()"
   ]
  },
  {
   "cell_type": "code",
   "execution_count": 10,
   "metadata": {},
   "outputs": [
    {
     "data": {
      "text/plain": [
       "(140, 1)"
      ]
     },
     "execution_count": 10,
     "metadata": {},
     "output_type": "execute_result"
    }
   ],
   "source": [
    "x_train.shape"
   ]
  },
  {
   "cell_type": "code",
   "execution_count": 11,
   "metadata": {},
   "outputs": [
    {
     "data": {
      "text/html": [
       "<style>#sk-container-id-1 {color: black;background-color: white;}#sk-container-id-1 pre{padding: 0;}#sk-container-id-1 div.sk-toggleable {background-color: white;}#sk-container-id-1 label.sk-toggleable__label {cursor: pointer;display: block;width: 100%;margin-bottom: 0;padding: 0.3em;box-sizing: border-box;text-align: center;}#sk-container-id-1 label.sk-toggleable__label-arrow:before {content: \"▸\";float: left;margin-right: 0.25em;color: #696969;}#sk-container-id-1 label.sk-toggleable__label-arrow:hover:before {color: black;}#sk-container-id-1 div.sk-estimator:hover label.sk-toggleable__label-arrow:before {color: black;}#sk-container-id-1 div.sk-toggleable__content {max-height: 0;max-width: 0;overflow: hidden;text-align: left;background-color: #f0f8ff;}#sk-container-id-1 div.sk-toggleable__content pre {margin: 0.2em;color: black;border-radius: 0.25em;background-color: #f0f8ff;}#sk-container-id-1 input.sk-toggleable__control:checked~div.sk-toggleable__content {max-height: 200px;max-width: 100%;overflow: auto;}#sk-container-id-1 input.sk-toggleable__control:checked~label.sk-toggleable__label-arrow:before {content: \"▾\";}#sk-container-id-1 div.sk-estimator input.sk-toggleable__control:checked~label.sk-toggleable__label {background-color: #d4ebff;}#sk-container-id-1 div.sk-label input.sk-toggleable__control:checked~label.sk-toggleable__label {background-color: #d4ebff;}#sk-container-id-1 input.sk-hidden--visually {border: 0;clip: rect(1px 1px 1px 1px);clip: rect(1px, 1px, 1px, 1px);height: 1px;margin: -1px;overflow: hidden;padding: 0;position: absolute;width: 1px;}#sk-container-id-1 div.sk-estimator {font-family: monospace;background-color: #f0f8ff;border: 1px dotted black;border-radius: 0.25em;box-sizing: border-box;margin-bottom: 0.5em;}#sk-container-id-1 div.sk-estimator:hover {background-color: #d4ebff;}#sk-container-id-1 div.sk-parallel-item::after {content: \"\";width: 100%;border-bottom: 1px solid gray;flex-grow: 1;}#sk-container-id-1 div.sk-label:hover label.sk-toggleable__label {background-color: #d4ebff;}#sk-container-id-1 div.sk-serial::before {content: \"\";position: absolute;border-left: 1px solid gray;box-sizing: border-box;top: 0;bottom: 0;left: 50%;z-index: 0;}#sk-container-id-1 div.sk-serial {display: flex;flex-direction: column;align-items: center;background-color: white;padding-right: 0.2em;padding-left: 0.2em;position: relative;}#sk-container-id-1 div.sk-item {position: relative;z-index: 1;}#sk-container-id-1 div.sk-parallel {display: flex;align-items: stretch;justify-content: center;background-color: white;position: relative;}#sk-container-id-1 div.sk-item::before, #sk-container-id-1 div.sk-parallel-item::before {content: \"\";position: absolute;border-left: 1px solid gray;box-sizing: border-box;top: 0;bottom: 0;left: 50%;z-index: -1;}#sk-container-id-1 div.sk-parallel-item {display: flex;flex-direction: column;z-index: 1;position: relative;background-color: white;}#sk-container-id-1 div.sk-parallel-item:first-child::after {align-self: flex-end;width: 50%;}#sk-container-id-1 div.sk-parallel-item:last-child::after {align-self: flex-start;width: 50%;}#sk-container-id-1 div.sk-parallel-item:only-child::after {width: 0;}#sk-container-id-1 div.sk-dashed-wrapped {border: 1px dashed gray;margin: 0 0.4em 0.5em 0.4em;box-sizing: border-box;padding-bottom: 0.4em;background-color: white;}#sk-container-id-1 div.sk-label label {font-family: monospace;font-weight: bold;display: inline-block;line-height: 1.2em;}#sk-container-id-1 div.sk-label-container {text-align: center;}#sk-container-id-1 div.sk-container {/* jupyter's `normalize.less` sets `[hidden] { display: none; }` but bootstrap.min.css set `[hidden] { display: none !important; }` so we also need the `!important` here to be able to override the default hidden behavior on the sphinx rendered scikit-learn.org. See: https://github.com/scikit-learn/scikit-learn/issues/21755 */display: inline-block !important;position: relative;}#sk-container-id-1 div.sk-text-repr-fallback {display: none;}</style><div id=\"sk-container-id-1\" class=\"sk-top-container\"><div class=\"sk-text-repr-fallback\"><pre>LinearRegression()</pre><b>In a Jupyter environment, please rerun this cell to show the HTML representation or trust the notebook. <br />On GitHub, the HTML representation is unable to render, please try loading this page with nbviewer.org.</b></div><div class=\"sk-container\" hidden><div class=\"sk-item\"><div class=\"sk-estimator sk-toggleable\"><input class=\"sk-toggleable__control sk-hidden--visually\" id=\"sk-estimator-id-1\" type=\"checkbox\" checked><label for=\"sk-estimator-id-1\" class=\"sk-toggleable__label sk-toggleable__label-arrow\">LinearRegression</label><div class=\"sk-toggleable__content\"><pre>LinearRegression()</pre></div></div></div></div></div>"
      ],
      "text/plain": [
       "LinearRegression()"
      ]
     },
     "execution_count": 11,
     "metadata": {},
     "output_type": "execute_result"
    }
   ],
   "source": [
    "from sklearn.linear_model import LinearRegression\n",
    "lr_1 = LinearRegression()\n",
    "lr_1.fit(x_train,y_train)"
   ]
  },
  {
   "cell_type": "code",
   "execution_count": 12,
   "metadata": {},
   "outputs": [
    {
     "name": "stdout",
     "output_type": "stream",
     "text": [
      "Train MSE --  16350182.72026481\n",
      "Test MSE --  19082165.471178036\n"
     ]
    }
   ],
   "source": [
    "from sklearn.metrics import mean_squared_error\n",
    "train_mses = []\n",
    "test_mses = []\n",
    "print(\"Train MSE -- \",mean_squared_error(y_train,lr_1.predict(x_train)))\n",
    "print(\"Test MSE -- \",mean_squared_error(y_test,lr_1.predict(x_test)))\n",
    "\n",
    "train_mses.append(mean_squared_error(y_train,lr_1.predict(x_train)))\n",
    "test_mses.append(mean_squared_error(y_test,lr_1.predict(x_test)))"
   ]
  },
  {
   "cell_type": "code",
   "execution_count": 13,
   "metadata": {},
   "outputs": [],
   "source": [
    "m_1 = lr_1.coef_\n",
    "c_1 = lr_1.intercept_"
   ]
  },
  {
   "cell_type": "code",
   "execution_count": null,
   "metadata": {},
   "outputs": [],
   "source": []
  },
  {
   "cell_type": "code",
   "execution_count": 15,
   "metadata": {},
   "outputs": [
    {
     "data": {
      "image/png": "[encoded data removed]",
      "text/plain": [
       "<Figure size 500x300 with 1 Axes>"
      ]
     },
     "metadata": {},
     "output_type": "display_data"
    }
   ],
   "source": [
    "plt.figure(figsize=(5,3))\n",
    "plt.scatter(x_train,y_train)\n",
    "plt.plot(x_train,m_1*x_train+c_1,c='r')\n",
    "plt.xlabel(\"input x\")\n",
    "plt.ylabel(\"output y\")\n",
    "plt.show()"
   ]
  },
  {
   "cell_type": "code",
   "execution_count": 71,
   "metadata": {},
   "outputs": [
    {
     "data": {
      "text/plain": [
       "array([[-20.        , -19.79899497, -19.59798995, -19.39698492,\n",
       "        -19.1959799 , -18.99497487, -18.79396985, -18.59296482,\n",
       "        -18.3919598 , -18.19095477, -17.98994975, -17.78894472,\n",
       "        -17.5879397 , -17.38693467, -17.18592965, -16.98492462,\n",
       "        -16.7839196 , -16.58291457, -16.38190955, -16.18090452,\n",
       "        -15.9798995 , -15.77889447, -15.57788945, -15.37688442,\n",
       "        -15.1758794 , -14.97487437, -14.77386935, -14.57286432,\n",
       "        -14.3718593 , -14.17085427, -13.96984925, -13.76884422,\n",
       "        -13.5678392 , -13.36683417, -13.16582915, -12.96482412,\n",
       "        -12.7638191 , -12.56281407, -12.36180905, -12.16080402,\n",
       "        -11.95979899, -11.75879397, -11.55778894, -11.35678392,\n",
       "        -11.15577889, -10.95477387, -10.75376884, -10.55276382,\n",
       "        -10.35175879, -10.15075377,  -9.94974874,  -9.74874372,\n",
       "         -9.54773869,  -9.34673367,  -9.14572864,  -8.94472362,\n",
       "         -8.74371859,  -8.54271357,  -8.34170854,  -8.14070352,\n",
       "         -7.93969849,  -7.73869347,  -7.53768844,  -7.33668342,\n",
       "         -7.13567839,  -6.93467337,  -6.73366834,  -6.53266332,\n",
       "         -6.33165829,  -6.13065327,  -5.92964824,  -5.72864322,\n",
       "         -5.52763819,  -5.32663317,  -5.12562814,  -4.92462312,\n",
       "         -4.72361809,  -4.52261307,  -4.32160804,  -4.12060302,\n",
       "         -3.91959799,  -3.71859296,  -3.51758794,  -3.31658291,\n",
       "         -3.11557789,  -2.91457286,  -2.71356784,  -2.51256281,\n",
       "         -2.31155779,  -2.11055276,  -1.90954774,  -1.70854271,\n",
       "         -1.50753769,  -1.30653266,  -1.10552764,  -0.90452261,\n",
       "         -0.70351759,  -0.50251256,  -0.30150754,  -0.10050251,\n",
       "          0.10050251,   0.30150754,   0.50251256,   0.70351759,\n",
       "          0.90452261,   1.10552764,   1.30653266,   1.50753769,\n",
       "          1.70854271,   1.90954774,   2.11055276,   2.31155779,\n",
       "          2.51256281,   2.71356784,   2.91457286,   3.11557789,\n",
       "          3.31658291,   3.51758794,   3.71859296,   3.91959799,\n",
       "          4.12060302,   4.32160804,   4.52261307,   4.72361809,\n",
       "          4.92462312,   5.12562814,   5.32663317,   5.52763819,\n",
       "          5.72864322,   5.92964824,   6.13065327,   6.33165829,\n",
       "          6.53266332,   6.73366834,   6.93467337,   7.13567839,\n",
       "          7.33668342,   7.53768844,   7.73869347,   7.93969849,\n",
       "          8.14070352,   8.34170854,   8.54271357,   8.74371859,\n",
       "          8.94472362,   9.14572864,   9.34673367,   9.54773869,\n",
       "          9.74874372,   9.94974874,  10.15075377,  10.35175879,\n",
       "         10.55276382,  10.75376884,  10.95477387,  11.15577889,\n",
       "         11.35678392,  11.55778894,  11.75879397,  11.95979899,\n",
       "         12.16080402,  12.36180905,  12.56281407,  12.7638191 ,\n",
       "         12.96482412,  13.16582915,  13.36683417,  13.5678392 ,\n",
       "         13.76884422,  13.96984925,  14.17085427,  14.3718593 ,\n",
       "         14.57286432,  14.77386935,  14.97487437,  15.1758794 ,\n",
       "         15.37688442,  15.57788945,  15.77889447,  15.9798995 ,\n",
       "         16.18090452,  16.38190955,  16.58291457,  16.7839196 ,\n",
       "         16.98492462,  17.18592965,  17.38693467,  17.5879397 ,\n",
       "         17.78894472,  17.98994975,  18.19095477,  18.3919598 ,\n",
       "         18.59296482,  18.79396985,  18.99497487,  19.1959799 ,\n",
       "         19.39698492,  19.59798995,  19.79899497,  20.        ]])"
      ]
     },
     "execution_count": 71,
     "metadata": {},
     "output_type": "execute_result"
    }
   ],
   "source": [
    "x.reshape(1,-1)"
   ]
  },
  {
   "cell_type": "code",
   "execution_count": 18,
   "metadata": {},
   "outputs": [
    {
     "data": {
      "text/plain": [
       "array([[ 1.00000000e+00, -2.00000000e+01,  4.00000000e+02],\n",
       "       [ 1.00000000e+00, -1.97989950e+01,  3.92000202e+02],\n",
       "       [ 1.00000000e+00, -1.95979899e+01,  3.84081210e+02],\n",
       "       [ 1.00000000e+00, -1.93969849e+01,  3.76243024e+02],\n",
       "       [ 1.00000000e+00, -1.91959799e+01,  3.68485644e+02],\n",
       "       [ 1.00000000e+00, -1.89949749e+01,  3.60809070e+02],\n",
       "       [ 1.00000000e+00, -1.87939698e+01,  3.53213303e+02],\n",
       "       [ 1.00000000e+00, -1.85929648e+01,  3.45698341e+02],\n",
       "       [ 1.00000000e+00, -1.83919598e+01,  3.38264185e+02],\n",
       "       [ 1.00000000e+00, -1.81909548e+01,  3.30910836e+02],\n",
       "       [ 1.00000000e+00, -1.79899497e+01,  3.23638292e+02],\n",
       "       [ 1.00000000e+00, -1.77889447e+01,  3.16446554e+02],\n",
       "       [ 1.00000000e+00, -1.75879397e+01,  3.09335623e+02],\n",
       "       [ 1.00000000e+00, -1.73869347e+01,  3.02305497e+02],\n",
       "       [ 1.00000000e+00, -1.71859296e+01,  2.95356178e+02],\n",
       "       [ 1.00000000e+00, -1.69849246e+01,  2.88487664e+02],\n",
       "       [ 1.00000000e+00, -1.67839196e+01,  2.81699957e+02],\n",
       "       [ 1.00000000e+00, -1.65829146e+01,  2.74993056e+02],\n",
       "       [ 1.00000000e+00, -1.63819095e+01,  2.68366960e+02],\n",
       "       [ 1.00000000e+00, -1.61809045e+01,  2.61821671e+02],\n",
       "       [ 1.00000000e+00, -1.59798995e+01,  2.55357188e+02],\n",
       "       [ 1.00000000e+00, -1.57788945e+01,  2.48973511e+02],\n",
       "       [ 1.00000000e+00, -1.55778894e+01,  2.42670640e+02],\n",
       "       [ 1.00000000e+00, -1.53768844e+01,  2.36448575e+02],\n",
       "       [ 1.00000000e+00, -1.51758794e+01,  2.30307315e+02],\n",
       "       [ 1.00000000e+00, -1.49748744e+01,  2.24246862e+02],\n",
       "       [ 1.00000000e+00, -1.47738693e+01,  2.18267215e+02],\n",
       "       [ 1.00000000e+00, -1.45728643e+01,  2.12368375e+02],\n",
       "       [ 1.00000000e+00, -1.43718593e+01,  2.06550340e+02],\n",
       "       [ 1.00000000e+00, -1.41708543e+01,  2.00813111e+02],\n",
       "       [ 1.00000000e+00, -1.39698492e+01,  1.95156688e+02],\n",
       "       [ 1.00000000e+00, -1.37688442e+01,  1.89581071e+02],\n",
       "       [ 1.00000000e+00, -1.35678392e+01,  1.84086260e+02],\n",
       "       [ 1.00000000e+00, -1.33668342e+01,  1.78672256e+02],\n",
       "       [ 1.00000000e+00, -1.31658291e+01,  1.73339057e+02],\n",
       "       [ 1.00000000e+00, -1.29648241e+01,  1.68086664e+02],\n",
       "       [ 1.00000000e+00, -1.27638191e+01,  1.62915078e+02],\n",
       "       [ 1.00000000e+00, -1.25628141e+01,  1.57824297e+02],\n",
       "       [ 1.00000000e+00, -1.23618090e+01,  1.52814323e+02],\n",
       "       [ 1.00000000e+00, -1.21608040e+01,  1.47885154e+02],\n",
       "       [ 1.00000000e+00, -1.19597990e+01,  1.43036792e+02],\n",
       "       [ 1.00000000e+00, -1.17587940e+01,  1.38269236e+02],\n",
       "       [ 1.00000000e+00, -1.15577889e+01,  1.33582485e+02],\n",
       "       [ 1.00000000e+00, -1.13567839e+01,  1.28976541e+02],\n",
       "       [ 1.00000000e+00, -1.11557789e+01,  1.24451403e+02],\n",
       "       [ 1.00000000e+00, -1.09547739e+01,  1.20007071e+02],\n",
       "       [ 1.00000000e+00, -1.07537688e+01,  1.15643544e+02],\n",
       "       [ 1.00000000e+00, -1.05527638e+01,  1.11360824e+02],\n",
       "       [ 1.00000000e+00, -1.03517588e+01,  1.07158910e+02],\n",
       "       [ 1.00000000e+00, -1.01507538e+01,  1.03037802e+02],\n",
       "       [ 1.00000000e+00, -9.94974874e+00,  9.89975001e+01],\n",
       "       [ 1.00000000e+00, -9.74874372e+00,  9.50380041e+01],\n",
       "       [ 1.00000000e+00, -9.54773869e+00,  9.11593142e+01],\n",
       "       [ 1.00000000e+00, -9.34673367e+00,  8.73614303e+01],\n",
       "       [ 1.00000000e+00, -9.14572864e+00,  8.36443524e+01],\n",
       "       [ 1.00000000e+00, -8.94472362e+00,  8.00080806e+01],\n",
       "       [ 1.00000000e+00, -8.74371859e+00,  7.64526148e+01],\n",
       "       [ 1.00000000e+00, -8.54271357e+00,  7.29779551e+01],\n",
       "       [ 1.00000000e+00, -8.34170854e+00,  6.95841014e+01],\n",
       "       [ 1.00000000e+00, -8.14070352e+00,  6.62710538e+01],\n",
       "       [ 1.00000000e+00, -7.93969849e+00,  6.30388122e+01],\n",
       "       [ 1.00000000e+00, -7.73869347e+00,  5.98873766e+01],\n",
       "       [ 1.00000000e+00, -7.53768844e+00,  5.68167471e+01],\n",
       "       [ 1.00000000e+00, -7.33668342e+00,  5.38269236e+01],\n",
       "       [ 1.00000000e+00, -7.13567839e+00,  5.09179061e+01],\n",
       "       [ 1.00000000e+00, -6.93467337e+00,  4.80896947e+01],\n",
       "       [ 1.00000000e+00, -6.73366834e+00,  4.53422893e+01],\n",
       "       [ 1.00000000e+00, -6.53266332e+00,  4.26756900e+01],\n",
       "       [ 1.00000000e+00, -6.33165829e+00,  4.00898967e+01],\n",
       "       [ 1.00000000e+00, -6.13065327e+00,  3.75849095e+01],\n",
       "       [ 1.00000000e+00, -5.92964824e+00,  3.51607283e+01],\n",
       "       [ 1.00000000e+00, -5.72864322e+00,  3.28173531e+01],\n",
       "       [ 1.00000000e+00, -5.52763819e+00,  3.05547840e+01],\n",
       "       [ 1.00000000e+00, -5.32663317e+00,  2.83730209e+01],\n",
       "       [ 1.00000000e+00, -5.12562814e+00,  2.62720638e+01],\n",
       "       [ 1.00000000e+00, -4.92462312e+00,  2.42519128e+01],\n",
       "       [ 1.00000000e+00, -4.72361809e+00,  2.23125679e+01],\n",
       "       [ 1.00000000e+00, -4.52261307e+00,  2.04540289e+01],\n",
       "       [ 1.00000000e+00, -4.32160804e+00,  1.86762961e+01],\n",
       "       [ 1.00000000e+00, -4.12060302e+00,  1.69793692e+01],\n",
       "       [ 1.00000000e+00, -3.91959799e+00,  1.53632484e+01],\n",
       "       [ 1.00000000e+00, -3.71859296e+00,  1.38279336e+01],\n",
       "       [ 1.00000000e+00, -3.51758794e+00,  1.23734249e+01],\n",
       "       [ 1.00000000e+00, -3.31658291e+00,  1.09997222e+01],\n",
       "       [ 1.00000000e+00, -3.11557789e+00,  9.70682559e+00],\n",
       "       [ 1.00000000e+00, -2.91457286e+00,  8.49473498e+00],\n",
       "       [ 1.00000000e+00, -2.71356784e+00,  7.36345042e+00],\n",
       "       [ 1.00000000e+00, -2.51256281e+00,  6.31297189e+00],\n",
       "       [ 1.00000000e+00, -2.31155779e+00,  5.34329941e+00],\n",
       "       [ 1.00000000e+00, -2.11055276e+00,  4.45443297e+00],\n",
       "       [ 1.00000000e+00, -1.90954774e+00,  3.64637257e+00],\n",
       "       [ 1.00000000e+00, -1.70854271e+00,  2.91911820e+00],\n",
       "       [ 1.00000000e+00, -1.50753769e+00,  2.27266988e+00],\n",
       "       [ 1.00000000e+00, -1.30653266e+00,  1.70702760e+00],\n",
       "       [ 1.00000000e+00, -1.10552764e+00,  1.22219136e+00],\n",
       "       [ 1.00000000e+00, -9.04522613e-01,  8.18161158e-01],\n",
       "       [ 1.00000000e+00, -7.03517588e-01,  4.94936997e-01],\n",
       "       [ 1.00000000e+00, -5.02512563e-01,  2.52518876e-01],\n",
       "       [ 1.00000000e+00, -3.01507538e-01,  9.09067953e-02],\n",
       "       [ 1.00000000e+00, -1.00502513e-01,  1.01007550e-02],\n",
       "       [ 1.00000000e+00,  1.00502513e-01,  1.01007550e-02],\n",
       "       [ 1.00000000e+00,  3.01507538e-01,  9.09067953e-02],\n",
       "       [ 1.00000000e+00,  5.02512563e-01,  2.52518876e-01],\n",
       "       [ 1.00000000e+00,  7.03517588e-01,  4.94936997e-01],\n",
       "       [ 1.00000000e+00,  9.04522613e-01,  8.18161158e-01],\n",
       "       [ 1.00000000e+00,  1.10552764e+00,  1.22219136e+00],\n",
       "       [ 1.00000000e+00,  1.30653266e+00,  1.70702760e+00],\n",
       "       [ 1.00000000e+00,  1.50753769e+00,  2.27266988e+00],\n",
       "       [ 1.00000000e+00,  1.70854271e+00,  2.91911820e+00],\n",
       "       [ 1.00000000e+00,  1.90954774e+00,  3.64637257e+00],\n",
       "       [ 1.00000000e+00,  2.11055276e+00,  4.45443297e+00],\n",
       "       [ 1.00000000e+00,  2.31155779e+00,  5.34329941e+00],\n",
       "       [ 1.00000000e+00,  2.51256281e+00,  6.31297189e+00],\n",
       "       [ 1.00000000e+00,  2.71356784e+00,  7.36345042e+00],\n",
       "       [ 1.00000000e+00,  2.91457286e+00,  8.49473498e+00],\n",
       "       [ 1.00000000e+00,  3.11557789e+00,  9.70682559e+00],\n",
       "       [ 1.00000000e+00,  3.31658291e+00,  1.09997222e+01],\n",
       "       [ 1.00000000e+00,  3.51758794e+00,  1.23734249e+01],\n",
       "       [ 1.00000000e+00,  3.71859296e+00,  1.38279336e+01],\n",
       "       [ 1.00000000e+00,  3.91959799e+00,  1.53632484e+01],\n",
       "       [ 1.00000000e+00,  4.12060302e+00,  1.69793692e+01],\n",
       "       [ 1.00000000e+00,  4.32160804e+00,  1.86762961e+01],\n",
       "       [ 1.00000000e+00,  4.52261307e+00,  2.04540289e+01],\n",
       "       [ 1.00000000e+00,  4.72361809e+00,  2.23125679e+01],\n",
       "       [ 1.00000000e+00,  4.92462312e+00,  2.42519128e+01],\n",
       "       [ 1.00000000e+00,  5.12562814e+00,  2.62720638e+01],\n",
       "       [ 1.00000000e+00,  5.32663317e+00,  2.83730209e+01],\n",
       "       [ 1.00000000e+00,  5.52763819e+00,  3.05547840e+01],\n",
       "       [ 1.00000000e+00,  5.72864322e+00,  3.28173531e+01],\n",
       "       [ 1.00000000e+00,  5.92964824e+00,  3.51607283e+01],\n",
       "       [ 1.00000000e+00,  6.13065327e+00,  3.75849095e+01],\n",
       "       [ 1.00000000e+00,  6.33165829e+00,  4.00898967e+01],\n",
       "       [ 1.00000000e+00,  6.53266332e+00,  4.26756900e+01],\n",
       "       [ 1.00000000e+00,  6.73366834e+00,  4.53422893e+01],\n",
       "       [ 1.00000000e+00,  6.93467337e+00,  4.80896947e+01],\n",
       "       [ 1.00000000e+00,  7.13567839e+00,  5.09179061e+01],\n",
       "       [ 1.00000000e+00,  7.33668342e+00,  5.38269236e+01],\n",
       "       [ 1.00000000e+00,  7.53768844e+00,  5.68167471e+01],\n",
       "       [ 1.00000000e+00,  7.73869347e+00,  5.98873766e+01],\n",
       "       [ 1.00000000e+00,  7.93969849e+00,  6.30388122e+01],\n",
       "       [ 1.00000000e+00,  8.14070352e+00,  6.62710538e+01],\n",
       "       [ 1.00000000e+00,  8.34170854e+00,  6.95841014e+01],\n",
       "       [ 1.00000000e+00,  8.54271357e+00,  7.29779551e+01],\n",
       "       [ 1.00000000e+00,  8.74371859e+00,  7.64526148e+01],\n",
       "       [ 1.00000000e+00,  8.94472362e+00,  8.00080806e+01],\n",
       "       [ 1.00000000e+00,  9.14572864e+00,  8.36443524e+01],\n",
       "       [ 1.00000000e+00,  9.34673367e+00,  8.73614303e+01],\n",
       "       [ 1.00000000e+00,  9.54773869e+00,  9.11593142e+01],\n",
       "       [ 1.00000000e+00,  9.74874372e+00,  9.50380041e+01],\n",
       "       [ 1.00000000e+00,  9.94974874e+00,  9.89975001e+01],\n",
       "       [ 1.00000000e+00,  1.01507538e+01,  1.03037802e+02],\n",
       "       [ 1.00000000e+00,  1.03517588e+01,  1.07158910e+02],\n",
       "       [ 1.00000000e+00,  1.05527638e+01,  1.11360824e+02],\n",
       "       [ 1.00000000e+00,  1.07537688e+01,  1.15643544e+02],\n",
       "       [ 1.00000000e+00,  1.09547739e+01,  1.20007071e+02],\n",
       "       [ 1.00000000e+00,  1.11557789e+01,  1.24451403e+02],\n",
       "       [ 1.00000000e+00,  1.13567839e+01,  1.28976541e+02],\n",
       "       [ 1.00000000e+00,  1.15577889e+01,  1.33582485e+02],\n",
       "       [ 1.00000000e+00,  1.17587940e+01,  1.38269236e+02],\n",
       "       [ 1.00000000e+00,  1.19597990e+01,  1.43036792e+02],\n",
       "       [ 1.00000000e+00,  1.21608040e+01,  1.47885154e+02],\n",
       "       [ 1.00000000e+00,  1.23618090e+01,  1.52814323e+02],\n",
       "       [ 1.00000000e+00,  1.25628141e+01,  1.57824297e+02],\n",
       "       [ 1.00000000e+00,  1.27638191e+01,  1.62915078e+02],\n",
       "       [ 1.00000000e+00,  1.29648241e+01,  1.68086664e+02],\n",
       "       [ 1.00000000e+00,  1.31658291e+01,  1.73339057e+02],\n",
       "       [ 1.00000000e+00,  1.33668342e+01,  1.78672256e+02],\n",
       "       [ 1.00000000e+00,  1.35678392e+01,  1.84086260e+02],\n",
       "       [ 1.00000000e+00,  1.37688442e+01,  1.89581071e+02],\n",
       "       [ 1.00000000e+00,  1.39698492e+01,  1.95156688e+02],\n",
       "       [ 1.00000000e+00,  1.41708543e+01,  2.00813111e+02],\n",
       "       [ 1.00000000e+00,  1.43718593e+01,  2.06550340e+02],\n",
       "       [ 1.00000000e+00,  1.45728643e+01,  2.12368375e+02],\n",
       "       [ 1.00000000e+00,  1.47738693e+01,  2.18267215e+02],\n",
       "       [ 1.00000000e+00,  1.49748744e+01,  2.24246862e+02],\n",
       "       [ 1.00000000e+00,  1.51758794e+01,  2.30307315e+02],\n",
       "       [ 1.00000000e+00,  1.53768844e+01,  2.36448575e+02],\n",
       "       [ 1.00000000e+00,  1.55778894e+01,  2.42670640e+02],\n",
       "       [ 1.00000000e+00,  1.57788945e+01,  2.48973511e+02],\n",
       "       [ 1.00000000e+00,  1.59798995e+01,  2.55357188e+02],\n",
       "       [ 1.00000000e+00,  1.61809045e+01,  2.61821671e+02],\n",
       "       [ 1.00000000e+00,  1.63819095e+01,  2.68366960e+02],\n",
       "       [ 1.00000000e+00,  1.65829146e+01,  2.74993056e+02],\n",
       "       [ 1.00000000e+00,  1.67839196e+01,  2.81699957e+02],\n",
       "       [ 1.00000000e+00,  1.69849246e+01,  2.88487664e+02],\n",
       "       [ 1.00000000e+00,  1.71859296e+01,  2.95356178e+02],\n",
       "       [ 1.00000000e+00,  1.73869347e+01,  3.02305497e+02],\n",
       "       [ 1.00000000e+00,  1.75879397e+01,  3.09335623e+02],\n",
       "       [ 1.00000000e+00,  1.77889447e+01,  3.16446554e+02],\n",
       "       [ 1.00000000e+00,  1.79899497e+01,  3.23638292e+02],\n",
       "       [ 1.00000000e+00,  1.81909548e+01,  3.30910836e+02],\n",
       "       [ 1.00000000e+00,  1.83919598e+01,  3.38264185e+02],\n",
       "       [ 1.00000000e+00,  1.85929648e+01,  3.45698341e+02],\n",
       "       [ 1.00000000e+00,  1.87939698e+01,  3.53213303e+02],\n",
       "       [ 1.00000000e+00,  1.89949749e+01,  3.60809070e+02],\n",
       "       [ 1.00000000e+00,  1.91959799e+01,  3.68485644e+02],\n",
       "       [ 1.00000000e+00,  1.93969849e+01,  3.76243024e+02],\n",
       "       [ 1.00000000e+00,  1.95979899e+01,  3.84081210e+02],\n",
       "       [ 1.00000000e+00,  1.97989950e+01,  3.92000202e+02],\n",
       "       [ 1.00000000e+00,  2.00000000e+01,  4.00000000e+02]])"
      ]
     },
     "execution_count": 18,
     "metadata": {},
     "output_type": "execute_result"
    }
   ],
   "source": [
    "from sklearn.preprocessing import PolynomialFeatures\n",
    "pf = PolynomialFeatures(degree=2)\n",
    "pf.fit_transform(x)"
   ]
  },
  {
   "cell_type": "code",
   "execution_count": 21,
   "metadata": {},
   "outputs": [],
   "source": [
    "df = pd.DataFrame(x,columns=[\"x\"])"
   ]
  },
  {
   "cell_type": "code",
   "execution_count": 23,
   "metadata": {},
   "outputs": [],
   "source": [
    "df['x2'] = x**2"
   ]
  },
  {
   "cell_type": "code",
   "execution_count": 24,
   "metadata": {},
   "outputs": [
    {
     "data": {
      "text/html": [
       "<div>\n",
       "<style scoped>\n",
       "    .dataframe tbody tr th:only-of-type {\n",
       "        vertical-align: middle;\n",
       "    }\n",
       "\n",
       "    .dataframe tbody tr th {\n",
       "        vertical-align: top;\n",
       "    }\n",
       "\n",
       "    .dataframe thead th {\n",
       "        text-align: right;\n",
       "    }\n",
       "</style>\n",
       "<table border=\"1\" class=\"dataframe\">\n",
       "  <thead>\n",
       "    <tr style=\"text-align: right;\">\n",
       "      <th></th>\n",
       "      <th>x</th>\n",
       "      <th>x2</th>\n",
       "    </tr>\n",
       "  </thead>\n",
       "  <tbody>\n",
       "    <tr>\n",
       "      <th>0</th>\n",
       "      <td>-20.000000</td>\n",
       "      <td>400.000000</td>\n",
       "    </tr>\n",
       "    <tr>\n",
       "      <th>1</th>\n",
       "      <td>-19.798995</td>\n",
       "      <td>392.000202</td>\n",
       "    </tr>\n",
       "    <tr>\n",
       "      <th>2</th>\n",
       "      <td>-19.597990</td>\n",
       "      <td>384.081210</td>\n",
       "    </tr>\n",
       "    <tr>\n",
       "      <th>3</th>\n",
       "      <td>-19.396985</td>\n",
       "      <td>376.243024</td>\n",
       "    </tr>\n",
       "    <tr>\n",
       "      <th>4</th>\n",
       "      <td>-19.195980</td>\n",
       "      <td>368.485644</td>\n",
       "    </tr>\n",
       "    <tr>\n",
       "      <th>...</th>\n",
       "      <td>...</td>\n",
       "      <td>...</td>\n",
       "    </tr>\n",
       "    <tr>\n",
       "      <th>195</th>\n",
       "      <td>19.195980</td>\n",
       "      <td>368.485644</td>\n",
       "    </tr>\n",
       "    <tr>\n",
       "      <th>196</th>\n",
       "      <td>19.396985</td>\n",
       "      <td>376.243024</td>\n",
       "    </tr>\n",
       "    <tr>\n",
       "      <th>197</th>\n",
       "      <td>19.597990</td>\n",
       "      <td>384.081210</td>\n",
       "    </tr>\n",
       "    <tr>\n",
       "      <th>198</th>\n",
       "      <td>19.798995</td>\n",
       "      <td>392.000202</td>\n",
       "    </tr>\n",
       "    <tr>\n",
       "      <th>199</th>\n",
       "      <td>20.000000</td>\n",
       "      <td>400.000000</td>\n",
       "    </tr>\n",
       "  </tbody>\n",
       "</table>\n",
       "<p>200 rows × 2 columns</p>\n",
       "</div>"
      ],
      "text/plain": [
       "             x          x2\n",
       "0   -20.000000  400.000000\n",
       "1   -19.798995  392.000202\n",
       "2   -19.597990  384.081210\n",
       "3   -19.396985  376.243024\n",
       "4   -19.195980  368.485644\n",
       "..         ...         ...\n",
       "195  19.195980  368.485644\n",
       "196  19.396985  376.243024\n",
       "197  19.597990  384.081210\n",
       "198  19.798995  392.000202\n",
       "199  20.000000  400.000000\n",
       "\n",
       "[200 rows x 2 columns]"
      ]
     },
     "execution_count": 24,
     "metadata": {},
     "output_type": "execute_result"
    }
   ],
   "source": [
    "df"
   ]
  },
  {
   "cell_type": "code",
   "execution_count": 26,
   "metadata": {},
   "outputs": [
    {
     "data": {
      "text/plain": [
       "array([[-2.00000000e+01,  4.00000000e+02,  4.00000000e+02,\n",
       "        -8.00000000e+03,  1.60000000e+05],\n",
       "       [-1.97989950e+01,  3.92000202e+02,  3.92000202e+02,\n",
       "        -7.76121003e+03,  1.53664158e+05],\n",
       "       [-1.95979899e+01,  3.84081210e+02,  3.84081210e+02,\n",
       "        -7.52721969e+03,  1.47518376e+05],\n",
       "       [-1.93969849e+01,  3.76243024e+02,  3.76243024e+02,\n",
       "        -7.29798027e+03,  1.41558813e+05],\n",
       "       [-1.91959799e+01,  3.68485644e+02,  3.68485644e+02,\n",
       "        -7.07344302e+03,  1.35781670e+05],\n",
       "       [-1.89949749e+01,  3.60809070e+02,  3.60809070e+02,\n",
       "        -6.85355923e+03,  1.30183185e+05],\n",
       "       [-1.87939698e+01,  3.53213303e+02,  3.53213303e+02,\n",
       "        -6.63828016e+03,  1.24759637e+05],\n",
       "       [-1.85929648e+01,  3.45698341e+02,  3.45698341e+02,\n",
       "        -6.42755709e+03,  1.19507343e+05],\n",
       "       [-1.83919598e+01,  3.38264185e+02,  3.38264185e+02,\n",
       "        -6.22134130e+03,  1.14422659e+05],\n",
       "       [-1.81909548e+01,  3.30910836e+02,  3.30910836e+02,\n",
       "        -6.01958404e+03,  1.09501981e+05],\n",
       "       [-1.79899497e+01,  3.23638292e+02,  3.23638292e+02,\n",
       "        -5.82223661e+03,  1.04741744e+05],\n",
       "       [-1.77889447e+01,  3.16446554e+02,  3.16446554e+02,\n",
       "        -5.62925026e+03,  1.00138422e+05],\n",
       "       [-1.75879397e+01,  3.09335623e+02,  3.09335623e+02,\n",
       "        -5.44057628e+03,  9.56885276e+04],\n",
       "       [-1.73869347e+01,  3.02305497e+02,  3.02305497e+02,\n",
       "        -5.25616593e+03,  9.13886137e+04],\n",
       "       [-1.71859296e+01,  2.95356178e+02,  2.95356178e+02,\n",
       "        -5.07597049e+03,  8.72352718e+04],\n",
       "       [-1.69849246e+01,  2.88487664e+02,  2.88487664e+02,\n",
       "        -4.89994124e+03,  8.32251325e+04],\n",
       "       [-1.67839196e+01,  2.81699957e+02,  2.81699957e+02,\n",
       "        -4.72802943e+03,  7.93548658e+04],\n",
       "       [-1.65829146e+01,  2.74993056e+02,  2.74993056e+02,\n",
       "        -4.56018635e+03,  7.56211807e+04],\n",
       "       [-1.63819095e+01,  2.68366960e+02,  2.68366960e+02,\n",
       "        -4.39636327e+03,  7.20208255e+04],\n",
       "       [-1.61809045e+01,  2.61821671e+02,  2.61821671e+02,\n",
       "        -4.23651146e+03,  6.85505875e+04],\n",
       "       [-1.59798995e+01,  2.55357188e+02,  2.55357188e+02,\n",
       "        -4.08058220e+03,  6.52072934e+04],\n",
       "       [-1.57788945e+01,  2.48973511e+02,  2.48973511e+02,\n",
       "        -3.92852675e+03,  6.19878091e+04],\n",
       "       [-1.55778894e+01,  2.42670640e+02,  2.42670640e+02,\n",
       "        -3.78029640e+03,  5.88890393e+04],\n",
       "       [-1.53768844e+01,  2.36448575e+02,  2.36448575e+02,\n",
       "        -3.63584240e+03,  5.59079284e+04],\n",
       "       [-1.51758794e+01,  2.30307315e+02,  2.30307315e+02,\n",
       "        -3.49511604e+03,  5.30414596e+04],\n",
       "       [-1.49748744e+01,  2.24246862e+02,  2.24246862e+02,\n",
       "        -3.35806859e+03,  5.02866553e+04],\n",
       "       [-1.47738693e+01,  2.18267215e+02,  2.18267215e+02,\n",
       "        -3.22465132e+03,  4.76405774e+04],\n",
       "       [-1.45728643e+01,  2.12368375e+02,  2.12368375e+02,\n",
       "        -3.09481551e+03,  4.51003265e+04],\n",
       "       [-1.43718593e+01,  2.06550340e+02,  2.06550340e+02,\n",
       "        -2.96851242e+03,  4.26630428e+04],\n",
       "       [-1.41708543e+01,  2.00813111e+02,  2.00813111e+02,\n",
       "        -2.84569333e+03,  4.03259055e+04],\n",
       "       [-1.39698492e+01,  1.95156688e+02,  1.95156688e+02,\n",
       "        -2.72630951e+03,  3.80861329e+04],\n",
       "       [-1.37688442e+01,  1.89581071e+02,  1.89581071e+02,\n",
       "        -2.61031224e+03,  3.59409826e+04],\n",
       "       [-1.35678392e+01,  1.84086260e+02,  1.84086260e+02,\n",
       "        -2.49765278e+03,  3.38877513e+04],\n",
       "       [-1.33668342e+01,  1.78672256e+02,  1.78672256e+02,\n",
       "        -2.38828241e+03,  3.19237750e+04],\n",
       "       [-1.31658291e+01,  1.73339057e+02,  1.73339057e+02,\n",
       "        -2.28215241e+03,  3.00464287e+04],\n",
       "       [-1.29648241e+01,  1.68086664e+02,  1.68086664e+02,\n",
       "        -2.17921404e+03,  2.82531268e+04],\n",
       "       [-1.27638191e+01,  1.62915078e+02,  1.62915078e+02,\n",
       "        -2.07941858e+03,  2.65413226e+04],\n",
       "       [-1.25628141e+01,  1.57824297e+02,  1.57824297e+02,\n",
       "        -1.98271730e+03,  2.49085088e+04],\n",
       "       [-1.23618090e+01,  1.52814323e+02,  1.52814323e+02,\n",
       "        -1.88906148e+03,  2.33522173e+04],\n",
       "       [-1.21608040e+01,  1.47885154e+02,  1.47885154e+02,\n",
       "        -1.79840238e+03,  2.18700189e+04],\n",
       "       [-1.19597990e+01,  1.43036792e+02,  1.43036792e+02,\n",
       "        -1.71069128e+03,  2.04595239e+04],\n",
       "       [-1.17587940e+01,  1.38269236e+02,  1.38269236e+02,\n",
       "        -1.62587945e+03,  1.91183815e+04],\n",
       "       [-1.15577889e+01,  1.33582485e+02,  1.33582485e+02,\n",
       "        -1.54391817e+03,  1.78442804e+04],\n",
       "       [-1.13567839e+01,  1.28976541e+02,  1.28976541e+02,\n",
       "        -1.46475871e+03,  1.66349481e+04],\n",
       "       [-1.11557789e+01,  1.24451403e+02,  1.24451403e+02,\n",
       "        -1.38835233e+03,  1.54881516e+04],\n",
       "       [-1.09547739e+01,  1.20007071e+02,  1.20007071e+02,\n",
       "        -1.31465032e+03,  1.44016970e+04],\n",
       "       [-1.07537688e+01,  1.15643544e+02,  1.15643544e+02,\n",
       "        -1.24360394e+03,  1.33734294e+04],\n",
       "       [-1.05527638e+01,  1.11360824e+02,  1.11360824e+02,\n",
       "        -1.17516448e+03,  1.24012332e+04],\n",
       "       [-1.03517588e+01,  1.07158910e+02,  1.07158910e+02,\n",
       "        -1.10928319e+03,  1.14830320e+04],\n",
       "       [-1.01507538e+01,  1.03037802e+02,  1.03037802e+02,\n",
       "        -1.04591136e+03,  1.06167887e+04],\n",
       "       [-9.94974874e+00,  9.89975001e+01,  9.89975001e+01,\n",
       "        -9.85000252e+02,  9.80050502e+03],\n",
       "       [-9.74874372e+00,  9.50380041e+01,  9.50380041e+01,\n",
       "        -9.26501145e+02,  9.03222222e+03],\n",
       "       [-9.54773869e+00,  9.11593142e+01,  9.11593142e+01,\n",
       "        -8.70365311e+02,  8.31002056e+03],\n",
       "       [-9.34673367e+00,  8.73614303e+01,  8.73614303e+01,\n",
       "        -8.16544022e+02,  7.63201950e+03],\n",
       "       [-9.14572864e+00,  8.36443524e+01,  8.36443524e+01,\n",
       "        -7.64988550e+02,  6.99637769e+03],\n",
       "       [-8.94472362e+00,  8.00080806e+01,  8.00080806e+01,\n",
       "        -7.15650168e+02,  6.40129296e+03],\n",
       "       [-8.74371859e+00,  7.64526148e+01,  7.64526148e+01,\n",
       "        -6.68480150e+02,  5.84500231e+03],\n",
       "       [-8.54271357e+00,  7.29779551e+01,  7.29779551e+01,\n",
       "        -6.23429767e+02,  5.32578193e+03],\n",
       "       [-8.34170854e+00,  6.95841014e+01,  6.95841014e+01,\n",
       "        -5.80450293e+02,  4.84194717e+03],\n",
       "       [-8.14070352e+00,  6.62710538e+01,  6.62710538e+01,\n",
       "        -5.39493000e+02,  4.39185257e+03],\n",
       "       [-7.93969849e+00,  6.30388122e+01,  6.30388122e+01,\n",
       "        -5.00509162e+02,  3.97389184e+03],\n",
       "       [-7.73869347e+00,  5.98873766e+01,  5.98873766e+01,\n",
       "        -4.63450050e+02,  3.58649787e+03],\n",
       "       [-7.53768844e+00,  5.68167471e+01,  5.68167471e+01,\n",
       "        -4.28266938e+02,  3.22814275e+03],\n",
       "       [-7.33668342e+00,  5.38269236e+01,  5.38269236e+01,\n",
       "        -3.94911097e+02,  2.89733770e+03],\n",
       "       [-7.13567839e+00,  5.09179061e+01,  5.09179061e+01,\n",
       "        -3.63333802e+02,  2.59263316e+03],\n",
       "       [-6.93467337e+00,  4.80896947e+01,  4.80896947e+01,\n",
       "        -3.33486325e+02,  2.31261874e+03],\n",
       "       [-6.73366834e+00,  4.53422893e+01,  4.53422893e+01,\n",
       "        -3.05319938e+02,  2.05592320e+03],\n",
       "       [-6.53266332e+00,  4.26756900e+01,  4.26756900e+01,\n",
       "        -2.78785915e+02,  1.82121452e+03],\n",
       "       [-6.33165829e+00,  4.00898967e+01,  4.00898967e+01,\n",
       "        -2.53835527e+02,  1.60719982e+03],\n",
       "       [-6.13065327e+00,  3.75849095e+01,  3.75849095e+01,\n",
       "        -2.30420048e+02,  1.41262542e+03],\n",
       "       [-5.92964824e+00,  3.51607283e+01,  3.51607283e+01,\n",
       "        -2.08490751e+02,  1.23627681e+03],\n",
       "       [-5.72864322e+00,  3.28173531e+01,  3.28173531e+01,\n",
       "        -1.87998907e+02,  1.07697866e+03],\n",
       "       [-5.52763819e+00,  3.05547840e+01,  3.05547840e+01,\n",
       "        -1.68895791e+02,  9.33594823e+02],\n",
       "       [-5.32663317e+00,  2.83730209e+01,  2.83730209e+01,\n",
       "        -1.51132674e+02,  8.05028314e+02],\n",
       "       [-5.12562814e+00,  2.62720638e+01,  2.62720638e+01,\n",
       "        -1.34660830e+02,  6.90221338e+02],\n",
       "       [-4.92462312e+00,  2.42519128e+01,  2.42519128e+01,\n",
       "        -1.19431531e+02,  5.88155276e+02],\n",
       "       [-4.72361809e+00,  2.23125679e+01,  2.23125679e+01,\n",
       "        -1.05396049e+02,  4.97850685e+02],\n",
       "       [-4.52261307e+00,  2.04540289e+01,  2.04540289e+01,\n",
       "        -9.25056585e+01,  4.18367300e+02],\n",
       "       [-4.32160804e+00,  1.86762961e+01,  1.86762961e+01,\n",
       "        -8.07116312e+01,  3.48804034e+02],\n",
       "       [-4.12060302e+00,  1.69793692e+01,  1.69793692e+01,\n",
       "        -6.99652400e+01,  2.88298979e+02],\n",
       "       [-3.91959799e+00,  1.53632484e+01,  1.53632484e+01,\n",
       "        -6.02177576e+01,  2.36029401e+02],\n",
       "       [-3.71859296e+00,  1.38279336e+01,  1.38279336e+01,\n",
       "        -5.14204567e+01,  1.91211749e+02],\n",
       "       [-3.51758794e+00,  1.23734249e+01,  1.23734249e+01,\n",
       "        -4.35246102e+01,  1.53101644e+02],\n",
       "       [-3.31658291e+00,  1.09997222e+01,  1.09997222e+01,\n",
       "        -3.64814908e+01,  1.20993889e+02],\n",
       "       [-3.11557789e+00,  9.70682559e+00,  9.70682559e+00,\n",
       "        -3.02423712e+01,  9.42224629e+01],\n",
       "       [-2.91457286e+00,  8.49473498e+00,  8.49473498e+00,\n",
       "        -2.47585241e+01,  7.21605224e+01],\n",
       "       [-2.71356784e+00,  7.36345042e+00,  7.36345042e+00,\n",
       "        -1.99812222e+01,  5.42204021e+01],\n",
       "       [-2.51256281e+00,  6.31297189e+00,  6.31297189e+00,\n",
       "        -1.58617384e+01,  3.98536141e+01],\n",
       "       [-2.31155779e+00,  5.34329941e+00,  5.34329941e+00,\n",
       "        -1.23513454e+01,  2.85508486e+01],\n",
       "       [-2.11055276e+00,  4.45443297e+00,  4.45443297e+00,\n",
       "        -9.40131581e+00,  1.98419731e+01],\n",
       "       [-1.90954774e+00,  3.64637257e+00,  3.64637257e+00,\n",
       "        -6.96292249e+00,  1.32960329e+01],\n",
       "       [-1.70854271e+00,  2.91911820e+00,  2.91911820e+00,\n",
       "        -4.98743814e+00,  8.52125109e+00],\n",
       "       [-1.50753769e+00,  2.27266988e+00,  2.27266988e+00,\n",
       "        -3.42613550e+00,  5.16502839e+00],\n",
       "       [-1.30653266e+00,  1.70702760e+00,  1.70702760e+00,\n",
       "        -2.23028732e+00,  2.91394323e+00],\n",
       "       [-1.10552764e+00,  1.22219136e+00,  1.22219136e+00,\n",
       "        -1.35116633e+00,  1.49375172e+00],\n",
       "       [-9.04522613e-01,  8.18161158e-01,  8.18161158e-01,\n",
       "        -7.40045268e-01,  6.69387680e-01],\n",
       "       [-7.03517588e-01,  4.94936997e-01,  4.94936997e-01,\n",
       "        -3.48196882e-01,  2.44962631e-01],\n",
       "       [-5.02512563e-01,  2.52518876e-01,  2.52518876e-01,\n",
       "        -1.26893907e-01,  6.37657826e-02],\n",
       "       [-3.01507538e-01,  9.09067953e-02,  9.09067953e-02,\n",
       "        -2.74090840e-02,  8.26404543e-03],\n",
       "       [-1.00502513e-01,  1.01007550e-02,  1.01007550e-02,\n",
       "        -1.01515126e-03,  1.02025252e-04],\n",
       "       [ 1.00502513e-01,  1.01007550e-02,  1.01007550e-02,\n",
       "         1.01515126e-03,  1.02025252e-04],\n",
       "       [ 3.01507538e-01,  9.09067953e-02,  9.09067953e-02,\n",
       "         2.74090840e-02,  8.26404543e-03],\n",
       "       [ 5.02512563e-01,  2.52518876e-01,  2.52518876e-01,\n",
       "         1.26893907e-01,  6.37657826e-02],\n",
       "       [ 7.03517588e-01,  4.94936997e-01,  4.94936997e-01,\n",
       "         3.48196882e-01,  2.44962631e-01],\n",
       "       [ 9.04522613e-01,  8.18161158e-01,  8.18161158e-01,\n",
       "         7.40045268e-01,  6.69387680e-01],\n",
       "       [ 1.10552764e+00,  1.22219136e+00,  1.22219136e+00,\n",
       "         1.35116633e+00,  1.49375172e+00],\n",
       "       [ 1.30653266e+00,  1.70702760e+00,  1.70702760e+00,\n",
       "         2.23028732e+00,  2.91394323e+00],\n",
       "       [ 1.50753769e+00,  2.27266988e+00,  2.27266988e+00,\n",
       "         3.42613550e+00,  5.16502839e+00],\n",
       "       [ 1.70854271e+00,  2.91911820e+00,  2.91911820e+00,\n",
       "         4.98743814e+00,  8.52125109e+00],\n",
       "       [ 1.90954774e+00,  3.64637257e+00,  3.64637257e+00,\n",
       "         6.96292249e+00,  1.32960329e+01],\n",
       "       [ 2.11055276e+00,  4.45443297e+00,  4.45443297e+00,\n",
       "         9.40131581e+00,  1.98419731e+01],\n",
       "       [ 2.31155779e+00,  5.34329941e+00,  5.34329941e+00,\n",
       "         1.23513454e+01,  2.85508486e+01],\n",
       "       [ 2.51256281e+00,  6.31297189e+00,  6.31297189e+00,\n",
       "         1.58617384e+01,  3.98536141e+01],\n",
       "       [ 2.71356784e+00,  7.36345042e+00,  7.36345042e+00,\n",
       "         1.99812222e+01,  5.42204021e+01],\n",
       "       [ 2.91457286e+00,  8.49473498e+00,  8.49473498e+00,\n",
       "         2.47585241e+01,  7.21605224e+01],\n",
       "       [ 3.11557789e+00,  9.70682559e+00,  9.70682559e+00,\n",
       "         3.02423712e+01,  9.42224629e+01],\n",
       "       [ 3.31658291e+00,  1.09997222e+01,  1.09997222e+01,\n",
       "         3.64814908e+01,  1.20993889e+02],\n",
       "       [ 3.51758794e+00,  1.23734249e+01,  1.23734249e+01,\n",
       "         4.35246102e+01,  1.53101644e+02],\n",
       "       [ 3.71859296e+00,  1.38279336e+01,  1.38279336e+01,\n",
       "         5.14204567e+01,  1.91211749e+02],\n",
       "       [ 3.91959799e+00,  1.53632484e+01,  1.53632484e+01,\n",
       "         6.02177576e+01,  2.36029401e+02],\n",
       "       [ 4.12060302e+00,  1.69793692e+01,  1.69793692e+01,\n",
       "         6.99652400e+01,  2.88298979e+02],\n",
       "       [ 4.32160804e+00,  1.86762961e+01,  1.86762961e+01,\n",
       "         8.07116312e+01,  3.48804034e+02],\n",
       "       [ 4.52261307e+00,  2.04540289e+01,  2.04540289e+01,\n",
       "         9.25056585e+01,  4.18367300e+02],\n",
       "       [ 4.72361809e+00,  2.23125679e+01,  2.23125679e+01,\n",
       "         1.05396049e+02,  4.97850685e+02],\n",
       "       [ 4.92462312e+00,  2.42519128e+01,  2.42519128e+01,\n",
       "         1.19431531e+02,  5.88155276e+02],\n",
       "       [ 5.12562814e+00,  2.62720638e+01,  2.62720638e+01,\n",
       "         1.34660830e+02,  6.90221338e+02],\n",
       "       [ 5.32663317e+00,  2.83730209e+01,  2.83730209e+01,\n",
       "         1.51132674e+02,  8.05028314e+02],\n",
       "       [ 5.52763819e+00,  3.05547840e+01,  3.05547840e+01,\n",
       "         1.68895791e+02,  9.33594823e+02],\n",
       "       [ 5.72864322e+00,  3.28173531e+01,  3.28173531e+01,\n",
       "         1.87998907e+02,  1.07697866e+03],\n",
       "       [ 5.92964824e+00,  3.51607283e+01,  3.51607283e+01,\n",
       "         2.08490751e+02,  1.23627681e+03],\n",
       "       [ 6.13065327e+00,  3.75849095e+01,  3.75849095e+01,\n",
       "         2.30420048e+02,  1.41262542e+03],\n",
       "       [ 6.33165829e+00,  4.00898967e+01,  4.00898967e+01,\n",
       "         2.53835527e+02,  1.60719982e+03],\n",
       "       [ 6.53266332e+00,  4.26756900e+01,  4.26756900e+01,\n",
       "         2.78785915e+02,  1.82121452e+03],\n",
       "       [ 6.73366834e+00,  4.53422893e+01,  4.53422893e+01,\n",
       "         3.05319938e+02,  2.05592320e+03],\n",
       "       [ 6.93467337e+00,  4.80896947e+01,  4.80896947e+01,\n",
       "         3.33486325e+02,  2.31261874e+03],\n",
       "       [ 7.13567839e+00,  5.09179061e+01,  5.09179061e+01,\n",
       "         3.63333802e+02,  2.59263316e+03],\n",
       "       [ 7.33668342e+00,  5.38269236e+01,  5.38269236e+01,\n",
       "         3.94911097e+02,  2.89733770e+03],\n",
       "       [ 7.53768844e+00,  5.68167471e+01,  5.68167471e+01,\n",
       "         4.28266938e+02,  3.22814275e+03],\n",
       "       [ 7.73869347e+00,  5.98873766e+01,  5.98873766e+01,\n",
       "         4.63450050e+02,  3.58649787e+03],\n",
       "       [ 7.93969849e+00,  6.30388122e+01,  6.30388122e+01,\n",
       "         5.00509162e+02,  3.97389184e+03],\n",
       "       [ 8.14070352e+00,  6.62710538e+01,  6.62710538e+01,\n",
       "         5.39493000e+02,  4.39185257e+03],\n",
       "       [ 8.34170854e+00,  6.95841014e+01,  6.95841014e+01,\n",
       "         5.80450293e+02,  4.84194717e+03],\n",
       "       [ 8.54271357e+00,  7.29779551e+01,  7.29779551e+01,\n",
       "         6.23429767e+02,  5.32578193e+03],\n",
       "       [ 8.74371859e+00,  7.64526148e+01,  7.64526148e+01,\n",
       "         6.68480150e+02,  5.84500231e+03],\n",
       "       [ 8.94472362e+00,  8.00080806e+01,  8.00080806e+01,\n",
       "         7.15650168e+02,  6.40129296e+03],\n",
       "       [ 9.14572864e+00,  8.36443524e+01,  8.36443524e+01,\n",
       "         7.64988550e+02,  6.99637769e+03],\n",
       "       [ 9.34673367e+00,  8.73614303e+01,  8.73614303e+01,\n",
       "         8.16544022e+02,  7.63201950e+03],\n",
       "       [ 9.54773869e+00,  9.11593142e+01,  9.11593142e+01,\n",
       "         8.70365311e+02,  8.31002056e+03],\n",
       "       [ 9.74874372e+00,  9.50380041e+01,  9.50380041e+01,\n",
       "         9.26501145e+02,  9.03222222e+03],\n",
       "       [ 9.94974874e+00,  9.89975001e+01,  9.89975001e+01,\n",
       "         9.85000252e+02,  9.80050502e+03],\n",
       "       [ 1.01507538e+01,  1.03037802e+02,  1.03037802e+02,\n",
       "         1.04591136e+03,  1.06167887e+04],\n",
       "       [ 1.03517588e+01,  1.07158910e+02,  1.07158910e+02,\n",
       "         1.10928319e+03,  1.14830320e+04],\n",
       "       [ 1.05527638e+01,  1.11360824e+02,  1.11360824e+02,\n",
       "         1.17516448e+03,  1.24012332e+04],\n",
       "       [ 1.07537688e+01,  1.15643544e+02,  1.15643544e+02,\n",
       "         1.24360394e+03,  1.33734294e+04],\n",
       "       [ 1.09547739e+01,  1.20007071e+02,  1.20007071e+02,\n",
       "         1.31465032e+03,  1.44016970e+04],\n",
       "       [ 1.11557789e+01,  1.24451403e+02,  1.24451403e+02,\n",
       "         1.38835233e+03,  1.54881516e+04],\n",
       "       [ 1.13567839e+01,  1.28976541e+02,  1.28976541e+02,\n",
       "         1.46475871e+03,  1.66349481e+04],\n",
       "       [ 1.15577889e+01,  1.33582485e+02,  1.33582485e+02,\n",
       "         1.54391817e+03,  1.78442804e+04],\n",
       "       [ 1.17587940e+01,  1.38269236e+02,  1.38269236e+02,\n",
       "         1.62587945e+03,  1.91183815e+04],\n",
       "       [ 1.19597990e+01,  1.43036792e+02,  1.43036792e+02,\n",
       "         1.71069128e+03,  2.04595239e+04],\n",
       "       [ 1.21608040e+01,  1.47885154e+02,  1.47885154e+02,\n",
       "         1.79840238e+03,  2.18700189e+04],\n",
       "       [ 1.23618090e+01,  1.52814323e+02,  1.52814323e+02,\n",
       "         1.88906148e+03,  2.33522173e+04],\n",
       "       [ 1.25628141e+01,  1.57824297e+02,  1.57824297e+02,\n",
       "         1.98271730e+03,  2.49085088e+04],\n",
       "       [ 1.27638191e+01,  1.62915078e+02,  1.62915078e+02,\n",
       "         2.07941858e+03,  2.65413226e+04],\n",
       "       [ 1.29648241e+01,  1.68086664e+02,  1.68086664e+02,\n",
       "         2.17921404e+03,  2.82531268e+04],\n",
       "       [ 1.31658291e+01,  1.73339057e+02,  1.73339057e+02,\n",
       "         2.28215241e+03,  3.00464287e+04],\n",
       "       [ 1.33668342e+01,  1.78672256e+02,  1.78672256e+02,\n",
       "         2.38828241e+03,  3.19237750e+04],\n",
       "       [ 1.35678392e+01,  1.84086260e+02,  1.84086260e+02,\n",
       "         2.49765278e+03,  3.38877513e+04],\n",
       "       [ 1.37688442e+01,  1.89581071e+02,  1.89581071e+02,\n",
       "         2.61031224e+03,  3.59409826e+04],\n",
       "       [ 1.39698492e+01,  1.95156688e+02,  1.95156688e+02,\n",
       "         2.72630951e+03,  3.80861329e+04],\n",
       "       [ 1.41708543e+01,  2.00813111e+02,  2.00813111e+02,\n",
       "         2.84569333e+03,  4.03259055e+04],\n",
       "       [ 1.43718593e+01,  2.06550340e+02,  2.06550340e+02,\n",
       "         2.96851242e+03,  4.26630428e+04],\n",
       "       [ 1.45728643e+01,  2.12368375e+02,  2.12368375e+02,\n",
       "         3.09481551e+03,  4.51003265e+04],\n",
       "       [ 1.47738693e+01,  2.18267215e+02,  2.18267215e+02,\n",
       "         3.22465132e+03,  4.76405774e+04],\n",
       "       [ 1.49748744e+01,  2.24246862e+02,  2.24246862e+02,\n",
       "         3.35806859e+03,  5.02866553e+04],\n",
       "       [ 1.51758794e+01,  2.30307315e+02,  2.30307315e+02,\n",
       "         3.49511604e+03,  5.30414596e+04],\n",
       "       [ 1.53768844e+01,  2.36448575e+02,  2.36448575e+02,\n",
       "         3.63584240e+03,  5.59079284e+04],\n",
       "       [ 1.55778894e+01,  2.42670640e+02,  2.42670640e+02,\n",
       "         3.78029640e+03,  5.88890393e+04],\n",
       "       [ 1.57788945e+01,  2.48973511e+02,  2.48973511e+02,\n",
       "         3.92852675e+03,  6.19878091e+04],\n",
       "       [ 1.59798995e+01,  2.55357188e+02,  2.55357188e+02,\n",
       "         4.08058220e+03,  6.52072934e+04],\n",
       "       [ 1.61809045e+01,  2.61821671e+02,  2.61821671e+02,\n",
       "         4.23651146e+03,  6.85505875e+04],\n",
       "       [ 1.63819095e+01,  2.68366960e+02,  2.68366960e+02,\n",
       "         4.39636327e+03,  7.20208255e+04],\n",
       "       [ 1.65829146e+01,  2.74993056e+02,  2.74993056e+02,\n",
       "         4.56018635e+03,  7.56211807e+04],\n",
       "       [ 1.67839196e+01,  2.81699957e+02,  2.81699957e+02,\n",
       "         4.72802943e+03,  7.93548658e+04],\n",
       "       [ 1.69849246e+01,  2.88487664e+02,  2.88487664e+02,\n",
       "         4.89994124e+03,  8.32251325e+04],\n",
       "       [ 1.71859296e+01,  2.95356178e+02,  2.95356178e+02,\n",
       "         5.07597049e+03,  8.72352718e+04],\n",
       "       [ 1.73869347e+01,  3.02305497e+02,  3.02305497e+02,\n",
       "         5.25616593e+03,  9.13886137e+04],\n",
       "       [ 1.75879397e+01,  3.09335623e+02,  3.09335623e+02,\n",
       "         5.44057628e+03,  9.56885276e+04],\n",
       "       [ 1.77889447e+01,  3.16446554e+02,  3.16446554e+02,\n",
       "         5.62925026e+03,  1.00138422e+05],\n",
       "       [ 1.79899497e+01,  3.23638292e+02,  3.23638292e+02,\n",
       "         5.82223661e+03,  1.04741744e+05],\n",
       "       [ 1.81909548e+01,  3.30910836e+02,  3.30910836e+02,\n",
       "         6.01958404e+03,  1.09501981e+05],\n",
       "       [ 1.83919598e+01,  3.38264185e+02,  3.38264185e+02,\n",
       "         6.22134130e+03,  1.14422659e+05],\n",
       "       [ 1.85929648e+01,  3.45698341e+02,  3.45698341e+02,\n",
       "         6.42755709e+03,  1.19507343e+05],\n",
       "       [ 1.87939698e+01,  3.53213303e+02,  3.53213303e+02,\n",
       "         6.63828016e+03,  1.24759637e+05],\n",
       "       [ 1.89949749e+01,  3.60809070e+02,  3.60809070e+02,\n",
       "         6.85355923e+03,  1.30183185e+05],\n",
       "       [ 1.91959799e+01,  3.68485644e+02,  3.68485644e+02,\n",
       "         7.07344302e+03,  1.35781670e+05],\n",
       "       [ 1.93969849e+01,  3.76243024e+02,  3.76243024e+02,\n",
       "         7.29798027e+03,  1.41558813e+05],\n",
       "       [ 1.95979899e+01,  3.84081210e+02,  3.84081210e+02,\n",
       "         7.52721969e+03,  1.47518376e+05],\n",
       "       [ 1.97989950e+01,  3.92000202e+02,  3.92000202e+02,\n",
       "         7.76121003e+03,  1.53664158e+05],\n",
       "       [ 2.00000000e+01,  4.00000000e+02,  4.00000000e+02,\n",
       "         8.00000000e+03,  1.60000000e+05]])"
      ]
     },
     "execution_count": 26,
     "metadata": {},
     "output_type": "execute_result"
    }
   ],
   "source": [
    "from sklearn.preprocessing import PolynomialFeatures\n",
    "pf = PolynomialFeatures(degree=2)\n",
    "pf.fit_transform(df.values)[:,1:]"
   ]
  },
  {
   "cell_type": "code",
   "execution_count": 27,
   "metadata": {},
   "outputs": [],
   "source": [
    "def f(x):\n",
    "    return 3*(x**3) + 8 * (x**2) + 2*x - 5000 * np.random.random()\n",
    "\n",
    "x = np.linspace(-20, 20, 200).reshape(-1,1) # input\n",
    "\n",
    "output = []\n",
    "for i in x:\n",
    "    output.append(f(i)[0])"
   ]
  },
  {
   "cell_type": "code",
   "execution_count": 28,
   "metadata": {},
   "outputs": [
    {
     "data": {
      "text/plain": [
       "(200, 1)"
      ]
     },
     "execution_count": 28,
     "metadata": {},
     "output_type": "execute_result"
    }
   ],
   "source": [
    "x.shape"
   ]
  },
  {
   "cell_type": "code",
   "execution_count": 35,
   "metadata": {},
   "outputs": [],
   "source": [
    "from sklearn.model_selection import train_test_split\n",
    "x_train,x_test,y_train,y_test = train_test_split(x,output,test_size=0.3,random_state=1)\n",
    "\n",
    "df = pd.DataFrame(x_train,columns=['x'])\n",
    "df['y'] = y_train\n",
    "\n",
    "df = df.sort_values('x')\n"
   ]
  },
  {
   "cell_type": "code",
   "execution_count": 36,
   "metadata": {},
   "outputs": [
    {
     "data": {
      "text/html": [
       "<div>\n",
       "<style scoped>\n",
       "    .dataframe tbody tr th:only-of-type {\n",
       "        vertical-align: middle;\n",
       "    }\n",
       "\n",
       "    .dataframe tbody tr th {\n",
       "        vertical-align: top;\n",
       "    }\n",
       "\n",
       "    .dataframe thead th {\n",
       "        text-align: right;\n",
       "    }\n",
       "</style>\n",
       "<table border=\"1\" class=\"dataframe\">\n",
       "  <thead>\n",
       "    <tr style=\"text-align: right;\">\n",
       "      <th></th>\n",
       "      <th>x</th>\n",
       "      <th>y</th>\n",
       "    </tr>\n",
       "  </thead>\n",
       "  <tbody>\n",
       "    <tr>\n",
       "      <th>50</th>\n",
       "      <td>-20.000000</td>\n",
       "      <td>-21102.174393</td>\n",
       "    </tr>\n",
       "    <tr>\n",
       "      <th>108</th>\n",
       "      <td>-19.798995</td>\n",
       "      <td>-24480.830706</td>\n",
       "    </tr>\n",
       "    <tr>\n",
       "      <th>44</th>\n",
       "      <td>-19.597990</td>\n",
       "      <td>-21244.329925</td>\n",
       "    </tr>\n",
       "    <tr>\n",
       "      <th>95</th>\n",
       "      <td>-19.396985</td>\n",
       "      <td>-20889.024222</td>\n",
       "    </tr>\n",
       "    <tr>\n",
       "      <th>5</th>\n",
       "      <td>-18.994975</td>\n",
       "      <td>-18328.334514</td>\n",
       "    </tr>\n",
       "    <tr>\n",
       "      <th>...</th>\n",
       "      <td>...</td>\n",
       "      <td>...</td>\n",
       "    </tr>\n",
       "    <tr>\n",
       "      <th>24</th>\n",
       "      <td>18.391960</td>\n",
       "      <td>16600.402306</td>\n",
       "    </tr>\n",
       "    <tr>\n",
       "      <th>133</th>\n",
       "      <td>18.592965</td>\n",
       "      <td>18032.126893</td>\n",
       "    </tr>\n",
       "    <tr>\n",
       "      <th>36</th>\n",
       "      <td>19.195980</td>\n",
       "      <td>20198.035730</td>\n",
       "    </tr>\n",
       "    <tr>\n",
       "      <th>114</th>\n",
       "      <td>19.396985</td>\n",
       "      <td>21185.761705</td>\n",
       "    </tr>\n",
       "    <tr>\n",
       "      <th>37</th>\n",
       "      <td>19.597990</td>\n",
       "      <td>20988.017175</td>\n",
       "    </tr>\n",
       "  </tbody>\n",
       "</table>\n",
       "<p>140 rows × 2 columns</p>\n",
       "</div>"
      ],
      "text/plain": [
       "             x             y\n",
       "50  -20.000000 -21102.174393\n",
       "108 -19.798995 -24480.830706\n",
       "44  -19.597990 -21244.329925\n",
       "95  -19.396985 -20889.024222\n",
       "5   -18.994975 -18328.334514\n",
       "..         ...           ...\n",
       "24   18.391960  16600.402306\n",
       "133  18.592965  18032.126893\n",
       "36   19.195980  20198.035730\n",
       "114  19.396985  21185.761705\n",
       "37   19.597990  20988.017175\n",
       "\n",
       "[140 rows x 2 columns]"
      ]
     },
     "execution_count": 36,
     "metadata": {},
     "output_type": "execute_result"
    }
   ],
   "source": [
    "df"
   ]
  },
  {
   "cell_type": "code",
   "execution_count": 44,
   "metadata": {},
   "outputs": [],
   "source": [
    "train_mses = []\n",
    "test_mses = []\n",
    "lr = LinearRegression()\n",
    "lr.fit(df['x'].values.reshape(-1,1),df['y'])\n",
    "train_mses.append(mean_squared_error(df['y'],lr.predict(df['x'].values.reshape(-1,1))))\n",
    "test_mses.append(mean_squared_error(y_test,lr.predict(x_test)))"
   ]
  },
  {
   "cell_type": "code",
   "execution_count": 45,
   "metadata": {},
   "outputs": [
    {
     "data": {
      "text/plain": [
       "([14953619.780125747], [19219074.022714913])"
      ]
     },
     "execution_count": 45,
     "metadata": {},
     "output_type": "execute_result"
    }
   ],
   "source": [
    "train_mses,test_mses"
   ]
  },
  {
   "cell_type": "code",
   "execution_count": 47,
   "metadata": {},
   "outputs": [],
   "source": [
    "for deg in range(2,7):\n",
    "    pf = PolynomialFeatures(degree=deg)\n",
    "    inp = pf.fit_transform(df['x'].values.reshape(-1,1))\n",
    "    lr.fit(inp,df['y'].values)\n",
    "    train_mses.append(mean_squared_error(df['y'],lr.predict(inp)))\n",
    "    test_mses.append(mean_squared_error(y_test,lr.predict(pf.fit_transform(x_test))))\n"
   ]
  },
  {
   "cell_type": "code",
   "execution_count": 48,
   "metadata": {},
   "outputs": [
    {
     "data": {
      "text/plain": [
       "[14953619.780125747,\n",
       " 14792775.85899136,\n",
       " 1848214.652927669,\n",
       " 1842304.6694673616,\n",
       " 1781773.7611954715,\n",
       " 1746354.6413695032]"
      ]
     },
     "execution_count": 48,
     "metadata": {},
     "output_type": "execute_result"
    }
   ],
   "source": [
    "train_mses"
   ]
  },
  {
   "cell_type": "code",
   "execution_count": 49,
   "metadata": {},
   "outputs": [
    {
     "data": {
      "text/plain": [
       "[19219074.022714913,\n",
       " 17769262.507052276,\n",
       " 2053926.3862983056,\n",
       " 2090056.4567194425,\n",
       " 2331067.6663995185,\n",
       " 2212476.964804097]"
      ]
     },
     "execution_count": 49,
     "metadata": {},
     "output_type": "execute_result"
    }
   ],
   "source": [
    "test_mses"
   ]
  },
  {
   "cell_type": "code",
   "execution_count": 55,
   "metadata": {},
   "outputs": [
    {
     "data": {
      "image/png": "[encoded data removed]",
      "text/plain": [
       "<Figure size 640x480 with 1 Axes>"
      ]
     },
     "metadata": {},
     "output_type": "display_data"
    }
   ],
   "source": [
    "#plt.figure(figsize=(5,3))\n",
    "plt.plot(range(1,7),train_mses)\n",
    "plt.plot(range(1,7),test_mses,c= 'g')\n",
    "plt.show()"
   ]
  },
  {
   "cell_type": "code",
   "execution_count": 61,
   "metadata": {},
   "outputs": [
    {
     "data": {
      "image/png": "[encoded data removed]",
      "text/plain": [
       "<Figure size 640x480 with 1 Axes>"
      ]
     },
     "metadata": {},
     "output_type": "display_data"
    }
   ],
   "source": [
    "def f(x):\n",
    "    return 3*(x**3) + 8 * (x**2) + 2*x #- 5000 * np.random.random()\n",
    "\n",
    "x = np.linspace(0, 20, 7).reshape(-1,1) # input\n",
    "\n",
    "output = []\n",
    "for i in x:\n",
    "    output.append(f(i)[0])\n",
    "\n",
    "x_train,x_test,y_train,y_test = train_test_split(x,output,test_size=0.3,random_state=1)\n",
    "\n",
    "df = pd.DataFrame(x_train,columns=['x'])\n",
    "df['y'] = y_train\n",
    "\n",
    "df = df.sort_values('x')\n",
    "\n",
    "train_mses = []\n",
    "test_mses = []\n",
    "lr = LinearRegression()\n",
    "lr.fit(df['x'].values.reshape(-1,1),df['y'])\n",
    "train_mses.append(mean_squared_error(df['y'],lr.predict(df['x'].values.reshape(-1,1))))\n",
    "test_mses.append(mean_squared_error(y_test,lr.predict(x_test)))\n",
    "\n",
    "for deg in range(2,7):\n",
    "    pf = PolynomialFeatures(degree=deg)\n",
    "    inp = pf.fit_transform(df['x'].values.reshape(-1,1))\n",
    "    lr.fit(inp,df['y'].values)\n",
    "    train_mses.append(mean_squared_error(df['y'],lr.predict(inp)))\n",
    "    test_mses.append(mean_squared_error(y_test,lr.predict(pf.fit_transform(x_test))))\n",
    "\n",
    "#plt.figure(figsize=(5,3))\n",
    "plt.plot(range(1,7),train_mses)\n",
    "plt.plot(range(1,7),test_mses,c= 'g')\n",
    "plt.show()"
   ]
  },
  {
   "cell_type": "code",
   "execution_count": 65,
   "metadata": {},
   "outputs": [
    {
     "data": {
      "text/plain": [
       "array([[-0.69166075, -0.39675353],\n",
       "       [-0.6871727 , -0.84520564],\n",
       "       [-0.52817175, -1.07296862],\n",
       "       [ 1.13376944, -1.09989127],\n",
       "       [ 0.04221375,  0.58281521],\n",
       "       [-1.10061918,  1.14472371],\n",
       "       [ 1.65980218,  0.74204416],\n",
       "       [ 0.90159072,  0.50249434],\n",
       "       [ 0.86540763, -2.3015387 ],\n",
       "       [ 0.90085595, -0.68372786],\n",
       "       [ 1.46210794, -2.06014071],\n",
       "       [ 0.3190391 , -0.24937038],\n",
       "       [-0.3224172 , -0.38405435],\n",
       "       [-0.26788808,  0.53035547],\n",
       "       [-1.11731035,  0.2344157 ],\n",
       "       [-0.17242821, -0.87785842],\n",
       "       [ 1.62434536, -0.61175641],\n",
       "       [ 1.74481176, -0.7612069 ],\n",
       "       [-0.12289023, -0.93576943],\n",
       "       [-0.67124613, -0.0126646 ]])"
      ]
     },
     "execution_count": 65,
     "metadata": {},
     "output_type": "execute_result"
    }
   ],
   "source": [
    "from sklearn.datasets import make_regression\n",
    "x,output=make_regression(n_samples=20,n_features=2,n_informative=2,random_state=1)\n",
    "x"
   ]
  },
  {
   "cell_type": "code",
   "execution_count": 66,
   "metadata": {},
   "outputs": [
    {
     "data": {
      "image/png": "[encoded data removed]",
      "text/plain": [
       "<Figure size 640x480 with 1 Axes>"
      ]
     },
     "metadata": {},
     "output_type": "display_data"
    }
   ],
   "source": [
    "from sklearn.datasets import make_regression\n",
    "x,output=make_regression(n_samples=20,n_features=2,n_informative=2,random_state=1)\n",
    "\n",
    "x_train,x_test,y_train,y_test = train_test_split(x,output,test_size=0.3,random_state=1)\n",
    "\n",
    "train_mses = []\n",
    "test_mses = []\n",
    "lr = LinearRegression()\n",
    "lr.fit(x_train,y_train)\n",
    "train_mses.append(mean_squared_error(y_train,lr.predict(x_train)))\n",
    "test_mses.append(mean_squared_error(y_test,lr.predict(x_test)))\n",
    "\n",
    "for deg in range(2,7):\n",
    "    pf = PolynomialFeatures(degree=deg)\n",
    "    inp = pf.fit_transform(x_train)\n",
    "    lr.fit(inp,y_train)\n",
    "    train_mses.append(mean_squared_error(y_train,lr.predict(inp)))\n",
    "    test_mses.append(mean_squared_error(y_test,lr.predict(pf.fit_transform(x_test))))\n",
    "\n",
    "#plt.figure(figsize=(5,3))\n",
    "plt.plot(range(1,7),train_mses)\n",
    "plt.plot(range(1,7),test_mses,c= 'g')\n",
    "plt.show()"
   ]
  },
  {
   "cell_type": "code",
   "execution_count": 69,
   "metadata": {},
   "outputs": [],
   "source": [
    "from sklearn.datasets import load_diabetes\n",
    "dataset = load_diabetes()\n",
    "x = dataset.data\n",
    "y = dataset.target"
   ]
  },
  {
   "cell_type": "code",
   "execution_count": 71,
   "metadata": {},
   "outputs": [
    {
     "data": {
      "image/png": "[encoded data removed]",
      "text/plain": [
       "<Figure size 500x300 with 1 Axes>"
      ]
     },
     "metadata": {},
     "output_type": "display_data"
    }
   ],
   "source": [
    "from sklearn.datasets import load_diabetes\n",
    "dataset = load_diabetes()\n",
    "x = dataset.data\n",
    "y = dataset.target\n",
    "\n",
    "x_train,x_test,y_train,y_test = train_test_split(x,y,test_size=0.3,random_state=1)\n",
    "\n",
    "train_mses = []\n",
    "test_mses = []\n",
    "lr = LinearRegression()\n",
    "lr.fit(x_train,y_train)\n",
    "train_mses.append(mean_squared_error(y_train,lr.predict(x_train)))\n",
    "test_mses.append(mean_squared_error(y_test,lr.predict(x_test)))\n",
    "\n",
    "for deg in range(2,7):\n",
    "    pf = PolynomialFeatures(degree=deg)\n",
    "    inp = pf.fit_transform(x_train)\n",
    "    lr.fit(inp,y_train)\n",
    "    train_mses.append(mean_squared_error(y_train,lr.predict(inp)))\n",
    "    test_mses.append(mean_squared_error(y_test,lr.predict(pf.fit_transform(x_test))))\n",
    "\n",
    "plt.figure(figsize=(5,3))\n",
    "plt.plot(range(1,7),train_mses)\n",
    "plt.plot(range(1,7),test_mses,c= 'g')\n",
    "plt.show()"
   ]
  },
  {
   "cell_type": "code",
   "execution_count": 72,
   "metadata": {},
   "outputs": [
    {
     "data": {
      "text/plain": [
       "([2888.034578367926,\n",
       "  2282.861490684916,\n",
       "  23872.258899676377,\n",
       "  1.9029624611771298e-21,\n",
       "  1.8953179002207867e-21,\n",
       "  5.131733655512131e-21],\n",
       " [2827.084017424083,\n",
       "  3964.9279017652407,\n",
       "  2130890.77443609,\n",
       "  206434.3227506323,\n",
       "  198888.78886321944,\n",
       "  198821.66665610185])"
      ]
     },
     "execution_count": 72,
     "metadata": {},
     "output_type": "execute_result"
    }
   ],
   "source": [
    "train_mses,test_mses"
   ]
  },
  {
   "cell_type": "code",
   "execution_count": 73,
   "metadata": {},
   "outputs": [
    {
     "data": {
      "image/png": "[encoded data removed]",
      "text/plain": [
       "<Figure size 500x300 with 1 Axes>"
      ]
     },
     "metadata": {},
     "output_type": "display_data"
    }
   ],
   "source": [
    "from sklearn.datasets import load_diabetes\n",
    "dataset = load_diabetes()\n",
    "x = dataset.data\n",
    "y = dataset.target\n",
    "\n",
    "x_train,x_test,y_train,y_test = train_test_split(x,y,test_size=0.1,random_state=1)\n",
    "\n",
    "train_mses = []\n",
    "test_mses = []\n",
    "lr = LinearRegression()\n",
    "lr.fit(x_train,y_train)\n",
    "train_mses.append(mean_squared_error(y_train,lr.predict(x_train)))\n",
    "test_mses.append(mean_squared_error(y_test,lr.predict(x_test)))\n",
    "\n",
    "for deg in range(2,7):\n",
    "    pf = PolynomialFeatures(degree=deg)\n",
    "    inp = pf.fit_transform(x_train)\n",
    "    lr.fit(inp,y_train)\n",
    "    train_mses.append(mean_squared_error(y_train,lr.predict(inp)))\n",
    "    test_mses.append(mean_squared_error(y_test,lr.predict(pf.fit_transform(x_test))))\n",
    "\n",
    "plt.figure(figsize=(5,3))\n",
    "plt.plot(range(1,7),train_mses)\n",
    "plt.plot(range(1,7),test_mses,c= 'g')\n",
    "plt.show()"
   ]
  },
  {
   "cell_type": "code",
   "execution_count": 74,
   "metadata": {},
   "outputs": [
    {
     "data": {
      "image/png": "[encoded data removed]",
      "text/plain": [
       "<Figure size 500x300 with 1 Axes>"
      ]
     },
     "metadata": {},
     "output_type": "display_data"
    }
   ],
   "source": [
    "from sklearn.datasets import load_diabetes\n",
    "dataset = load_diabetes()\n",
    "x = dataset.data\n",
    "y = dataset.target\n",
    "\n",
    "x_train,x_test,y_train,y_test = train_test_split(x,y,test_size=0.2,random_state=1)\n",
    "\n",
    "train_mses = []\n",
    "test_mses = []\n",
    "lr = LinearRegression()\n",
    "lr.fit(x_train,y_train)\n",
    "train_mses.append(mean_squared_error(y_train,lr.predict(x_train)))\n",
    "test_mses.append(mean_squared_error(y_test,lr.predict(x_test)))\n",
    "\n",
    "for deg in range(2,7):\n",
    "    pf = PolynomialFeatures(degree=deg)\n",
    "    inp = pf.fit_transform(x_train)\n",
    "    lr.fit(inp,y_train)\n",
    "    train_mses.append(mean_squared_error(y_train,lr.predict(inp)))\n",
    "    test_mses.append(mean_squared_error(y_test,lr.predict(pf.fit_transform(x_test))))\n",
    "\n",
    "plt.figure(figsize=(5,3))\n",
    "plt.plot(range(1,7),train_mses)\n",
    "plt.plot(range(1,7),test_mses,c= 'g')\n",
    "plt.show()"
   ]
  },
  {
   "cell_type": "code",
   "execution_count": 78,
   "metadata": {},
   "outputs": [
    {
     "data": {
      "text/plain": [
       "-2993.0813104693307"
      ]
     },
     "execution_count": 78,
     "metadata": {},
     "output_type": "execute_result"
    }
   ],
   "source": [
    "from sklearn.model_selection import KFold,cross_val_score\n",
    "kf = KFold(n_splits=5)\n",
    "\n",
    "from sklearn.pipeline import Pipeline\n",
    "from sklearn.preprocessing import StandardScaler\n",
    "\n",
    "mysteps = [(\"ss\",StandardScaler()),(\"lr\",LinearRegression())]\n",
    "\n",
    "mypipe = Pipeline(steps=mysteps)\n",
    "cross_val_score(mypipe , x, y, cv=kf, scoring='neg_mean_squared_error').mean()"
   ]
  },
  {
   "cell_type": "code",
   "execution_count": 79,
   "metadata": {},
   "outputs": [
    {
     "data": {
      "text/html": [
       "<style>#sk-container-id-3 {color: black;background-color: white;}#sk-container-id-3 pre{padding: 0;}#sk-container-id-3 div.sk-toggleable {background-color: white;}#sk-container-id-3 label.sk-toggleable__label {cursor: pointer;display: block;width: 100%;margin-bottom: 0;padding: 0.3em;box-sizing: border-box;text-align: center;}#sk-container-id-3 label.sk-toggleable__label-arrow:before {content: \"▸\";float: left;margin-right: 0.25em;color: #696969;}#sk-container-id-3 label.sk-toggleable__label-arrow:hover:before {color: black;}#sk-container-id-3 div.sk-estimator:hover label.sk-toggleable__label-arrow:before {color: black;}#sk-container-id-3 div.sk-toggleable__content {max-height: 0;max-width: 0;overflow: hidden;text-align: left;background-color: #f0f8ff;}#sk-container-id-3 div.sk-toggleable__content pre {margin: 0.2em;color: black;border-radius: 0.25em;background-color: #f0f8ff;}#sk-container-id-3 input.sk-toggleable__control:checked~div.sk-toggleable__content {max-height: 200px;max-width: 100%;overflow: auto;}#sk-container-id-3 input.sk-toggleable__control:checked~label.sk-toggleable__label-arrow:before {content: \"▾\";}#sk-container-id-3 div.sk-estimator input.sk-toggleable__control:checked~label.sk-toggleable__label {background-color: #d4ebff;}#sk-container-id-3 div.sk-label input.sk-toggleable__control:checked~label.sk-toggleable__label {background-color: #d4ebff;}#sk-container-id-3 input.sk-hidden--visually {border: 0;clip: rect(1px 1px 1px 1px);clip: rect(1px, 1px, 1px, 1px);height: 1px;margin: -1px;overflow: hidden;padding: 0;position: absolute;width: 1px;}#sk-container-id-3 div.sk-estimator {font-family: monospace;background-color: #f0f8ff;border: 1px dotted black;border-radius: 0.25em;box-sizing: border-box;margin-bottom: 0.5em;}#sk-container-id-3 div.sk-estimator:hover {background-color: #d4ebff;}#sk-container-id-3 div.sk-parallel-item::after {content: \"\";width: 100%;border-bottom: 1px solid gray;flex-grow: 1;}#sk-container-id-3 div.sk-label:hover label.sk-toggleable__label {background-color: #d4ebff;}#sk-container-id-3 div.sk-serial::before {content: \"\";position: absolute;border-left: 1px solid gray;box-sizing: border-box;top: 0;bottom: 0;left: 50%;z-index: 0;}#sk-container-id-3 div.sk-serial {display: flex;flex-direction: column;align-items: center;background-color: white;padding-right: 0.2em;padding-left: 0.2em;position: relative;}#sk-container-id-3 div.sk-item {position: relative;z-index: 1;}#sk-container-id-3 div.sk-parallel {display: flex;align-items: stretch;justify-content: center;background-color: white;position: relative;}#sk-container-id-3 div.sk-item::before, #sk-container-id-3 div.sk-parallel-item::before {content: \"\";position: absolute;border-left: 1px solid gray;box-sizing: border-box;top: 0;bottom: 0;left: 50%;z-index: -1;}#sk-container-id-3 div.sk-parallel-item {display: flex;flex-direction: column;z-index: 1;position: relative;background-color: white;}#sk-container-id-3 div.sk-parallel-item:first-child::after {align-self: flex-end;width: 50%;}#sk-container-id-3 div.sk-parallel-item:last-child::after {align-self: flex-start;width: 50%;}#sk-container-id-3 div.sk-parallel-item:only-child::after {width: 0;}#sk-container-id-3 div.sk-dashed-wrapped {border: 1px dashed gray;margin: 0 0.4em 0.5em 0.4em;box-sizing: border-box;padding-bottom: 0.4em;background-color: white;}#sk-container-id-3 div.sk-label label {font-family: monospace;font-weight: bold;display: inline-block;line-height: 1.2em;}#sk-container-id-3 div.sk-label-container {text-align: center;}#sk-container-id-3 div.sk-container {/* jupyter's `normalize.less` sets `[hidden] { display: none; }` but bootstrap.min.css set `[hidden] { display: none !important; }` so we also need the `!important` here to be able to override the default hidden behavior on the sphinx rendered scikit-learn.org. See: https://github.com/scikit-learn/scikit-learn/issues/21755 */display: inline-block !important;position: relative;}#sk-container-id-3 div.sk-text-repr-fallback {display: none;}</style><div id=\"sk-container-id-3\" class=\"sk-top-container\"><div class=\"sk-text-repr-fallback\"><pre>GridSearchCV(cv=KFold(n_splits=5, random_state=None, shuffle=False),\n",
       "             estimator=Pipeline(steps=[(&#x27;ss&#x27;, StandardScaler()),\n",
       "                                       (&#x27;pf&#x27;, PolynomialFeatures()),\n",
       "                                       (&#x27;lr&#x27;, LinearRegression())]),\n",
       "             param_grid={&#x27;pf__degree&#x27;: range(2, 9)},\n",
       "             scoring=&#x27;neg_mean_squared_error&#x27;)</pre><b>In a Jupyter environment, please rerun this cell to show the HTML representation or trust the notebook. <br />On GitHub, the HTML representation is unable to render, please try loading this page with nbviewer.org.</b></div><div class=\"sk-container\" hidden><div class=\"sk-item sk-dashed-wrapped\"><div class=\"sk-label-container\"><div class=\"sk-label sk-toggleable\"><input class=\"sk-toggleable__control sk-hidden--visually\" id=\"sk-estimator-id-3\" type=\"checkbox\" ><label for=\"sk-estimator-id-3\" class=\"sk-toggleable__label sk-toggleable__label-arrow\">GridSearchCV</label><div class=\"sk-toggleable__content\"><pre>GridSearchCV(cv=KFold(n_splits=5, random_state=None, shuffle=False),\n",
       "             estimator=Pipeline(steps=[(&#x27;ss&#x27;, StandardScaler()),\n",
       "                                       (&#x27;pf&#x27;, PolynomialFeatures()),\n",
       "                                       (&#x27;lr&#x27;, LinearRegression())]),\n",
       "             param_grid={&#x27;pf__degree&#x27;: range(2, 9)},\n",
       "             scoring=&#x27;neg_mean_squared_error&#x27;)</pre></div></div></div><div class=\"sk-parallel\"><div class=\"sk-parallel-item\"><div class=\"sk-item\"><div class=\"sk-label-container\"><div class=\"sk-label sk-toggleable\"><input class=\"sk-toggleable__control sk-hidden--visually\" id=\"sk-estimator-id-4\" type=\"checkbox\" ><label for=\"sk-estimator-id-4\" class=\"sk-toggleable__label sk-toggleable__label-arrow\">estimator: Pipeline</label><div class=\"sk-toggleable__content\"><pre>Pipeline(steps=[(&#x27;ss&#x27;, StandardScaler()), (&#x27;pf&#x27;, PolynomialFeatures()),\n",
       "                (&#x27;lr&#x27;, LinearRegression())])</pre></div></div></div><div class=\"sk-serial\"><div class=\"sk-item\"><div class=\"sk-serial\"><div class=\"sk-item\"><div class=\"sk-estimator sk-toggleable\"><input class=\"sk-toggleable__control sk-hidden--visually\" id=\"sk-estimator-id-5\" type=\"checkbox\" ><label for=\"sk-estimator-id-5\" class=\"sk-toggleable__label sk-toggleable__label-arrow\">StandardScaler</label><div class=\"sk-toggleable__content\"><pre>StandardScaler()</pre></div></div></div><div class=\"sk-item\"><div class=\"sk-estimator sk-toggleable\"><input class=\"sk-toggleable__control sk-hidden--visually\" id=\"sk-estimator-id-6\" type=\"checkbox\" ><label for=\"sk-estimator-id-6\" class=\"sk-toggleable__label sk-toggleable__label-arrow\">PolynomialFeatures</label><div class=\"sk-toggleable__content\"><pre>PolynomialFeatures()</pre></div></div></div><div class=\"sk-item\"><div class=\"sk-estimator sk-toggleable\"><input class=\"sk-toggleable__control sk-hidden--visually\" id=\"sk-estimator-id-7\" type=\"checkbox\" ><label for=\"sk-estimator-id-7\" class=\"sk-toggleable__label sk-toggleable__label-arrow\">LinearRegression</label><div class=\"sk-toggleable__content\"><pre>LinearRegression()</pre></div></div></div></div></div></div></div></div></div></div></div></div>"
      ],
      "text/plain": [
       "GridSearchCV(cv=KFold(n_splits=5, random_state=None, shuffle=False),\n",
       "             estimator=Pipeline(steps=[('ss', StandardScaler()),\n",
       "                                       ('pf', PolynomialFeatures()),\n",
       "                                       ('lr', LinearRegression())]),\n",
       "             param_grid={'pf__degree': range(2, 9)},\n",
       "             scoring='neg_mean_squared_error')"
      ]
     },
     "execution_count": 79,
     "metadata": {},
     "output_type": "execute_result"
    }
   ],
   "source": [
    "from sklearn.model_selection import GridSearchCV\n",
    "\n",
    "mysteps = [(\"ss\",StandardScaler()),(\"pf\",PolynomialFeatures()),(\"lr\",LinearRegression())]\n",
    "\n",
    "mypipe = Pipeline(steps=mysteps)\n",
    "\n",
    "hyper_params = {\"pf__degree\":range(2,9)}\n",
    "\n",
    "gc = GridSearchCV(mypipe, param_grid=hyper_params, cv=kf, scoring='neg_mean_squared_error')\n",
    "gc.fit(x,y)"
   ]
  },
  {
   "cell_type": "code",
   "execution_count": 80,
   "metadata": {},
   "outputs": [
    {
     "data": {
      "text/html": [
       "<style>#sk-container-id-4 {color: black;background-color: white;}#sk-container-id-4 pre{padding: 0;}#sk-container-id-4 div.sk-toggleable {background-color: white;}#sk-container-id-4 label.sk-toggleable__label {cursor: pointer;display: block;width: 100%;margin-bottom: 0;padding: 0.3em;box-sizing: border-box;text-align: center;}#sk-container-id-4 label.sk-toggleable__label-arrow:before {content: \"▸\";float: left;margin-right: 0.25em;color: #696969;}#sk-container-id-4 label.sk-toggleable__label-arrow:hover:before {color: black;}#sk-container-id-4 div.sk-estimator:hover label.sk-toggleable__label-arrow:before {color: black;}#sk-container-id-4 div.sk-toggleable__content {max-height: 0;max-width: 0;overflow: hidden;text-align: left;background-color: #f0f8ff;}#sk-container-id-4 div.sk-toggleable__content pre {margin: 0.2em;color: black;border-radius: 0.25em;background-color: #f0f8ff;}#sk-container-id-4 input.sk-toggleable__control:checked~div.sk-toggleable__content {max-height: 200px;max-width: 100%;overflow: auto;}#sk-container-id-4 input.sk-toggleable__control:checked~label.sk-toggleable__label-arrow:before {content: \"▾\";}#sk-container-id-4 div.sk-estimator input.sk-toggleable__control:checked~label.sk-toggleable__label {background-color: #d4ebff;}#sk-container-id-4 div.sk-label input.sk-toggleable__control:checked~label.sk-toggleable__label {background-color: #d4ebff;}#sk-container-id-4 input.sk-hidden--visually {border: 0;clip: rect(1px 1px 1px 1px);clip: rect(1px, 1px, 1px, 1px);height: 1px;margin: -1px;overflow: hidden;padding: 0;position: absolute;width: 1px;}#sk-container-id-4 div.sk-estimator {font-family: monospace;background-color: #f0f8ff;border: 1px dotted black;border-radius: 0.25em;box-sizing: border-box;margin-bottom: 0.5em;}#sk-container-id-4 div.sk-estimator:hover {background-color: #d4ebff;}#sk-container-id-4 div.sk-parallel-item::after {content: \"\";width: 100%;border-bottom: 1px solid gray;flex-grow: 1;}#sk-container-id-4 div.sk-label:hover label.sk-toggleable__label {background-color: #d4ebff;}#sk-container-id-4 div.sk-serial::before {content: \"\";position: absolute;border-left: 1px solid gray;box-sizing: border-box;top: 0;bottom: 0;left: 50%;z-index: 0;}#sk-container-id-4 div.sk-serial {display: flex;flex-direction: column;align-items: center;background-color: white;padding-right: 0.2em;padding-left: 0.2em;position: relative;}#sk-container-id-4 div.sk-item {position: relative;z-index: 1;}#sk-container-id-4 div.sk-parallel {display: flex;align-items: stretch;justify-content: center;background-color: white;position: relative;}#sk-container-id-4 div.sk-item::before, #sk-container-id-4 div.sk-parallel-item::before {content: \"\";position: absolute;border-left: 1px solid gray;box-sizing: border-box;top: 0;bottom: 0;left: 50%;z-index: -1;}#sk-container-id-4 div.sk-parallel-item {display: flex;flex-direction: column;z-index: 1;position: relative;background-color: white;}#sk-container-id-4 div.sk-parallel-item:first-child::after {align-self: flex-end;width: 50%;}#sk-container-id-4 div.sk-parallel-item:last-child::after {align-self: flex-start;width: 50%;}#sk-container-id-4 div.sk-parallel-item:only-child::after {width: 0;}#sk-container-id-4 div.sk-dashed-wrapped {border: 1px dashed gray;margin: 0 0.4em 0.5em 0.4em;box-sizing: border-box;padding-bottom: 0.4em;background-color: white;}#sk-container-id-4 div.sk-label label {font-family: monospace;font-weight: bold;display: inline-block;line-height: 1.2em;}#sk-container-id-4 div.sk-label-container {text-align: center;}#sk-container-id-4 div.sk-container {/* jupyter's `normalize.less` sets `[hidden] { display: none; }` but bootstrap.min.css set `[hidden] { display: none !important; }` so we also need the `!important` here to be able to override the default hidden behavior on the sphinx rendered scikit-learn.org. See: https://github.com/scikit-learn/scikit-learn/issues/21755 */display: inline-block !important;position: relative;}#sk-container-id-4 div.sk-text-repr-fallback {display: none;}</style><div id=\"sk-container-id-4\" class=\"sk-top-container\"><div class=\"sk-text-repr-fallback\"><pre>Pipeline(steps=[(&#x27;ss&#x27;, StandardScaler()), (&#x27;pf&#x27;, PolynomialFeatures()),\n",
       "                (&#x27;lr&#x27;, LinearRegression())])</pre><b>In a Jupyter environment, please rerun this cell to show the HTML representation or trust the notebook. <br />On GitHub, the HTML representation is unable to render, please try loading this page with nbviewer.org.</b></div><div class=\"sk-container\" hidden><div class=\"sk-item sk-dashed-wrapped\"><div class=\"sk-label-container\"><div class=\"sk-label sk-toggleable\"><input class=\"sk-toggleable__control sk-hidden--visually\" id=\"sk-estimator-id-8\" type=\"checkbox\" ><label for=\"sk-estimator-id-8\" class=\"sk-toggleable__label sk-toggleable__label-arrow\">Pipeline</label><div class=\"sk-toggleable__content\"><pre>Pipeline(steps=[(&#x27;ss&#x27;, StandardScaler()), (&#x27;pf&#x27;, PolynomialFeatures()),\n",
       "                (&#x27;lr&#x27;, LinearRegression())])</pre></div></div></div><div class=\"sk-serial\"><div class=\"sk-item\"><div class=\"sk-estimator sk-toggleable\"><input class=\"sk-toggleable__control sk-hidden--visually\" id=\"sk-estimator-id-9\" type=\"checkbox\" ><label for=\"sk-estimator-id-9\" class=\"sk-toggleable__label sk-toggleable__label-arrow\">StandardScaler</label><div class=\"sk-toggleable__content\"><pre>StandardScaler()</pre></div></div></div><div class=\"sk-item\"><div class=\"sk-estimator sk-toggleable\"><input class=\"sk-toggleable__control sk-hidden--visually\" id=\"sk-estimator-id-10\" type=\"checkbox\" ><label for=\"sk-estimator-id-10\" class=\"sk-toggleable__label sk-toggleable__label-arrow\">PolynomialFeatures</label><div class=\"sk-toggleable__content\"><pre>PolynomialFeatures()</pre></div></div></div><div class=\"sk-item\"><div class=\"sk-estimator sk-toggleable\"><input class=\"sk-toggleable__control sk-hidden--visually\" id=\"sk-estimator-id-11\" type=\"checkbox\" ><label for=\"sk-estimator-id-11\" class=\"sk-toggleable__label sk-toggleable__label-arrow\">LinearRegression</label><div class=\"sk-toggleable__content\"><pre>LinearRegression()</pre></div></div></div></div></div></div></div>"
      ],
      "text/plain": [
       "Pipeline(steps=[('ss', StandardScaler()), ('pf', PolynomialFeatures()),\n",
       "                ('lr', LinearRegression())])"
      ]
     },
     "execution_count": 80,
     "metadata": {},
     "output_type": "execute_result"
    }
   ],
   "source": [
    "gc.best_estimator_"
   ]
  },
  {
   "cell_type": "code",
   "execution_count": 81,
   "metadata": {},
   "outputs": [
    {
     "data": {
      "text/plain": [
       "{'pf__degree': 2}"
      ]
     },
     "execution_count": 81,
     "metadata": {},
     "output_type": "execute_result"
    }
   ],
   "source": [
    "gc.best_params_"
   ]
  },
  {
   "cell_type": "code",
   "execution_count": 83,
   "metadata": {},
   "outputs": [
    {
     "data": {
      "text/plain": [
       "-3489.584263762196"
      ]
     },
     "execution_count": 83,
     "metadata": {},
     "output_type": "execute_result"
    }
   ],
   "source": [
    "gc.best_score_"
   ]
  },
  {
   "cell_type": "code",
   "execution_count": null,
   "metadata": {},
   "outputs": [],
   "source": []
  }
 ],
 "metadata": {
  "kernelspec": {
   "display_name": "base",
   "language": "python",
   "name": "python3"
  },
  "language_info": {
   "codemirror_mode": {
    "name": "ipython",
    "version": 3
   },
   "file_extension": ".py",
   "mimetype": "text/x-python",
   "name": "python",
   "nbconvert_exporter": "python",
   "pygments_lexer": "ipython3",
   "version": "3.9.13"
  }
 },
 "nbformat": 4,
 "nbformat_minor": 2
}
